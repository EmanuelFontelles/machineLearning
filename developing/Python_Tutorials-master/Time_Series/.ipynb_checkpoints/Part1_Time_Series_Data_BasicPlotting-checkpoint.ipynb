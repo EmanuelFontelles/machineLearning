{
 "cells": [
  {
   "cell_type": "markdown",
   "metadata": {},
   "source": [
    "<h1 align=\"center\"> Part 1: Getting Time Series Data and Plotting</h1>"
   ]
  },
  {
   "cell_type": "markdown",
   "metadata": {},
   "source": [
    "This code demonstrates how to view time series data with pandas and various methods of sampling, smoothing (rolling mean), and applying linear regression to the data. \n",
    "\n",
    "**if this tutorial doesn't cover what you are looking for, please leave a comment on the youtube video and I will try to cover what you are interested in.**"
   ]
  },
  {
   "cell_type": "markdown",
   "metadata": {},
   "source": [
    "https://www.youtube.com/watch?v=OwnaUVt6VVE"
   ]
  },
  {
   "cell_type": "markdown",
   "metadata": {},
   "source": [
    "<h3 align='Left'> Importing Libraries</h3>"
   ]
  },
  {
   "cell_type": "code",
   "execution_count": 161,
   "metadata": {
    "collapsed": false
   },
   "outputs": [],
   "source": [
    "import pandas as pd\n",
    "import pandas_datareader.data as web\n",
    "import numpy as np\n",
    "import matplotlib.pyplot as plt\n",
    "from sklearn.linear_model import LinearRegression\n",
    "%matplotlib inline"
   ]
  },
  {
   "cell_type": "markdown",
   "metadata": {},
   "source": [
    "<h3 align='Left'> Getting Data and Viewing with Pandas </h3>"
   ]
  },
  {
   "cell_type": "code",
   "execution_count": 162,
   "metadata": {
    "collapsed": false
   },
   "outputs": [
    {
     "data": {
      "text/html": [
       "<div>\n",
       "<table border=\"1\" class=\"dataframe\">\n",
       "  <thead>\n",
       "    <tr style=\"text-align: right;\">\n",
       "      <th></th>\n",
       "      <th>Open</th>\n",
       "      <th>High</th>\n",
       "      <th>Low</th>\n",
       "      <th>Close</th>\n",
       "    </tr>\n",
       "    <tr>\n",
       "      <th>Date</th>\n",
       "      <th></th>\n",
       "      <th></th>\n",
       "      <th></th>\n",
       "      <th></th>\n",
       "    </tr>\n",
       "  </thead>\n",
       "  <tbody>\n",
       "    <tr>\n",
       "      <th>2009-03-16</th>\n",
       "      <td>162.83</td>\n",
       "      <td>164.70</td>\n",
       "      <td>159.14</td>\n",
       "      <td>159.69</td>\n",
       "    </tr>\n",
       "    <tr>\n",
       "      <th>2009-03-17</th>\n",
       "      <td>159.93</td>\n",
       "      <td>167.50</td>\n",
       "      <td>159.39</td>\n",
       "      <td>167.50</td>\n",
       "    </tr>\n",
       "    <tr>\n",
       "      <th>2009-03-18</th>\n",
       "      <td>167.24</td>\n",
       "      <td>169.83</td>\n",
       "      <td>163.86</td>\n",
       "      <td>166.38</td>\n",
       "    </tr>\n",
       "    <tr>\n",
       "      <th>2009-03-19</th>\n",
       "      <td>165.67</td>\n",
       "      <td>167.83</td>\n",
       "      <td>163.53</td>\n",
       "      <td>164.81</td>\n",
       "    </tr>\n",
       "    <tr>\n",
       "      <th>2009-03-20</th>\n",
       "      <td>164.98</td>\n",
       "      <td>166.33</td>\n",
       "      <td>163.01</td>\n",
       "      <td>164.91</td>\n",
       "    </tr>\n",
       "  </tbody>\n",
       "</table>\n",
       "</div>"
      ],
      "text/plain": [
       "              Open    High     Low   Close\n",
       "Date                                      \n",
       "2009-03-16  162.83  164.70  159.14  159.69\n",
       "2009-03-17  159.93  167.50  159.39  167.50\n",
       "2009-03-18  167.24  169.83  163.86  166.38\n",
       "2009-03-19  165.67  167.83  163.53  164.81\n",
       "2009-03-20  164.98  166.33  163.01  164.91"
      ]
     },
     "execution_count": 162,
     "metadata": {},
     "output_type": "execute_result"
    }
   ],
   "source": [
    "# https://pandas-datareader.readthedocs.io/en/latest/remote_data.html\n",
    "google = web.DataReader('GOOG', data_source = 'google', start = '3/14/2009', end = '4/14/2016')\n",
    "google = google.drop('Volume', axis = 1 )\n",
    "google.head()"
   ]
  },
  {
   "cell_type": "markdown",
   "metadata": {
    "collapsed": true
   },
   "source": [
    "<h3 align='Left'> Adding Column </h3>"
   ]
  },
  {
   "cell_type": "code",
   "execution_count": 137,
   "metadata": {
    "collapsed": false
   },
   "outputs": [],
   "source": [
    "google['Ticks'] = range(0,len(google.index.values))"
   ]
  },
  {
   "cell_type": "code",
   "execution_count": 138,
   "metadata": {
    "collapsed": false
   },
   "outputs": [
    {
     "data": {
      "text/html": [
       "<div>\n",
       "<table border=\"1\" class=\"dataframe\">\n",
       "  <thead>\n",
       "    <tr style=\"text-align: right;\">\n",
       "      <th></th>\n",
       "      <th>Open</th>\n",
       "      <th>High</th>\n",
       "      <th>Low</th>\n",
       "      <th>Close</th>\n",
       "      <th>Ticks</th>\n",
       "    </tr>\n",
       "    <tr>\n",
       "      <th>Date</th>\n",
       "      <th></th>\n",
       "      <th></th>\n",
       "      <th></th>\n",
       "      <th></th>\n",
       "      <th></th>\n",
       "    </tr>\n",
       "  </thead>\n",
       "  <tbody>\n",
       "    <tr>\n",
       "      <th>2009-03-16</th>\n",
       "      <td>162.83</td>\n",
       "      <td>164.70</td>\n",
       "      <td>159.14</td>\n",
       "      <td>159.69</td>\n",
       "      <td>0</td>\n",
       "    </tr>\n",
       "    <tr>\n",
       "      <th>2009-03-17</th>\n",
       "      <td>159.93</td>\n",
       "      <td>167.50</td>\n",
       "      <td>159.39</td>\n",
       "      <td>167.50</td>\n",
       "      <td>1</td>\n",
       "    </tr>\n",
       "    <tr>\n",
       "      <th>2009-03-18</th>\n",
       "      <td>167.24</td>\n",
       "      <td>169.83</td>\n",
       "      <td>163.86</td>\n",
       "      <td>166.38</td>\n",
       "      <td>2</td>\n",
       "    </tr>\n",
       "    <tr>\n",
       "      <th>2009-03-19</th>\n",
       "      <td>165.67</td>\n",
       "      <td>167.83</td>\n",
       "      <td>163.53</td>\n",
       "      <td>164.81</td>\n",
       "      <td>3</td>\n",
       "    </tr>\n",
       "    <tr>\n",
       "      <th>2009-03-20</th>\n",
       "      <td>164.98</td>\n",
       "      <td>166.33</td>\n",
       "      <td>163.01</td>\n",
       "      <td>164.91</td>\n",
       "      <td>4</td>\n",
       "    </tr>\n",
       "  </tbody>\n",
       "</table>\n",
       "</div>"
      ],
      "text/plain": [
       "              Open    High     Low   Close  Ticks\n",
       "Date                                             \n",
       "2009-03-16  162.83  164.70  159.14  159.69      0\n",
       "2009-03-17  159.93  167.50  159.39  167.50      1\n",
       "2009-03-18  167.24  169.83  163.86  166.38      2\n",
       "2009-03-19  165.67  167.83  163.53  164.81      3\n",
       "2009-03-20  164.98  166.33  163.01  164.91      4"
      ]
     },
     "execution_count": 138,
     "metadata": {},
     "output_type": "execute_result"
    }
   ],
   "source": [
    "google.head()"
   ]
  },
  {
   "cell_type": "markdown",
   "metadata": {},
   "source": [
    "<h3 align='Left'> Plotting Ticks vs Open Price</h3>"
   ]
  },
  {
   "cell_type": "code",
   "execution_count": 139,
   "metadata": {
    "collapsed": false
   },
   "outputs": [
    {
     "data": {
      "image/png": "[encoded data removed]",
      "text/plain": [
       "<matplotlib.figure.Figure at 0x12003a650>"
      ]
     },
     "metadata": {},
     "output_type": "display_data"
    }
   ],
   "source": [
    "#very simple plotting\n",
    "fig = plt.figure(1)\n",
    "ax1 = fig.add_subplot(111)\n",
    "ax1.set_xlabel('Ticks')\n",
    "ax1.set_ylabel('Price')\n",
    "ax1.set_title('Original Plot')\n",
    "ax1.plot('Ticks', 'Open', data = google);"
   ]
  },
  {
   "cell_type": "markdown",
   "metadata": {},
   "source": [
    "<h3 align='Left'> Sampling 1/10th of the Data</h3>"
   ]
  },
  {
   "cell_type": "code",
   "execution_count": 140,
   "metadata": {
    "collapsed": false
   },
   "outputs": [],
   "source": [
    "one_tenth = google.sample(frac = .1, random_state=np.random.randint(10))"
   ]
  },
  {
   "cell_type": "code",
   "execution_count": 141,
   "metadata": {
    "collapsed": false
   },
   "outputs": [
    {
     "data": {
      "text/html": [
       "<div>\n",
       "<table border=\"1\" class=\"dataframe\">\n",
       "  <thead>\n",
       "    <tr style=\"text-align: right;\">\n",
       "      <th></th>\n",
       "      <th>Open</th>\n",
       "      <th>High</th>\n",
       "      <th>Low</th>\n",
       "      <th>Close</th>\n",
       "      <th>Ticks</th>\n",
       "    </tr>\n",
       "    <tr>\n",
       "      <th>Date</th>\n",
       "      <th></th>\n",
       "      <th></th>\n",
       "      <th></th>\n",
       "      <th></th>\n",
       "      <th></th>\n",
       "    </tr>\n",
       "  </thead>\n",
       "  <tbody>\n",
       "    <tr>\n",
       "      <th>2015-07-24</th>\n",
       "      <td>647.00</td>\n",
       "      <td>648.17</td>\n",
       "      <td>622.52</td>\n",
       "      <td>623.56</td>\n",
       "      <td>1600</td>\n",
       "    </tr>\n",
       "    <tr>\n",
       "      <th>2009-12-15</th>\n",
       "      <td>296.35</td>\n",
       "      <td>297.89</td>\n",
       "      <td>295.20</td>\n",
       "      <td>296.27</td>\n",
       "      <td>191</td>\n",
       "    </tr>\n",
       "    <tr>\n",
       "      <th>2015-12-16</th>\n",
       "      <td>750.00</td>\n",
       "      <td>760.59</td>\n",
       "      <td>739.44</td>\n",
       "      <td>758.09</td>\n",
       "      <td>1701</td>\n",
       "    </tr>\n",
       "    <tr>\n",
       "      <th>2015-03-24</th>\n",
       "      <td>562.56</td>\n",
       "      <td>574.59</td>\n",
       "      <td>561.21</td>\n",
       "      <td>570.19</td>\n",
       "      <td>1515</td>\n",
       "    </tr>\n",
       "    <tr>\n",
       "      <th>2013-10-23</th>\n",
       "      <td>500.00</td>\n",
       "      <td>516.86</td>\n",
       "      <td>499.81</td>\n",
       "      <td>515.19</td>\n",
       "      <td>1160</td>\n",
       "    </tr>\n",
       "  </tbody>\n",
       "</table>\n",
       "</div>"
      ],
      "text/plain": [
       "              Open    High     Low   Close  Ticks\n",
       "Date                                             \n",
       "2015-07-24  647.00  648.17  622.52  623.56   1600\n",
       "2009-12-15  296.35  297.89  295.20  296.27    191\n",
       "2015-12-16  750.00  760.59  739.44  758.09   1701\n",
       "2015-03-24  562.56  574.59  561.21  570.19   1515\n",
       "2013-10-23  500.00  516.86  499.81  515.19   1160"
      ]
     },
     "execution_count": 141,
     "metadata": {},
     "output_type": "execute_result"
    }
   ],
   "source": [
    "one_tenth.head()"
   ]
  },
  {
   "cell_type": "markdown",
   "metadata": {
    "collapsed": true
   },
   "source": [
    "<h3 align='Left'>Reordering Data by Ticks Value</h3>"
   ]
  },
  {
   "cell_type": "code",
   "execution_count": 142,
   "metadata": {
    "collapsed": false
   },
   "outputs": [
    {
     "data": {
      "text/html": [
       "<div>\n",
       "<table border=\"1\" class=\"dataframe\">\n",
       "  <thead>\n",
       "    <tr style=\"text-align: right;\">\n",
       "      <th></th>\n",
       "      <th>Open</th>\n",
       "      <th>High</th>\n",
       "      <th>Low</th>\n",
       "      <th>Close</th>\n",
       "      <th>Ticks</th>\n",
       "    </tr>\n",
       "  </thead>\n",
       "  <tbody>\n",
       "    <tr>\n",
       "      <th>2009-03-20</th>\n",
       "      <td>164.98</td>\n",
       "      <td>166.33</td>\n",
       "      <td>163.01</td>\n",
       "      <td>164.91</td>\n",
       "      <td>4</td>\n",
       "    </tr>\n",
       "    <tr>\n",
       "      <th>2009-04-20</th>\n",
       "      <td>192.88</td>\n",
       "      <td>195.13</td>\n",
       "      <td>187.76</td>\n",
       "      <td>189.46</td>\n",
       "      <td>24</td>\n",
       "    </tr>\n",
       "    <tr>\n",
       "      <th>2009-05-28</th>\n",
       "      <td>204.14</td>\n",
       "      <td>205.60</td>\n",
       "      <td>202.10</td>\n",
       "      <td>204.99</td>\n",
       "      <td>51</td>\n",
       "    </tr>\n",
       "    <tr>\n",
       "      <th>2009-06-03</th>\n",
       "      <td>212.79</td>\n",
       "      <td>216.02</td>\n",
       "      <td>211.79</td>\n",
       "      <td>215.61</td>\n",
       "      <td>55</td>\n",
       "    </tr>\n",
       "    <tr>\n",
       "      <th>2009-06-04</th>\n",
       "      <td>217.43</td>\n",
       "      <td>220.40</td>\n",
       "      <td>217.03</td>\n",
       "      <td>219.92</td>\n",
       "      <td>56</td>\n",
       "    </tr>\n",
       "  </tbody>\n",
       "</table>\n",
       "</div>"
      ],
      "text/plain": [
       "              Open    High     Low   Close  Ticks\n",
       "2009-03-20  164.98  166.33  163.01  164.91      4\n",
       "2009-04-20  192.88  195.13  187.76  189.46     24\n",
       "2009-05-28  204.14  205.60  202.10  204.99     51\n",
       "2009-06-03  212.79  216.02  211.79  215.61     55\n",
       "2009-06-04  217.43  220.40  217.03  219.92     56"
      ]
     },
     "execution_count": 142,
     "metadata": {},
     "output_type": "execute_result"
    }
   ],
   "source": [
    "# removing index name\n",
    "one_tenth.index.name = None\n",
    "one_tenth = one_tenth.sort_values(by=['Ticks'], ascending=[True])\n",
    "one_tenth.head()"
   ]
  },
  {
   "cell_type": "markdown",
   "metadata": {},
   "source": [
    "<h3 align='Left'> Plotting Ticks vs Open Price on Sampled Data</h3>"
   ]
  },
  {
   "cell_type": "code",
   "execution_count": 143,
   "metadata": {
    "collapsed": false
   },
   "outputs": [
    {
     "data": {
      "image/png": "[encoded data removed]",
      "text/plain": [
       "<matplotlib.figure.Figure at 0x11fa6fe90>"
      ]
     },
     "metadata": {},
     "output_type": "display_data"
    }
   ],
   "source": [
    "axes = one_tenth.plot('Ticks', 'Open', legend = False, title = 'Sampled Plot');\n",
    "axes.legend = None;\n",
    "axes.set_ylabel('Price');"
   ]
  },
  {
   "cell_type": "markdown",
   "metadata": {},
   "source": [
    "<h3 align='Left'> Plotting Original Data vs Sampled Data (Subplot)</h3>"
   ]
  },
  {
   "cell_type": "code",
   "execution_count": 144,
   "metadata": {
    "collapsed": false
   },
   "outputs": [
    {
     "data": {
      "image/png": "[encoded data removed]",
      "text/plain": [
       "<matplotlib.figure.Figure at 0x11d02d950>"
      ]
     },
     "metadata": {},
     "output_type": "display_data"
    }
   ],
   "source": [
    "fig, axes = plt.subplots(nrows = 1, ncols = 2, figsize = (10,5));\n",
    "axes[0].plot('Ticks', 'Open', data = google);\n",
    "axes[0].set_title('Original Plot');\n",
    "axes[1].plot('Ticks', 'Open', data = one_tenth);\n",
    "axes[1].set_title('Sampled Plot');"
   ]
  },
  {
   "cell_type": "markdown",
   "metadata": {},
   "source": [
    "<h3 align='Left'> Change the Index From Date to Ticks</h3>"
   ]
  },
  {
   "cell_type": "code",
   "execution_count": 145,
   "metadata": {
    "collapsed": false
   },
   "outputs": [
    {
     "data": {
      "text/html": [
       "<div>\n",
       "<table border=\"1\" class=\"dataframe\">\n",
       "  <thead>\n",
       "    <tr style=\"text-align: right;\">\n",
       "      <th></th>\n",
       "      <th>Date</th>\n",
       "      <th>Open</th>\n",
       "      <th>High</th>\n",
       "      <th>Low</th>\n",
       "      <th>Close</th>\n",
       "      <th>Ticks</th>\n",
       "    </tr>\n",
       "  </thead>\n",
       "  <tbody>\n",
       "    <tr>\n",
       "      <th>0</th>\n",
       "      <td>2009-03-16</td>\n",
       "      <td>162.83</td>\n",
       "      <td>164.70</td>\n",
       "      <td>159.14</td>\n",
       "      <td>159.69</td>\n",
       "      <td>0</td>\n",
       "    </tr>\n",
       "    <tr>\n",
       "      <th>1</th>\n",
       "      <td>2009-03-17</td>\n",
       "      <td>159.93</td>\n",
       "      <td>167.50</td>\n",
       "      <td>159.39</td>\n",
       "      <td>167.50</td>\n",
       "      <td>1</td>\n",
       "    </tr>\n",
       "    <tr>\n",
       "      <th>2</th>\n",
       "      <td>2009-03-18</td>\n",
       "      <td>167.24</td>\n",
       "      <td>169.83</td>\n",
       "      <td>163.86</td>\n",
       "      <td>166.38</td>\n",
       "      <td>2</td>\n",
       "    </tr>\n",
       "  </tbody>\n",
       "</table>\n",
       "</div>"
      ],
      "text/plain": [
       "        Date    Open    High     Low   Close  Ticks\n",
       "0 2009-03-16  162.83  164.70  159.14  159.69      0\n",
       "1 2009-03-17  159.93  167.50  159.39  167.50      1\n",
       "2 2009-03-18  167.24  169.83  163.86  166.38      2"
      ]
     },
     "execution_count": 145,
     "metadata": {},
     "output_type": "execute_result"
    }
   ],
   "source": [
    "#google.index = google['Ticks']\n",
    "# Removing Index\n",
    "google = google.reset_index()\n",
    "google.head(3)"
   ]
  },
  {
   "cell_type": "markdown",
   "metadata": {},
   "source": [
    "<h3 align='Left'> Plotting Original Data vs Sampled vs Rolling Mean Plot (Subplot)</h3>"
   ]
  },
  {
   "cell_type": "code",
   "execution_count": 146,
   "metadata": {
    "collapsed": false
   },
   "outputs": [
    {
     "data": {
      "text/html": [
       "<div>\n",
       "<table border=\"1\" class=\"dataframe\">\n",
       "  <thead>\n",
       "    <tr style=\"text-align: right;\">\n",
       "      <th></th>\n",
       "      <th>Date</th>\n",
       "      <th>Open</th>\n",
       "      <th>High</th>\n",
       "      <th>Low</th>\n",
       "      <th>Close</th>\n",
       "      <th>Ticks</th>\n",
       "      <th>Rolling_Mean</th>\n",
       "    </tr>\n",
       "  </thead>\n",
       "  <tbody>\n",
       "    <tr>\n",
       "      <th>0</th>\n",
       "      <td>2009-03-16</td>\n",
       "      <td>162.83</td>\n",
       "      <td>164.70</td>\n",
       "      <td>159.14</td>\n",
       "      <td>159.69</td>\n",
       "      <td>0</td>\n",
       "      <td>NaN</td>\n",
       "    </tr>\n",
       "    <tr>\n",
       "      <th>1</th>\n",
       "      <td>2009-03-17</td>\n",
       "      <td>159.93</td>\n",
       "      <td>167.50</td>\n",
       "      <td>159.39</td>\n",
       "      <td>167.50</td>\n",
       "      <td>1</td>\n",
       "      <td>NaN</td>\n",
       "    </tr>\n",
       "    <tr>\n",
       "      <th>2</th>\n",
       "      <td>2009-03-18</td>\n",
       "      <td>167.24</td>\n",
       "      <td>169.83</td>\n",
       "      <td>163.86</td>\n",
       "      <td>166.38</td>\n",
       "      <td>2</td>\n",
       "      <td>NaN</td>\n",
       "    </tr>\n",
       "    <tr>\n",
       "      <th>3</th>\n",
       "      <td>2009-03-19</td>\n",
       "      <td>165.67</td>\n",
       "      <td>167.83</td>\n",
       "      <td>163.53</td>\n",
       "      <td>164.81</td>\n",
       "      <td>3</td>\n",
       "      <td>NaN</td>\n",
       "    </tr>\n",
       "    <tr>\n",
       "      <th>4</th>\n",
       "      <td>2009-03-20</td>\n",
       "      <td>164.98</td>\n",
       "      <td>166.33</td>\n",
       "      <td>163.01</td>\n",
       "      <td>164.91</td>\n",
       "      <td>4</td>\n",
       "      <td>NaN</td>\n",
       "    </tr>\n",
       "  </tbody>\n",
       "</table>\n",
       "</div>"
      ],
      "text/plain": [
       "        Date    Open    High     Low   Close  Ticks  Rolling_Mean\n",
       "0 2009-03-16  162.83  164.70  159.14  159.69      0           NaN\n",
       "1 2009-03-17  159.93  167.50  159.39  167.50      1           NaN\n",
       "2 2009-03-18  167.24  169.83  163.86  166.38      2           NaN\n",
       "3 2009-03-19  165.67  167.83  163.53  164.81      3           NaN\n",
       "4 2009-03-20  164.98  166.33  163.01  164.91      4           NaN"
      ]
     },
     "execution_count": 146,
     "metadata": {},
     "output_type": "execute_result"
    }
   ],
   "source": [
    "# documentation: http://pandas.pydata.org/pandas-docs/stable/generated/pandas.Series.rolling.html\n",
    "google['Rolling_Mean'] = google['Open'].rolling(window = 80).mean()\n",
    "google.head(5)"
   ]
  },
  {
   "cell_type": "code",
   "execution_count": 147,
   "metadata": {
    "collapsed": false
   },
   "outputs": [
    {
     "data": {
      "image/png": "[encoded data removed]",
      "text/plain": [
       "<matplotlib.figure.Figure at 0x11c115390>"
      ]
     },
     "metadata": {},
     "output_type": "display_data"
    }
   ],
   "source": [
    "fig, axes = plt.subplots(nrows = 1, ncols = 3, figsize = (15,5));\n",
    "axes[0].plot('Ticks', 'Open', data = google);\n",
    "axes[0].set_title('Original');\n",
    "axes[1].plot('Ticks', 'Open', data = one_tenth);\n",
    "axes[1].set_title('Sampled');\n",
    "axes[2].plot('Ticks', 'Rolling_Mean', data = google);\n",
    "axes[2].set_title('Smoothed (Rolling_Mean)');"
   ]
  },
  {
   "cell_type": "markdown",
   "metadata": {},
   "source": [
    "<h3 align='Left'>Plotting Original Data and Smoothed Data on Same Plot</h3>"
   ]
  },
  {
   "cell_type": "code",
   "execution_count": 148,
   "metadata": {
    "collapsed": false
   },
   "outputs": [
    {
     "data": {
      "image/png": "[encoded data removed]",
      "text/plain": [
       "<matplotlib.figure.Figure at 0x120462310>"
      ]
     },
     "metadata": {},
     "output_type": "display_data"
    }
   ],
   "source": [
    "fig = plt.figure();\n",
    "ax = fig.add_subplot(111);\n",
    "ax.plot(google['Ticks'], google['Rolling_Mean'], color = (0,0,0), linewidth = 4, alpha = .9, label = 'Smoothed');\n",
    "ax.plot(google['Ticks'], google['Open'], color = (1,0,0), label = 'Original');\n",
    "ax.set_title('Original and Smoothed Price')\n",
    "ax.set_xlabel('Ticks')\n",
    "ax.set_ylabel('Price')\n",
    "ax.legend(loc='lower right');"
   ]
  },
  {
   "cell_type": "markdown",
   "metadata": {},
   "source": [
    "<h3 align='Left'>Plotting Original Data and Smoothed Data on Same Plot, but with Date as x axis</h3>"
   ]
  },
  {
   "cell_type": "code",
   "execution_count": 149,
   "metadata": {
    "collapsed": false
   },
   "outputs": [
    {
     "data": {
      "image/png": "[encoded data removed]",
      "text/plain": [
       "<matplotlib.figure.Figure at 0x120775250>"
      ]
     },
     "metadata": {},
     "output_type": "display_data"
    }
   ],
   "source": [
    "# Almost exactly the code as above but with datetime\n",
    "fig = plt.figure();\n",
    "ax = fig.add_subplot(111);\n",
    "ax.plot(google['Date'], google['Rolling_Mean'], color = (0,0,0), linewidth = 4, alpha = .9, label = 'Smoothed');\n",
    "ax.plot(google['Date'], google['Open'], color = (1,0,0), label = 'Original');\n",
    "ax.set_title('Original and Smoothed Price')\n",
    "ax.set_xlabel('Ticks')\n",
    "ax.set_ylabel('Price')\n",
    "ax.legend(loc='lower right');"
   ]
  },
  {
   "cell_type": "code",
   "execution_count": 150,
   "metadata": {
    "collapsed": false
   },
   "outputs": [
    {
     "data": {
      "text/plain": [
       "numpy.datetime64"
      ]
     },
     "execution_count": 150,
     "metadata": {},
     "output_type": "execute_result"
    }
   ],
   "source": [
    "# Plotting Date works best with datetime as the type. \n",
    "type(google['Date'].values[0])"
   ]
  },
  {
   "cell_type": "markdown",
   "metadata": {},
   "source": [
    "<h3 align='Left'>Getting Data Only from Tick 800 to 1200</h3>"
   ]
  },
  {
   "cell_type": "code",
   "execution_count": 151,
   "metadata": {
    "collapsed": false
   },
   "outputs": [],
   "source": [
    "filt_google = google[(google['Ticks'] >= 800) & (google['Ticks'] <= 1200)]"
   ]
  },
  {
   "cell_type": "code",
   "execution_count": 152,
   "metadata": {
    "collapsed": false
   },
   "outputs": [
    {
     "data": {
      "text/html": [
       "<div>\n",
       "<table border=\"1\" class=\"dataframe\">\n",
       "  <thead>\n",
       "    <tr style=\"text-align: right;\">\n",
       "      <th></th>\n",
       "      <th>Date</th>\n",
       "      <th>Open</th>\n",
       "      <th>High</th>\n",
       "      <th>Low</th>\n",
       "      <th>Close</th>\n",
       "      <th>Ticks</th>\n",
       "      <th>Rolling_Mean</th>\n",
       "    </tr>\n",
       "  </thead>\n",
       "  <tbody>\n",
       "    <tr>\n",
       "      <th>800</th>\n",
       "      <td>2012-05-17</td>\n",
       "      <td>316.60</td>\n",
       "      <td>318.61</td>\n",
       "      <td>310.30</td>\n",
       "      <td>311.21</td>\n",
       "      <td>800</td>\n",
       "      <td>306.568375</td>\n",
       "    </tr>\n",
       "    <tr>\n",
       "      <th>801</th>\n",
       "      <td>2012-05-18</td>\n",
       "      <td>312.24</td>\n",
       "      <td>315.89</td>\n",
       "      <td>298.05</td>\n",
       "      <td>299.90</td>\n",
       "      <td>801</td>\n",
       "      <td>306.865500</td>\n",
       "    </tr>\n",
       "    <tr>\n",
       "      <th>802</th>\n",
       "      <td>2012-05-21</td>\n",
       "      <td>299.96</td>\n",
       "      <td>307.54</td>\n",
       "      <td>299.70</td>\n",
       "      <td>306.75</td>\n",
       "      <td>802</td>\n",
       "      <td>307.043750</td>\n",
       "    </tr>\n",
       "    <tr>\n",
       "      <th>803</th>\n",
       "      <td>2012-05-22</td>\n",
       "      <td>306.41</td>\n",
       "      <td>306.60</td>\n",
       "      <td>297.70</td>\n",
       "      <td>300.10</td>\n",
       "      <td>803</td>\n",
       "      <td>307.310125</td>\n",
       "    </tr>\n",
       "    <tr>\n",
       "      <th>804</th>\n",
       "      <td>2012-05-23</td>\n",
       "      <td>300.52</td>\n",
       "      <td>304.50</td>\n",
       "      <td>298.26</td>\n",
       "      <td>304.43</td>\n",
       "      <td>804</td>\n",
       "      <td>307.457375</td>\n",
       "    </tr>\n",
       "  </tbody>\n",
       "</table>\n",
       "</div>"
      ],
      "text/plain": [
       "          Date    Open    High     Low   Close  Ticks  Rolling_Mean\n",
       "800 2012-05-17  316.60  318.61  310.30  311.21    800    306.568375\n",
       "801 2012-05-18  312.24  315.89  298.05  299.90    801    306.865500\n",
       "802 2012-05-21  299.96  307.54  299.70  306.75    802    307.043750\n",
       "803 2012-05-22  306.41  306.60  297.70  300.10    803    307.310125\n",
       "804 2012-05-23  300.52  304.50  298.26  304.43    804    307.457375"
      ]
     },
     "execution_count": 152,
     "metadata": {},
     "output_type": "execute_result"
    }
   ],
   "source": [
    "filt_google.head()"
   ]
  },
  {
   "cell_type": "markdown",
   "metadata": {},
   "source": [
    "<h3 align='Left'>Linear Regression</h3>"
   ]
  },
  {
   "cell_type": "code",
   "execution_count": 153,
   "metadata": {
    "collapsed": true
   },
   "outputs": [],
   "source": [
    "from sklearn.linear_model import LinearRegression"
   ]
  },
  {
   "cell_type": "code",
   "execution_count": 154,
   "metadata": {
    "collapsed": false
   },
   "outputs": [
    {
     "name": "stdout",
     "output_type": "stream",
     "text": [
      "y =  0.48 x +  -100.16\n"
     ]
    }
   ],
   "source": [
    "model = LinearRegression().fit(filt_google[['Ticks']], filt_google[['Rolling_Mean']])\n",
    "m = model.coef_[0]\n",
    "b = model.intercept_\n",
    "#equation of the line\n",
    "print 'y = ', round(m[0],2), 'x + ', round(b[0],2)"
   ]
  },
  {
   "cell_type": "code",
   "execution_count": 155,
   "metadata": {
    "collapsed": false
   },
   "outputs": [
    {
     "data": {
      "text/plain": [
       "array([[ 280.99658148],\n",
       "       [ 281.47302422],\n",
       "       [ 281.94946697],\n",
       "       [ 282.42590971],\n",
       "       [ 282.90235246]])"
      ]
     },
     "execution_count": 155,
     "metadata": {},
     "output_type": "execute_result"
    }
   ],
   "source": [
    "# using the equation of the line to get y values\n",
    "predictions = model.predict(filt_google[['Ticks']])\n",
    "predictions[0:5]"
   ]
  },
  {
   "cell_type": "code",
   "execution_count": 156,
   "metadata": {
    "collapsed": false
   },
   "outputs": [
    {
     "data": {
      "text/html": [
       "<div>\n",
       "<table border=\"1\" class=\"dataframe\">\n",
       "  <thead>\n",
       "    <tr style=\"text-align: right;\">\n",
       "      <th></th>\n",
       "      <th>Pred</th>\n",
       "    </tr>\n",
       "  </thead>\n",
       "  <tbody>\n",
       "    <tr>\n",
       "      <th>800</th>\n",
       "      <td>280.996581</td>\n",
       "    </tr>\n",
       "    <tr>\n",
       "      <th>801</th>\n",
       "      <td>281.473024</td>\n",
       "    </tr>\n",
       "    <tr>\n",
       "      <th>802</th>\n",
       "      <td>281.949467</td>\n",
       "    </tr>\n",
       "    <tr>\n",
       "      <th>803</th>\n",
       "      <td>282.425910</td>\n",
       "    </tr>\n",
       "    <tr>\n",
       "      <th>804</th>\n",
       "      <td>282.902352</td>\n",
       "    </tr>\n",
       "  </tbody>\n",
       "</table>\n",
       "</div>"
      ],
      "text/plain": [
       "           Pred\n",
       "800  280.996581\n",
       "801  281.473024\n",
       "802  281.949467\n",
       "803  282.425910\n",
       "804  282.902352"
      ]
     },
     "execution_count": 156,
     "metadata": {},
     "output_type": "execute_result"
    }
   ],
   "source": [
    "# making a DataFrame for the predictions\n",
    "predictions = pd.DataFrame(data = predictions, index = filt_google.index.values, columns = ['Pred'])\n",
    "predictions.head()"
   ]
  },
  {
   "cell_type": "markdown",
   "metadata": {},
   "source": [
    "<h3 align='Left'>Joining the Two DataFrames</h3>"
   ]
  },
  {
   "cell_type": "code",
   "execution_count": 157,
   "metadata": {
    "collapsed": false
   },
   "outputs": [
    {
     "data": {
      "text/html": [
       "<div>\n",
       "<table border=\"1\" class=\"dataframe\">\n",
       "  <thead>\n",
       "    <tr style=\"text-align: right;\">\n",
       "      <th></th>\n",
       "      <th>Date</th>\n",
       "      <th>Open</th>\n",
       "      <th>High</th>\n",
       "      <th>Low</th>\n",
       "      <th>Close</th>\n",
       "      <th>Ticks</th>\n",
       "      <th>Rolling_Mean</th>\n",
       "      <th>Pred</th>\n",
       "    </tr>\n",
       "  </thead>\n",
       "  <tbody>\n",
       "    <tr>\n",
       "      <th>800</th>\n",
       "      <td>2012-05-17</td>\n",
       "      <td>316.60</td>\n",
       "      <td>318.61</td>\n",
       "      <td>310.30</td>\n",
       "      <td>311.21</td>\n",
       "      <td>800</td>\n",
       "      <td>306.568375</td>\n",
       "      <td>280.996581</td>\n",
       "    </tr>\n",
       "    <tr>\n",
       "      <th>801</th>\n",
       "      <td>2012-05-18</td>\n",
       "      <td>312.24</td>\n",
       "      <td>315.89</td>\n",
       "      <td>298.05</td>\n",
       "      <td>299.90</td>\n",
       "      <td>801</td>\n",
       "      <td>306.865500</td>\n",
       "      <td>281.473024</td>\n",
       "    </tr>\n",
       "    <tr>\n",
       "      <th>802</th>\n",
       "      <td>2012-05-21</td>\n",
       "      <td>299.96</td>\n",
       "      <td>307.54</td>\n",
       "      <td>299.70</td>\n",
       "      <td>306.75</td>\n",
       "      <td>802</td>\n",
       "      <td>307.043750</td>\n",
       "      <td>281.949467</td>\n",
       "    </tr>\n",
       "    <tr>\n",
       "      <th>803</th>\n",
       "      <td>2012-05-22</td>\n",
       "      <td>306.41</td>\n",
       "      <td>306.60</td>\n",
       "      <td>297.70</td>\n",
       "      <td>300.10</td>\n",
       "      <td>803</td>\n",
       "      <td>307.310125</td>\n",
       "      <td>282.425910</td>\n",
       "    </tr>\n",
       "    <tr>\n",
       "      <th>804</th>\n",
       "      <td>2012-05-23</td>\n",
       "      <td>300.52</td>\n",
       "      <td>304.50</td>\n",
       "      <td>298.26</td>\n",
       "      <td>304.43</td>\n",
       "      <td>804</td>\n",
       "      <td>307.457375</td>\n",
       "      <td>282.902352</td>\n",
       "    </tr>\n",
       "  </tbody>\n",
       "</table>\n",
       "</div>"
      ],
      "text/plain": [
       "          Date    Open    High     Low   Close  Ticks  Rolling_Mean  \\\n",
       "800 2012-05-17  316.60  318.61  310.30  311.21    800    306.568375   \n",
       "801 2012-05-18  312.24  315.89  298.05  299.90    801    306.865500   \n",
       "802 2012-05-21  299.96  307.54  299.70  306.75    802    307.043750   \n",
       "803 2012-05-22  306.41  306.60  297.70  300.10    803    307.310125   \n",
       "804 2012-05-23  300.52  304.50  298.26  304.43    804    307.457375   \n",
       "\n",
       "           Pred  \n",
       "800  280.996581  \n",
       "801  281.473024  \n",
       "802  281.949467  \n",
       "803  282.425910  \n",
       "804  282.902352  "
      ]
     },
     "execution_count": 157,
     "metadata": {},
     "output_type": "execute_result"
    }
   ],
   "source": [
    "# join and concat documentation\n",
    "# http://pandas.pydata.org/pandas-docs/stable/merging.html\n",
    "\n",
    "joined_df = filt_google.join(predictions, how = 'inner')\n",
    "joined_df.head()"
   ]
  },
  {
   "cell_type": "markdown",
   "metadata": {},
   "source": [
    "<h3 align='Left'>Plotting the Values Based on the Equation vs the Rolling Mean</h3>"
   ]
  },
  {
   "cell_type": "code",
   "execution_count": 159,
   "metadata": {
    "collapsed": false
   },
   "outputs": [
    {
     "data": {
      "image/png": "[encoded data removed]",
      "text/plain": [
       "<matplotlib.figure.Figure at 0x1200b9190>"
      ]
     },
     "metadata": {},
     "output_type": "display_data"
    }
   ],
   "source": [
    "fig = plt.figure();\n",
    "ax = fig.add_subplot(111);\n",
    "ax.plot(joined_df['Ticks'], joined_df['Rolling_Mean'], color = (0,0,0), linewidth = 4, alpha = .9, label = 'Smoothed');\n",
    "ax.plot(joined_df['Ticks'], joined_df['Pred'], color = (1,0,0), label = 'Prediction');\n",
    "ax.set_title('Rolling Mean vs Linear Regression')\n",
    "ax.set_xlabel('Ticks')\n",
    "ax.set_ylabel('Price')\n",
    "ax.legend(loc='lower right');"
   ]
  },
  {
   "cell_type": "code",
   "execution_count": 160,
   "metadata": {
    "collapsed": false
   },
   "outputs": [
    {
     "data": {
      "text/plain": [
       "0.97617654301753054"
      ]
     },
     "execution_count": 160,
     "metadata": {},
     "output_type": "execute_result"
    }
   ],
   "source": [
    "# documentation \n",
    "# http://scikit-learn.org/stable/modules/generated/sklearn.metrics.r2_score.html+\n",
    "import sklearn\n",
    "\n",
    "r_squared = sklearn.metrics.r2_score(joined_df['Rolling_Mean'],joined_df['Pred'],multioutput='uniform_average')\n",
    "r_squared"
   ]
  }
 ],
 "metadata": {
  "kernelspec": {
   "display_name": "Python 2",
   "language": "python",
   "name": "python2"
  },
  "language_info": {
   "codemirror_mode": {
    "name": "ipython",
    "version": 2
   },
   "file_extension": ".py",
   "mimetype": "text/x-python",
   "name": "python",
   "nbconvert_exporter": "python",
   "pygments_lexer": "ipython2",
   "version": "2.7.12"
  }
 },
 "nbformat": 4,
 "nbformat_minor": 0
}
