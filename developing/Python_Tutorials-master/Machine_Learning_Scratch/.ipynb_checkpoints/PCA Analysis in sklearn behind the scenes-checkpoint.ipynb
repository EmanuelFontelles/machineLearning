{
 "cells": [
  {
   "cell_type": "markdown",
   "metadata": {},
   "source": [
    "## PCA Analysis in Python's using sklearn\n",
    "\n",
    "This notebook serves to discuss what is actually occuring behind the scenes in sklearn when the decomposition.pca package is being used.\n",
    "\n"
   ]
  },
  {
   "cell_type": "markdown",
   "metadata": {},
   "source": [
    "unitary eigenvectors:  complex square matrix U is unitary if its conjugate transpose U∗ is also its inverse—that is, if U'U = UU'=I"
   ]
  },
  {
   "cell_type": "markdown",
   "metadata": {},
   "source": [
    "https://en.wikipedia.org/wiki/Unitary_matrix"
   ]
  },
  {
   "cell_type": "markdown",
   "metadata": {},
   "source": [
    "##### Two excellent references:\n",
    "1. [Machine Learning: A Probabalistic Method](https://mitpress.mit.edu/books/machine-learning-0), *by Kevin P. Murphy* (he was a senior Research Scientist at Google in early days)\n",
    "2. [The Elements of Statistical Learning: Data Mining, Inference and Prediction](https://web.stanford.edu/~hastie/ElemStatLearn/), *by Hastie et. al.* (authors are from CS and Stats departments at Stanford)"
   ]
  },
  {
   "cell_type": "code",
   "execution_count": 413,
   "metadata": {
    "collapsed": true
   },
   "outputs": [],
   "source": [
    "%matplotlib inline\n",
    "\n",
    "import numpy as np\n",
    "import random\n",
    "import matplotlib.pyplot as plt\n",
    "from sklearn.decomposition import PCA\n",
    "import decimal\n",
    "import pandas as pd"
   ]
  },
  {
   "cell_type": "markdown",
   "metadata": {},
   "source": [
    "## Generate Signals"
   ]
  },
  {
   "cell_type": "code",
   "execution_count": 414,
   "metadata": {
    "collapsed": false
   },
   "outputs": [],
   "source": [
    "base_signalA = np.array([1, 1, 0, 0, 0, 0, 0, 0, 0, 0])\n",
    "base_signalB = np.array([0, 0, 0, 0, 1, 1, 0, 0, 0, 0])\n",
    "base_signalC = np.array([0, 0, 0, 0, 0, 0, 0, 0, 1, 1])"
   ]
  },
  {
   "cell_type": "code",
   "execution_count": 415,
   "metadata": {
    "collapsed": false
   },
   "outputs": [],
   "source": [
    "#plt.plot(range(0, 10), (base_signalA + base_signalB + base_signalC) /3.0, 'b--');"
   ]
  },
  {
   "cell_type": "code",
   "execution_count": 416,
   "metadata": {
    "collapsed": false
   },
   "outputs": [
    {
     "data": {
      "image/png": "[encoded data removed]",
      "text/plain": [
       "<matplotlib.figure.Figure at 0x1a22da6ad0>"
      ]
     },
     "metadata": {},
     "output_type": "display_data"
    }
   ],
   "source": [
    "plt.plot(range(0, 10), base_signalA, 'b--');\n",
    "plt.plot(range(0, 10), base_signalB, 'g--');\n",
    "plt.plot(range(0, 10), base_signalC, 'r--');"
   ]
  },
  {
   "cell_type": "code",
   "execution_count": 417,
   "metadata": {
    "collapsed": false
   },
   "outputs": [
    {
     "data": {
      "text/plain": [
       "'\\n    # Filling up Array with 1 signal\\n    firstSignal = np.array(np.nan * np.zeros(10)) \\n    secondSignal = np.array(np.nan * np.zeros(10)) \\n    thirdSignal = np.array(np.nan * np.zeros(10)) \\n    \\n    count = 0 \\n    for x in range(0,len(base_signalA)):\\n        #oneSignal[x] = (np.random.uniform(.8,1) * base_signalA[x]) + (np.random.uniform(0.8,1) * base_signalB[x])        #+ (np.random.uniform(.8,1) * base_signalC[x]) + np.random.uniform(0,.05)\\n        \\n        if \\n        \\n        firstSignal[x] = (np.random.uniform(.99,1) * base_signalA[x]) + np.random.uniform(0,.01)\\n        secondSignal[x] = (np.random.uniform(.99,1) * base_signalB[x]) + np.random.uniform(0,.01)\\n        thirdSignal[x] = (np.random.uniform(.99,1) * base_signalC[x]) + np.random.uniform(0,.01)\\n        \\n        \\n        \\n    \\n    allSignals.append(firstSignal)\\n    allSignals.append(secondSignal)\\n    allSignals.append(thirdSignal)\\n'"
      ]
     },
     "execution_count": 417,
     "metadata": {},
     "output_type": "execute_result"
    }
   ],
   "source": [
    "# Every signal is based on other signals\n",
    "\n",
    "allSignals = []\n",
    "counter = 0\n",
    "\n",
    "for number in range(0,1000):\n",
    "    firstSignal = np.array(np.nan * np.zeros(10))\n",
    "    for x in range(0,len(base_signalA)):\n",
    "        firstSignal[x] = (np.random.uniform(.99,1) * base_signalA[x]) + np.random.uniform(0,.01)\n",
    "    allSignals.append(firstSignal)\n",
    "        \n",
    "for number in range(0,1000):\n",
    "    secondSignal = np.array(np.nan * np.zeros(10))\n",
    "    for x in range(0,len(base_signalB)):\n",
    "        secondSignal[x] = (np.random.uniform(.99,1) * base_signalB[x]) + np.random.uniform(0,.01)\n",
    "    allSignals.append(secondSignal)\n",
    "    \n",
    "for number in range(0,1000):  \n",
    "    thirdSignal = np.array(np.nan * np.zeros(10))\n",
    "    for x in range(0,len(base_signalC)):\n",
    "        thirdSignal[x] = (np.random.uniform(.99,1) * base_signalC[x]) + np.random.uniform(0,.01)\n",
    "    allSignals.append(thirdSignal)\n",
    "    \n",
    "    \n",
    "\"\"\"\n",
    "    # Filling up Array with 1 signal\n",
    "    firstSignal = np.array(np.nan * np.zeros(10)) \n",
    "    secondSignal = np.array(np.nan * np.zeros(10)) \n",
    "    thirdSignal = np.array(np.nan * np.zeros(10)) \n",
    "    \n",
    "    count = 0 \n",
    "    for x in range(0,len(base_signalA)):\n",
    "        #oneSignal[x] = (np.random.uniform(.8,1) * base_signalA[x]) + (np.random.uniform(0.8,1) * base_signalB[x])\\\n",
    "        #+ (np.random.uniform(.8,1) * base_signalC[x]) + np.random.uniform(0,.05)\n",
    "        \n",
    "        if \n",
    "        \n",
    "        firstSignal[x] = (np.random.uniform(.99,1) * base_signalA[x]) + np.random.uniform(0,.01)\n",
    "        secondSignal[x] = (np.random.uniform(.99,1) * base_signalB[x]) + np.random.uniform(0,.01)\n",
    "        thirdSignal[x] = (np.random.uniform(.99,1) * base_signalC[x]) + np.random.uniform(0,.01)\n",
    "        \n",
    "        \n",
    "        \n",
    "    \n",
    "    allSignals.append(firstSignal)\n",
    "    allSignals.append(secondSignal)\n",
    "    allSignals.append(thirdSignal)\n",
    "\"\"\""
   ]
  },
  {
   "cell_type": "code",
   "execution_count": 418,
   "metadata": {
    "collapsed": false
   },
   "outputs": [],
   "source": [
    "allSignals = pd.DataFrame(allSignals)"
   ]
  },
  {
   "cell_type": "code",
   "execution_count": 419,
   "metadata": {
    "collapsed": false
   },
   "outputs": [
    {
     "data": {
      "text/html": [
       "<div>\n",
       "<style scoped>\n",
       "    .dataframe tbody tr th:only-of-type {\n",
       "        vertical-align: middle;\n",
       "    }\n",
       "\n",
       "    .dataframe tbody tr th {\n",
       "        vertical-align: top;\n",
       "    }\n",
       "\n",
       "    .dataframe thead th {\n",
       "        text-align: right;\n",
       "    }\n",
       "</style>\n",
       "<table border=\"1\" class=\"dataframe\">\n",
       "  <thead>\n",
       "    <tr style=\"text-align: right;\">\n",
       "      <th></th>\n",
       "      <th>0</th>\n",
       "      <th>1</th>\n",
       "      <th>2</th>\n",
       "      <th>3</th>\n",
       "      <th>4</th>\n",
       "      <th>5</th>\n",
       "      <th>6</th>\n",
       "      <th>7</th>\n",
       "      <th>8</th>\n",
       "      <th>9</th>\n",
       "    </tr>\n",
       "  </thead>\n",
       "  <tbody>\n",
       "    <tr>\n",
       "      <th>0</th>\n",
       "      <td>0.996225</td>\n",
       "      <td>0.997310</td>\n",
       "      <td>0.007725</td>\n",
       "      <td>0.006928</td>\n",
       "      <td>0.000038</td>\n",
       "      <td>0.001365</td>\n",
       "      <td>0.002133</td>\n",
       "      <td>0.003040</td>\n",
       "      <td>0.000946</td>\n",
       "      <td>0.005632</td>\n",
       "    </tr>\n",
       "    <tr>\n",
       "      <th>1</th>\n",
       "      <td>0.996698</td>\n",
       "      <td>1.002823</td>\n",
       "      <td>0.002416</td>\n",
       "      <td>0.005011</td>\n",
       "      <td>0.004596</td>\n",
       "      <td>0.007225</td>\n",
       "      <td>0.003744</td>\n",
       "      <td>0.008256</td>\n",
       "      <td>0.004194</td>\n",
       "      <td>0.003489</td>\n",
       "    </tr>\n",
       "    <tr>\n",
       "      <th>2</th>\n",
       "      <td>1.002438</td>\n",
       "      <td>1.003415</td>\n",
       "      <td>0.005788</td>\n",
       "      <td>0.006238</td>\n",
       "      <td>0.007515</td>\n",
       "      <td>0.002786</td>\n",
       "      <td>0.000566</td>\n",
       "      <td>0.001888</td>\n",
       "      <td>0.002379</td>\n",
       "      <td>0.008646</td>\n",
       "    </tr>\n",
       "    <tr>\n",
       "      <th>3</th>\n",
       "      <td>0.999995</td>\n",
       "      <td>1.000023</td>\n",
       "      <td>0.002578</td>\n",
       "      <td>0.002127</td>\n",
       "      <td>0.002069</td>\n",
       "      <td>0.002674</td>\n",
       "      <td>0.007838</td>\n",
       "      <td>0.006786</td>\n",
       "      <td>0.004896</td>\n",
       "      <td>0.008422</td>\n",
       "    </tr>\n",
       "    <tr>\n",
       "      <th>4</th>\n",
       "      <td>1.006976</td>\n",
       "      <td>0.994776</td>\n",
       "      <td>0.000524</td>\n",
       "      <td>0.001607</td>\n",
       "      <td>0.001068</td>\n",
       "      <td>0.005459</td>\n",
       "      <td>0.004076</td>\n",
       "      <td>0.004982</td>\n",
       "      <td>0.001926</td>\n",
       "      <td>0.008693</td>\n",
       "    </tr>\n",
       "  </tbody>\n",
       "</table>\n",
       "</div>"
      ],
      "text/plain": [
       "          0         1         2         3         4         5         6  \\\n",
       "0  0.996225  0.997310  0.007725  0.006928  0.000038  0.001365  0.002133   \n",
       "1  0.996698  1.002823  0.002416  0.005011  0.004596  0.007225  0.003744   \n",
       "2  1.002438  1.003415  0.005788  0.006238  0.007515  0.002786  0.000566   \n",
       "3  0.999995  1.000023  0.002578  0.002127  0.002069  0.002674  0.007838   \n",
       "4  1.006976  0.994776  0.000524  0.001607  0.001068  0.005459  0.004076   \n",
       "\n",
       "          7         8         9  \n",
       "0  0.003040  0.000946  0.005632  \n",
       "1  0.008256  0.004194  0.003489  \n",
       "2  0.001888  0.002379  0.008646  \n",
       "3  0.006786  0.004896  0.008422  \n",
       "4  0.004982  0.001926  0.008693  "
      ]
     },
     "execution_count": 419,
     "metadata": {},
     "output_type": "execute_result"
    }
   ],
   "source": [
    "allSignals.head()"
   ]
  },
  {
   "cell_type": "markdown",
   "metadata": {},
   "source": [
    "## Use PCA"
   ]
  },
  {
   "cell_type": "code",
   "execution_count": 420,
   "metadata": {
    "collapsed": true
   },
   "outputs": [],
   "source": [
    "zeroMean = allSignals.values - np.mean(allSignals.values, axis = 0)"
   ]
  },
  {
   "cell_type": "code",
   "execution_count": 421,
   "metadata": {
    "collapsed": false
   },
   "outputs": [],
   "source": [
    "zeroMean = pd.DataFrame(zeroMean)\n",
    "originalNow = pd.DataFrame(allSignals.values)"
   ]
  },
  {
   "cell_type": "code",
   "execution_count": 422,
   "metadata": {
    "collapsed": false
   },
   "outputs": [
    {
     "data": {
      "text/plain": [
       "0    1.338744e-16\n",
       "1   -2.303713e-16\n",
       "2   -3.321995e-19\n",
       "3    6.194408e-19\n",
       "4    6.250556e-17\n",
       "5   -6.309768e-18\n",
       "6   -3.894454e-19\n",
       "7    8.124288e-20\n",
       "8   -5.791663e-17\n",
       "9    2.627528e-16\n",
       "dtype: float64"
      ]
     },
     "execution_count": 422,
     "metadata": {},
     "output_type": "execute_result"
    }
   ],
   "source": [
    "zeroMean.mean()"
   ]
  },
  {
   "cell_type": "code",
   "execution_count": 423,
   "metadata": {
    "collapsed": true
   },
   "outputs": [],
   "source": [
    "# Make an instance of the Model\n",
    "pca = PCA(svd_solver = 'full')\n",
    "\n",
    "zeroMean_eig = pca.fit_transform(zeroMean)"
   ]
  },
  {
   "cell_type": "code",
   "execution_count": 424,
   "metadata": {
    "collapsed": false
   },
   "outputs": [
    {
     "data": {
      "text/plain": [
       "10"
      ]
     },
     "execution_count": 424,
     "metadata": {},
     "output_type": "execute_result"
    }
   ],
   "source": [
    "len(pca.components_)"
   ]
  },
  {
   "cell_type": "code",
   "execution_count": 425,
   "metadata": {
    "collapsed": false
   },
   "outputs": [
    {
     "data": {
      "text/plain": [
       "array([[ 4.32280457,  2.71101253,  3.86491086,  1.2040658 ],\n",
       "       [ 6.60991158,  2.20135799,  3.72300233,  1.19610853],\n",
       "       [ 4.15140866,  3.03456705,  3.73790573,  1.18215671],\n",
       "       [ 4.19694246,  2.99373762,  3.66527395,  1.20945575]])"
      ]
     },
     "execution_count": 425,
     "metadata": {},
     "output_type": "execute_result"
    }
   ],
   "source": [
    " np.mean(df.values, axis = 0) + (u * s)"
   ]
  },
  {
   "cell_type": "code",
   "execution_count": 426,
   "metadata": {
    "collapsed": false
   },
   "outputs": [
    {
     "data": {
      "text/plain": [
       "array([ 0.33667869,  0.33663297,  0.00499669,  0.0050303 ,  0.33663333,\n",
       "        0.33662356,  0.00502952,  0.00491878,  0.33660858,  0.33672398])"
      ]
     },
     "execution_count": 426,
     "metadata": {},
     "output_type": "execute_result"
    }
   ],
   "source": [
    "np.mean(allSignals.values, axis = 0)"
   ]
  },
  {
   "cell_type": "code",
   "execution_count": 427,
   "metadata": {
    "collapsed": false
   },
   "outputs": [
    {
     "data": {
      "text/plain": [
       "array([ 0.33667869,  0.33663297,  0.00499669,  0.0050303 ,  0.33663333,\n",
       "        0.33662356,  0.00502952,  0.00491878,  0.33660858,  0.33672398])"
      ]
     },
     "execution_count": 427,
     "metadata": {},
     "output_type": "execute_result"
    }
   ],
   "source": [
    "np.mean(allSignals.values, axis = 0)"
   ]
  },
  {
   "cell_type": "code",
   "execution_count": 428,
   "metadata": {
    "collapsed": false
   },
   "outputs": [
    {
     "data": {
      "text/plain": [
       "(10,)"
      ]
     },
     "execution_count": 428,
     "metadata": {},
     "output_type": "execute_result"
    }
   ],
   "source": [
    "pca.components_[0].shape"
   ]
  },
  {
   "cell_type": "code",
   "execution_count": 429,
   "metadata": {
    "collapsed": false
   },
   "outputs": [
    {
     "data": {
      "text/plain": [
       "[<matplotlib.lines.Line2D at 0x1a23b08950>]"
      ]
     },
     "execution_count": 429,
     "metadata": {},
     "output_type": "execute_result"
    },
    {
     "data": {
      "image/png": "[encoded data removed]",
      "text/plain": [
       "<matplotlib.figure.Figure at 0x1a22d98510>"
      ]
     },
     "metadata": {},
     "output_type": "display_data"
    }
   ],
   "source": [
    "# 1st Principal Component\n",
    "plt.plot(range(0, 10), -pca.components_[0] + np.mean(allSignals.values, axis = 0))"
   ]
  },
  {
   "cell_type": "code",
   "execution_count": 404,
   "metadata": {
    "collapsed": false
   },
   "outputs": [
    {
     "data": {
      "text/plain": [
       "[<matplotlib.lines.Line2D at 0x1a22768b90>]"
      ]
     },
     "execution_count": 404,
     "metadata": {},
     "output_type": "execute_result"
    },
    {
     "data": {
      "image/png": "[encoded data removed]",
      "text/plain": [
       "<matplotlib.figure.Figure at 0x1a227f0890>"
      ]
     },
     "metadata": {},
     "output_type": "display_data"
    }
   ],
   "source": [
    "# 1st Principal Component\n",
    "plt.plot(range(0, 10), -pca.components_[1] + np.mean(allSignals.values, axis = 0))"
   ]
  },
  {
   "cell_type": "code",
   "execution_count": 405,
   "metadata": {
    "collapsed": false
   },
   "outputs": [
    {
     "data": {
      "text/plain": [
       "[<matplotlib.lines.Line2D at 0x1a22637a10>]"
      ]
     },
     "execution_count": 405,
     "metadata": {},
     "output_type": "execute_result"
    },
    {
     "data": {
      "image/png": "[encoded data removed]",
      "text/plain": [
       "<matplotlib.figure.Figure at 0x1a2277f890>"
      ]
     },
     "metadata": {},
     "output_type": "display_data"
    }
   ],
   "source": [
    "# 3rd, Principal Component\n",
    "# Garbage\n",
    "plt.plot(range(0, 10), pca.components_[2])"
   ]
  },
  {
   "cell_type": "code",
   "execution_count": 412,
   "metadata": {
    "collapsed": false
   },
   "outputs": [
    {
     "data": {
      "text/plain": [
       "[<matplotlib.lines.Line2D at 0x1a22fa9990>]"
      ]
     },
     "execution_count": 412,
     "metadata": {},
     "output_type": "execute_result"
    },
    {
     "data": {
      "image/png": "[encoded data removed]",
      "text/plain": [
       "<matplotlib.figure.Figure at 0x1a226bce10>"
      ]
     },
     "metadata": {},
     "output_type": "display_data"
    }
   ],
   "source": [
    "# First Two PCA. \n",
    "plt.plot(range(0, 10),   np.mean(allSignals.values, axis = 0) - (pca.components_[0] + pca.components_[1]) /2)"
   ]
  },
  {
   "cell_type": "markdown",
   "metadata": {},
   "source": [
    "## Explained Variance"
   ]
  },
  {
   "cell_type": "code",
   "execution_count": 407,
   "metadata": {
    "collapsed": true
   },
   "outputs": [],
   "source": [
    "tot = sum(pca.explained_variance_)"
   ]
  },
  {
   "cell_type": "code",
   "execution_count": 408,
   "metadata": {
    "collapsed": true
   },
   "outputs": [],
   "source": [
    "var_exp = [(i/tot)*100 for i in sorted(pca.explained_variance_, reverse=True)] "
   ]
  },
  {
   "cell_type": "code",
   "execution_count": 409,
   "metadata": {
    "collapsed": false
   },
   "outputs": [
    {
     "data": {
      "text/plain": [
       "[50.005288650721461,\n",
       " 49.988785689398554,\n",
       " 0.00088030964365937517,\n",
       " 0.00086460573189138111,\n",
       " 0.00085123312730677348,\n",
       " 0.00082158963188483066,\n",
       " 0.00064317776160355646,\n",
       " 0.00063943081326163791,\n",
       " 0.00061692024431044793,\n",
       " 0.00060839292607892852]"
      ]
     },
     "execution_count": 409,
     "metadata": {},
     "output_type": "execute_result"
    }
   ],
   "source": [
    "var_exp"
   ]
  },
  {
   "cell_type": "code",
   "execution_count": 410,
   "metadata": {
    "collapsed": false
   },
   "outputs": [
    {
     "ename": "SyntaxError",
     "evalue": "invalid syntax (<ipython-input-410-9f87d41cd3b2>, line 2)",
     "output_type": "error",
     "traceback": [
      "\u001b[0;36m  File \u001b[0;32m\"<ipython-input-410-9f87d41cd3b2>\"\u001b[0;36m, line \u001b[0;32m2\u001b[0m\n\u001b[0;31m    plt.\u001b[0m\n\u001b[0m        ^\u001b[0m\n\u001b[0;31mSyntaxError\u001b[0m\u001b[0;31m:\u001b[0m invalid syntax\n"
     ]
    }
   ],
   "source": [
    "plt.plot(range(1,11), var_exp)\n",
    "plt."
   ]
  },
  {
   "cell_type": "code",
   "execution_count": 142,
   "metadata": {
    "collapsed": true
   },
   "outputs": [],
   "source": [
    "# Cumulative explained variance\n",
    "cum_var_exp = np.cumsum(var_exp)"
   ]
  },
  {
   "cell_type": "code",
   "execution_count": 144,
   "metadata": {
    "collapsed": false
   },
   "outputs": [
    {
     "data": {
      "text/plain": [
       "array([  49.77087541,   99.32346362,   99.43447399,   99.53860057,\n",
       "         99.63798586,   99.73303035,   99.80750921,   99.87946081,\n",
       "         99.94433094,  100.        ])"
      ]
     },
     "execution_count": 144,
     "metadata": {},
     "output_type": "execute_result"
    }
   ],
   "source": [
    "cum_var_exp"
   ]
  },
  {
   "cell_type": "code",
   "execution_count": 216,
   "metadata": {
    "collapsed": false
   },
   "outputs": [
    {
     "data": {
      "text/plain": [
       "\"\\n\\n# PLOT OUT THE EXPLAINED VARIANCES SUPERIMPOSED \\nplt.figure(figsize=(10, 5))\\nplt.step(range(0, 0), cum_var_exp, where='mid',label='cumulative explained variance')\\nplt.title('Cumulative Explained Variance as a Function of the Number of Components')\\nplt.ylabel('Cumulative Explained variance')\\nplt.xlabel('Principal components')\\n#plt.axhline(y = 95, color='k', linestyle='--', label = '95% Explained Variance')\\n#plt.axhline(y = 90, color='c', linestyle='--', label = '90% Explained Variance')\\nplt.axhline(y = 85, color='r', linestyle='--', label = '85% Explained Variance')\\nplt.legend(loc='best')\\nplt.show()\\n\\n\""
      ]
     },
     "execution_count": 216,
     "metadata": {},
     "output_type": "execute_result"
    }
   ],
   "source": [
    "\"\"\"\n",
    "\n",
    "# PLOT OUT THE EXPLAINED VARIANCES SUPERIMPOSED \n",
    "plt.figure(figsize=(10, 5))\n",
    "plt.step(range(0, 0), cum_var_exp, where='mid',label='cumulative explained variance')\n",
    "plt.title('Cumulative Explained Variance as a Function of the Number of Components')\n",
    "plt.ylabel('Cumulative Explained variance')\n",
    "plt.xlabel('Principal components')\n",
    "#plt.axhline(y = 95, color='k', linestyle='--', label = '95% Explained Variance')\n",
    "#plt.axhline(y = 90, color='c', linestyle='--', label = '90% Explained Variance')\n",
    "plt.axhline(y = 85, color='r', linestyle='--', label = '85% Explained Variance')\n",
    "plt.legend(loc='best')\n",
    "plt.show()\n",
    "\n",
    "\"\"\""
   ]
  },
  {
   "cell_type": "code",
   "execution_count": null,
   "metadata": {
    "collapsed": true
   },
   "outputs": [],
   "source": []
  },
  {
   "cell_type": "code",
   "execution_count": 136,
   "metadata": {
    "collapsed": false
   },
   "outputs": [
    {
     "data": {
      "text/plain": [
       "array([ 0.49770875,  0.49552588,  0.0011101 ,  0.00104127,  0.00099385,\n",
       "        0.00095044,  0.00074479,  0.00071952,  0.0006487 ,  0.00055669])"
      ]
     },
     "execution_count": 136,
     "metadata": {},
     "output_type": "execute_result"
    }
   ],
   "source": [
    "pca.cexplained_variance_ratio_"
   ]
  },
  {
   "cell_type": "code",
   "execution_count": 292,
   "metadata": {
    "collapsed": false
   },
   "outputs": [
    {
     "data": {
      "text/plain": [
       "array([[-1, -1],\n",
       "       [-2, -1],\n",
       "       [-3, -2],\n",
       "       [ 1,  1],\n",
       "       [ 2,  1],\n",
       "       [ 3,  2]])"
      ]
     },
     "execution_count": 292,
     "metadata": {},
     "output_type": "execute_result"
    }
   ],
   "source": [
    "# example data from sklearn: http://scikit-learn.org/stable/modules/generated/sklearn.decomposition.PCA.html\n",
    "X = np.array([[-1, -1], [-2, -1], [-3, -2], [1, 1], [2, 1], [3, 2]])\n",
    "X"
   ]
  },
  {
   "cell_type": "code",
   "execution_count": 293,
   "metadata": {
    "collapsed": false
   },
   "outputs": [
    {
     "data": {
      "text/plain": [
       "0.038008155791571234"
      ]
     },
     "execution_count": 293,
     "metadata": {},
     "output_type": "execute_result"
    }
   ],
   "source": [
    "np.random.uniform(0,.1)"
   ]
  },
  {
   "cell_type": "code",
   "execution_count": 294,
   "metadata": {
    "collapsed": false
   },
   "outputs": [],
   "source": [
    "valueA = [1, 2] * 26\n",
    "valueB = [1, 1, 2, 2] * 13 \n",
    "\n",
    "for index, x in enumerate(valueA):\n",
    "    valueA[index] = x + np.random.uniform(0,.05)\n",
    "    \n",
    "for index, x in enumerate(valueB):\n",
    "    valueB[index] = x + np.random.uniform(0,.05)\n",
    "\n",
    "weeks = range(0, len(valueA))"
   ]
  },
  {
   "cell_type": "code",
   "execution_count": 295,
   "metadata": {
    "collapsed": false
   },
   "outputs": [
    {
     "data": {
      "image/png": "[encoded data removed]",
      "text/plain": [
       "<matplotlib.figure.Figure at 0x1a18d53b90>"
      ]
     },
     "metadata": {},
     "output_type": "display_data"
    }
   ],
   "source": [
    "plt.plot(weeks, valueA)\n",
    "plt.show()"
   ]
  },
  {
   "cell_type": "code",
   "execution_count": 296,
   "metadata": {
    "collapsed": false
   },
   "outputs": [
    {
     "data": {
      "image/png": "[encoded data removed]",
      "text/plain": [
       "<matplotlib.figure.Figure at 0x1a18448dd0>"
      ]
     },
     "metadata": {},
     "output_type": "display_data"
    }
   ],
   "source": [
    "plt.plot(weeks, valueB)\n",
    "plt.show()"
   ]
  },
  {
   "cell_type": "markdown",
   "metadata": {},
   "source": [
    "## Combine Data into DataFrame"
   ]
  },
  {
   "cell_type": "code",
   "execution_count": 298,
   "metadata": {
    "collapsed": false
   },
   "outputs": [
    {
     "data": {
      "text/html": [
       "<div>\n",
       "<style scoped>\n",
       "    .dataframe tbody tr th:only-of-type {\n",
       "        vertical-align: middle;\n",
       "    }\n",
       "\n",
       "    .dataframe tbody tr th {\n",
       "        vertical-align: top;\n",
       "    }\n",
       "\n",
       "    .dataframe thead th {\n",
       "        text-align: right;\n",
       "    }\n",
       "</style>\n",
       "<table border=\"1\" class=\"dataframe\">\n",
       "  <thead>\n",
       "    <tr style=\"text-align: right;\">\n",
       "      <th></th>\n",
       "      <th>0</th>\n",
       "      <th>1</th>\n",
       "      <th>2</th>\n",
       "      <th>3</th>\n",
       "      <th>4</th>\n",
       "      <th>5</th>\n",
       "      <th>6</th>\n",
       "      <th>7</th>\n",
       "      <th>8</th>\n",
       "      <th>9</th>\n",
       "      <th>...</th>\n",
       "      <th>42</th>\n",
       "      <th>43</th>\n",
       "      <th>44</th>\n",
       "      <th>45</th>\n",
       "      <th>46</th>\n",
       "      <th>47</th>\n",
       "      <th>48</th>\n",
       "      <th>49</th>\n",
       "      <th>50</th>\n",
       "      <th>51</th>\n",
       "    </tr>\n",
       "  </thead>\n",
       "  <tbody>\n",
       "    <tr>\n",
       "      <th>0</th>\n",
       "      <td>1.047815</td>\n",
       "      <td>2.046946</td>\n",
       "      <td>1.015138</td>\n",
       "      <td>2.008146</td>\n",
       "      <td>1.031821</td>\n",
       "      <td>2.013646</td>\n",
       "      <td>1.020976</td>\n",
       "      <td>2.047351</td>\n",
       "      <td>1.014566</td>\n",
       "      <td>2.028522</td>\n",
       "      <td>...</td>\n",
       "      <td>1.007196</td>\n",
       "      <td>2.008829</td>\n",
       "      <td>1.042350</td>\n",
       "      <td>2.043924</td>\n",
       "      <td>1.044622</td>\n",
       "      <td>2.005514</td>\n",
       "      <td>1.044318</td>\n",
       "      <td>2.018718</td>\n",
       "      <td>1.017888</td>\n",
       "      <td>2.012316</td>\n",
       "    </tr>\n",
       "    <tr>\n",
       "      <th>1</th>\n",
       "      <td>1.012798</td>\n",
       "      <td>1.003416</td>\n",
       "      <td>2.033316</td>\n",
       "      <td>2.038689</td>\n",
       "      <td>1.044079</td>\n",
       "      <td>1.011467</td>\n",
       "      <td>2.030766</td>\n",
       "      <td>2.016157</td>\n",
       "      <td>1.040419</td>\n",
       "      <td>1.019628</td>\n",
       "      <td>...</td>\n",
       "      <td>2.003650</td>\n",
       "      <td>2.023042</td>\n",
       "      <td>1.004674</td>\n",
       "      <td>1.000243</td>\n",
       "      <td>2.003441</td>\n",
       "      <td>2.031688</td>\n",
       "      <td>1.016032</td>\n",
       "      <td>1.012267</td>\n",
       "      <td>2.006446</td>\n",
       "      <td>2.036409</td>\n",
       "    </tr>\n",
       "  </tbody>\n",
       "</table>\n",
       "<p>2 rows × 52 columns</p>\n",
       "</div>"
      ],
      "text/plain": [
       "         0         1         2         3         4         5         6   \\\n",
       "0  1.047815  2.046946  1.015138  2.008146  1.031821  2.013646  1.020976   \n",
       "1  1.012798  1.003416  2.033316  2.038689  1.044079  1.011467  2.030766   \n",
       "\n",
       "         7         8         9     ...           42        43        44  \\\n",
       "0  2.047351  1.014566  2.028522    ...     1.007196  2.008829  1.042350   \n",
       "1  2.016157  1.040419  1.019628    ...     2.003650  2.023042  1.004674   \n",
       "\n",
       "         45        46        47        48        49        50        51  \n",
       "0  2.043924  1.044622  2.005514  1.044318  2.018718  1.017888  2.012316  \n",
       "1  1.000243  2.003441  2.031688  1.016032  1.012267  2.006446  2.036409  \n",
       "\n",
       "[2 rows x 52 columns]"
      ]
     },
     "execution_count": 298,
     "metadata": {},
     "output_type": "execute_result"
    }
   ],
   "source": [
    "df = pd.DataFrame(data = [valueA, valueB])\n",
    "df"
   ]
  },
  {
   "cell_type": "markdown",
   "metadata": {},
   "source": [
    "## Pure Sklearn"
   ]
  },
  {
   "cell_type": "code",
   "execution_count": 301,
   "metadata": {
    "collapsed": true
   },
   "outputs": [],
   "source": [
    "zeroMean = df.values - np.mean(df.values, axis = 0)"
   ]
  },
  {
   "cell_type": "code",
   "execution_count": 302,
   "metadata": {
    "collapsed": false
   },
   "outputs": [],
   "source": [
    "zeroMean = pd.DataFrame(zeroMean)"
   ]
  },
  {
   "cell_type": "code",
   "execution_count": 303,
   "metadata": {
    "collapsed": false
   },
   "outputs": [
    {
     "data": {
      "text/html": [
       "<div>\n",
       "<style scoped>\n",
       "    .dataframe tbody tr th:only-of-type {\n",
       "        vertical-align: middle;\n",
       "    }\n",
       "\n",
       "    .dataframe tbody tr th {\n",
       "        vertical-align: top;\n",
       "    }\n",
       "\n",
       "    .dataframe thead th {\n",
       "        text-align: right;\n",
       "    }\n",
       "</style>\n",
       "<table border=\"1\" class=\"dataframe\">\n",
       "  <thead>\n",
       "    <tr style=\"text-align: right;\">\n",
       "      <th></th>\n",
       "      <th>0</th>\n",
       "      <th>1</th>\n",
       "      <th>2</th>\n",
       "      <th>3</th>\n",
       "      <th>4</th>\n",
       "      <th>5</th>\n",
       "      <th>6</th>\n",
       "      <th>7</th>\n",
       "      <th>8</th>\n",
       "      <th>9</th>\n",
       "      <th>...</th>\n",
       "      <th>42</th>\n",
       "      <th>43</th>\n",
       "      <th>44</th>\n",
       "      <th>45</th>\n",
       "      <th>46</th>\n",
       "      <th>47</th>\n",
       "      <th>48</th>\n",
       "      <th>49</th>\n",
       "      <th>50</th>\n",
       "      <th>51</th>\n",
       "    </tr>\n",
       "  </thead>\n",
       "  <tbody>\n",
       "    <tr>\n",
       "      <th>0</th>\n",
       "      <td>0.017509</td>\n",
       "      <td>0.521765</td>\n",
       "      <td>-0.509089</td>\n",
       "      <td>-0.015271</td>\n",
       "      <td>-0.006129</td>\n",
       "      <td>0.501089</td>\n",
       "      <td>-0.504895</td>\n",
       "      <td>0.015597</td>\n",
       "      <td>-0.012927</td>\n",
       "      <td>0.504447</td>\n",
       "      <td>...</td>\n",
       "      <td>-0.498227</td>\n",
       "      <td>-0.007106</td>\n",
       "      <td>0.018838</td>\n",
       "      <td>0.52184</td>\n",
       "      <td>-0.47941</td>\n",
       "      <td>-0.013087</td>\n",
       "      <td>0.014143</td>\n",
       "      <td>0.503226</td>\n",
       "      <td>-0.494279</td>\n",
       "      <td>-0.012047</td>\n",
       "    </tr>\n",
       "    <tr>\n",
       "      <th>1</th>\n",
       "      <td>-0.017509</td>\n",
       "      <td>-0.521765</td>\n",
       "      <td>0.509089</td>\n",
       "      <td>0.015271</td>\n",
       "      <td>0.006129</td>\n",
       "      <td>-0.501089</td>\n",
       "      <td>0.504895</td>\n",
       "      <td>-0.015597</td>\n",
       "      <td>0.012927</td>\n",
       "      <td>-0.504447</td>\n",
       "      <td>...</td>\n",
       "      <td>0.498227</td>\n",
       "      <td>0.007106</td>\n",
       "      <td>-0.018838</td>\n",
       "      <td>-0.52184</td>\n",
       "      <td>0.47941</td>\n",
       "      <td>0.013087</td>\n",
       "      <td>-0.014143</td>\n",
       "      <td>-0.503226</td>\n",
       "      <td>0.494279</td>\n",
       "      <td>0.012047</td>\n",
       "    </tr>\n",
       "  </tbody>\n",
       "</table>\n",
       "<p>2 rows × 52 columns</p>\n",
       "</div>"
      ],
      "text/plain": [
       "         0         1         2         3         4         5         6   \\\n",
       "0  0.017509  0.521765 -0.509089 -0.015271 -0.006129  0.501089 -0.504895   \n",
       "1 -0.017509 -0.521765  0.509089  0.015271  0.006129 -0.501089  0.504895   \n",
       "\n",
       "         7         8         9     ...           42        43        44  \\\n",
       "0  0.015597 -0.012927  0.504447    ...    -0.498227 -0.007106  0.018838   \n",
       "1 -0.015597  0.012927 -0.504447    ...     0.498227  0.007106 -0.018838   \n",
       "\n",
       "        45       46        47        48        49        50        51  \n",
       "0  0.52184 -0.47941 -0.013087  0.014143  0.503226 -0.494279 -0.012047  \n",
       "1 -0.52184  0.47941  0.013087 -0.014143 -0.503226  0.494279  0.012047  \n",
       "\n",
       "[2 rows x 52 columns]"
      ]
     },
     "execution_count": 303,
     "metadata": {},
     "output_type": "execute_result"
    }
   ],
   "source": [
    "zeroMean"
   ]
  },
  {
   "cell_type": "code",
   "execution_count": 304,
   "metadata": {
    "collapsed": false
   },
   "outputs": [],
   "source": [
    "# Make an instance of the Model\n",
    "pca = PCA(svd_solver = 'full')\n",
    "\n",
    "zeroMean_eig = pca.fit_transform(zeroMean)"
   ]
  },
  {
   "cell_type": "code",
   "execution_count": 309,
   "metadata": {
    "collapsed": false
   },
   "outputs": [
    {
     "data": {
      "text/plain": [
       "2"
      ]
     },
     "execution_count": 309,
     "metadata": {},
     "output_type": "execute_result"
    }
   ],
   "source": [
    "len(pca.components_)"
   ]
  },
  {
   "cell_type": "code",
   "execution_count": 305,
   "metadata": {
    "collapsed": false
   },
   "outputs": [
    {
     "data": {
      "image/png": "[encoded data removed]",
      "text/plain": [
       "<matplotlib.figure.Figure at 0x1a18a52e10>"
      ]
     },
     "metadata": {},
     "output_type": "display_data"
    }
   ],
   "source": [
    "# 1st Principal Component\n",
    "plt.plot(range(0, 52), pca.components_[0])\n",
    "plt.show()"
   ]
  },
  {
   "cell_type": "code",
   "execution_count": 306,
   "metadata": {
    "collapsed": false
   },
   "outputs": [
    {
     "data": {
      "text/plain": [
       "array([  1.00000000e+00,   2.04078380e-32])"
      ]
     },
     "execution_count": 306,
     "metadata": {},
     "output_type": "execute_result"
    }
   ],
   "source": [
    "# Only need first component\n",
    "pca.explained_variance_ratio_"
   ]
  },
  {
   "cell_type": "code",
   "execution_count": 307,
   "metadata": {
    "collapsed": false
   },
   "outputs": [
    {
     "data": {
      "image/png": "[encoded data removed]",
      "text/plain": [
       "<matplotlib.figure.Figure at 0x1a18614cd0>"
      ]
     },
     "metadata": {},
     "output_type": "display_data"
    }
   ],
   "source": [
    "## Useless\n",
    "\n",
    "# 2nd Principal Component\n",
    "plt.plot(range(0, 52), pca.components_[1])\n",
    "plt.show()"
   ]
  },
  {
   "cell_type": "markdown",
   "metadata": {},
   "source": [
    "## Zero Mean the Data"
   ]
  },
  {
   "cell_type": "code",
   "execution_count": 285,
   "metadata": {
    "collapsed": false
   },
   "outputs": [],
   "source": [
    "zeroMean = df.values - np.mean(df.values, axis = 0)"
   ]
  },
  {
   "cell_type": "code",
   "execution_count": 286,
   "metadata": {
    "collapsed": false
   },
   "outputs": [],
   "source": [
    "testDataframe= pd.DataFrame(zeroMean)"
   ]
  },
  {
   "cell_type": "markdown",
   "metadata": {},
   "source": [
    "## Option 1"
   ]
  },
  {
   "cell_type": "code",
   "execution_count": 287,
   "metadata": {
    "collapsed": false
   },
   "outputs": [],
   "source": [
    "cov_mat = (zeroMean).T.dot((zeroMean)) / (zeroMean.shape[0]-1)"
   ]
  },
  {
   "cell_type": "code",
   "execution_count": 288,
   "metadata": {
    "collapsed": false
   },
   "outputs": [],
   "source": [
    "# To not have weird imaginary stuff, \n",
    "# use https://stackoverflow.com/questions/8765310/scipy-linalg-eig-return-complex-eigenvalues-for-covariance-matrix?rq=1\n",
    "\n",
    "eig_vals, eig_vecs = np.linalg.eigh(cov_mat)"
   ]
  },
  {
   "cell_type": "code",
   "execution_count": 289,
   "metadata": {
    "collapsed": false
   },
   "outputs": [
    {
     "data": {
      "image/png": "[encoded data removed]",
      "text/plain": [
       "<matplotlib.figure.Figure at 0x1a18fb2190>"
      ]
     },
     "metadata": {},
     "output_type": "display_data"
    }
   ],
   "source": [
    "plt.plot(range(0, 52), eig_vecs[0])\n",
    "plt.show()"
   ]
  },
  {
   "cell_type": "code",
   "execution_count": 290,
   "metadata": {
    "collapsed": false
   },
   "outputs": [
    {
     "name": "stdout",
     "output_type": "stream",
     "text": [
      "Eigenvectors \n",
      "[[  8.66535490e-04   2.24238703e-05   0.00000000e+00 ...,   9.99948891e-01\n",
      "   -9.69471704e-03   2.58469468e-03]\n",
      " [ -3.98467345e-01   6.85036063e-03  -3.87266428e-02 ...,   8.49687621e-03\n",
      "    8.92358595e-01   1.99202406e-01]\n",
      " [  2.90911802e-01  -1.05110115e-02  -1.34424296e-01 ...,   1.67658678e-03\n",
      "    1.33974556e-01  -1.94996760e-01]\n",
      " ..., \n",
      " [ -4.91130653e-01   5.97748216e-03   1.49388627e-01 ...,  -2.67820465e-03\n",
      "   -2.70156023e-01   1.97657449e-01]\n",
      " [ -8.03703507e-02   2.19860608e-02  -4.97879872e-01 ...,   3.96793617e-04\n",
      "   -2.32065003e-02  -1.96287191e-01]\n",
      " [ -2.27860463e-03   1.11852431e-03  -1.04143108e-02 ...,  -1.82905814e-05\n",
      "   -1.43705298e-03   2.14319532e-03]]\n",
      "\n",
      "Eigenvalues \n",
      "[ -7.64743386e-16  -2.56084279e-16  -2.03322700e-16  -1.90880092e-16\n",
      "  -1.53616130e-16  -1.33489732e-16  -1.28136214e-16  -1.03908304e-16\n",
      "  -8.00404746e-17  -7.18485926e-17  -4.76532901e-17  -3.03226990e-17\n",
      "  -1.17336026e-17  -9.62708518e-18  -8.94076503e-18  -7.31705066e-19\n",
      "  -2.57544374e-19  -8.26239866e-20  -7.48490925e-20  -6.83341663e-20\n",
      "  -4.30573000e-20  -1.37837476e-20  -9.26481781e-21  -8.69847295e-21\n",
      "  -4.26850361e-21  -2.22865792e-21  -5.67872642e-22  -2.23290267e-22\n",
      "   4.81332211e-22   1.40393805e-21   1.99617031e-21   3.57313646e-21\n",
      "   1.59553632e-20   3.68457097e-20   3.73775311e-20   7.23659520e-20\n",
      "   1.20882521e-19   3.67390950e-19   8.32823322e-19   2.56040083e-18\n",
      "   1.04482956e-17   4.45620250e-17   7.30009094e-17   7.76102343e-17\n",
      "   1.22906148e-16   1.70306189e-16   1.95391082e-16   2.06317779e-16\n",
      "   2.62256205e-16   2.89499484e-15   3.39813495e-15   1.30381750e+01]\n"
     ]
    }
   ],
   "source": [
    "print('Eigenvectors \\n%s' %eig_vecs)\n",
    "print('\\nEigenvalues \\n%s' %eig_vals)"
   ]
  },
  {
   "cell_type": "markdown",
   "metadata": {},
   "source": [
    "## Scale the Data"
   ]
  },
  {
   "cell_type": "code",
   "execution_count": 91,
   "metadata": {
    "collapsed": false
   },
   "outputs": [],
   "source": [
    "zeroMeanDf = df - df.mean()"
   ]
  },
  {
   "cell_type": "code",
   "execution_count": 92,
   "metadata": {
    "collapsed": false
   },
   "outputs": [
    {
     "data": {
      "text/html": [
       "<div>\n",
       "<style scoped>\n",
       "    .dataframe tbody tr th:only-of-type {\n",
       "        vertical-align: middle;\n",
       "    }\n",
       "\n",
       "    .dataframe tbody tr th {\n",
       "        vertical-align: top;\n",
       "    }\n",
       "\n",
       "    .dataframe thead th {\n",
       "        text-align: right;\n",
       "    }\n",
       "</style>\n",
       "<table border=\"1\" class=\"dataframe\">\n",
       "  <thead>\n",
       "    <tr style=\"text-align: right;\">\n",
       "      <th></th>\n",
       "      <th>0</th>\n",
       "      <th>1</th>\n",
       "      <th>2</th>\n",
       "      <th>3</th>\n",
       "      <th>4</th>\n",
       "      <th>5</th>\n",
       "      <th>6</th>\n",
       "      <th>7</th>\n",
       "      <th>8</th>\n",
       "      <th>9</th>\n",
       "      <th>...</th>\n",
       "      <th>42</th>\n",
       "      <th>43</th>\n",
       "      <th>44</th>\n",
       "      <th>45</th>\n",
       "      <th>46</th>\n",
       "      <th>47</th>\n",
       "      <th>48</th>\n",
       "      <th>49</th>\n",
       "      <th>50</th>\n",
       "      <th>51</th>\n",
       "    </tr>\n",
       "  </thead>\n",
       "  <tbody>\n",
       "    <tr>\n",
       "      <th>0</th>\n",
       "      <td>0.001217</td>\n",
       "      <td>0.50603</td>\n",
       "      <td>-0.502388</td>\n",
       "      <td>-0.012466</td>\n",
       "      <td>-0.01801</td>\n",
       "      <td>0.510753</td>\n",
       "      <td>-0.505805</td>\n",
       "      <td>0.009097</td>\n",
       "      <td>-0.009202</td>\n",
       "      <td>0.502003</td>\n",
       "      <td>...</td>\n",
       "      <td>-0.488753</td>\n",
       "      <td>0.011349</td>\n",
       "      <td>0.003721</td>\n",
       "      <td>0.488499</td>\n",
       "      <td>-0.497331</td>\n",
       "      <td>-0.017229</td>\n",
       "      <td>-0.006989</td>\n",
       "      <td>0.505408</td>\n",
       "      <td>-0.493037</td>\n",
       "      <td>0.005609</td>\n",
       "    </tr>\n",
       "    <tr>\n",
       "      <th>1</th>\n",
       "      <td>-0.001217</td>\n",
       "      <td>-0.50603</td>\n",
       "      <td>0.502388</td>\n",
       "      <td>0.012466</td>\n",
       "      <td>0.01801</td>\n",
       "      <td>-0.510753</td>\n",
       "      <td>0.505805</td>\n",
       "      <td>-0.009097</td>\n",
       "      <td>0.009202</td>\n",
       "      <td>-0.502003</td>\n",
       "      <td>...</td>\n",
       "      <td>0.488753</td>\n",
       "      <td>-0.011349</td>\n",
       "      <td>-0.003721</td>\n",
       "      <td>-0.488499</td>\n",
       "      <td>0.497331</td>\n",
       "      <td>0.017229</td>\n",
       "      <td>0.006989</td>\n",
       "      <td>-0.505408</td>\n",
       "      <td>0.493037</td>\n",
       "      <td>-0.005609</td>\n",
       "    </tr>\n",
       "  </tbody>\n",
       "</table>\n",
       "<p>2 rows × 52 columns</p>\n",
       "</div>"
      ],
      "text/plain": [
       "         0        1         2         3        4         5         6   \\\n",
       "0  0.001217  0.50603 -0.502388 -0.012466 -0.01801  0.510753 -0.505805   \n",
       "1 -0.001217 -0.50603  0.502388  0.012466  0.01801 -0.510753  0.505805   \n",
       "\n",
       "         7         8         9     ...           42        43        44  \\\n",
       "0  0.009097 -0.009202  0.502003    ...    -0.488753  0.011349  0.003721   \n",
       "1 -0.009097  0.009202 -0.502003    ...     0.488753 -0.011349 -0.003721   \n",
       "\n",
       "         45        46        47        48        49        50        51  \n",
       "0  0.488499 -0.497331 -0.017229 -0.006989  0.505408 -0.493037  0.005609  \n",
       "1 -0.488499  0.497331  0.017229  0.006989 -0.505408  0.493037 -0.005609  \n",
       "\n",
       "[2 rows x 52 columns]"
      ]
     },
     "execution_count": 92,
     "metadata": {},
     "output_type": "execute_result"
    }
   ],
   "source": [
    "zeroMeanDf"
   ]
  },
  {
   "cell_type": "markdown",
   "metadata": {},
   "source": [
    "## Apply PCA"
   ]
  },
  {
   "cell_type": "code",
   "execution_count": 100,
   "metadata": {
    "collapsed": false
   },
   "outputs": [
    {
     "data": {
      "text/plain": [
       "array([[ 0.00121733,  0.5060298 , -0.50238829, -0.01246604, -0.01800954,\n",
       "         0.51075348, -0.50580458,  0.00909651, -0.00920197,  0.50200344,\n",
       "        -0.4889561 , -0.00172163, -0.00753692,  0.50804438, -0.50778877,\n",
       "         0.00647072,  0.01324976,  0.50041224, -0.49457071, -0.00354003,\n",
       "         0.00897593,  0.50360805, -0.49771815, -0.00333147,  0.00772373,\n",
       "         0.5029433 , -0.51259607,  0.0132631 ,  0.00385893,  0.50231101,\n",
       "        -0.49157808, -0.01949861, -0.01626564,  0.49493761, -0.49339137,\n",
       "        -0.001006  ,  0.01516877,  0.48157167, -0.51560102,  0.01937497,\n",
       "        -0.00470343,  0.49469408, -0.48875264,  0.01134894,  0.00372072,\n",
       "         0.48849919, -0.49733081, -0.01722944, -0.00698886,  0.50540801,\n",
       "        -0.49303717,  0.0056091 ],\n",
       "       [-0.00121733, -0.5060298 ,  0.50238829,  0.01246604,  0.01800954,\n",
       "        -0.51075348,  0.50580458, -0.00909651,  0.00920197, -0.50200344,\n",
       "         0.4889561 ,  0.00172163,  0.00753692, -0.50804438,  0.50778877,\n",
       "        -0.00647072, -0.01324976, -0.50041224,  0.49457071,  0.00354003,\n",
       "        -0.00897593, -0.50360805,  0.49771815,  0.00333147, -0.00772373,\n",
       "        -0.5029433 ,  0.51259607, -0.0132631 , -0.00385893, -0.50231101,\n",
       "         0.49157808,  0.01949861,  0.01626564, -0.49493761,  0.49339137,\n",
       "         0.001006  , -0.01516877, -0.48157167,  0.51560102, -0.01937497,\n",
       "         0.00470343, -0.49469408,  0.48875264, -0.01134894, -0.00372072,\n",
       "        -0.48849919,  0.49733081,  0.01722944,  0.00698886, -0.50540801,\n",
       "         0.49303717, -0.0056091 ]])"
      ]
     },
     "execution_count": 100,
     "metadata": {},
     "output_type": "execute_result"
    }
   ],
   "source": [
    " = zeroMeanDf.values"
   ]
  },
  {
   "cell_type": "code",
   "execution_count": 93,
   "metadata": {
    "collapsed": true
   },
   "outputs": [],
   "source": [
    "from sklearn.decomposition import PCA"
   ]
  },
  {
   "cell_type": "code",
   "execution_count": 94,
   "metadata": {
    "collapsed": true
   },
   "outputs": [],
   "source": [
    "# Make an instance of the Model\n",
    "pca = PCA()"
   ]
  },
  {
   "cell_type": "code",
   "execution_count": 95,
   "metadata": {
    "collapsed": true
   },
   "outputs": [],
   "source": [
    "eigenvectors = pca.fit_transform(zeroMeanDf)"
   ]
  },
  {
   "cell_type": "code",
   "execution_count": 99,
   "metadata": {
    "collapsed": false
   },
   "outputs": [
    {
     "data": {
      "text/plain": [
       "0    0.001217\n",
       "1   -0.001217\n",
       "Name: 0, dtype: float64"
      ]
     },
     "execution_count": 99,
     "metadata": {},
     "output_type": "execute_result"
    }
   ],
   "source": [
    "eo"
   ]
  },
  {
   "cell_type": "code",
   "execution_count": 81,
   "metadata": {
    "collapsed": false
   },
   "outputs": [
    {
     "data": {
      "image/png": "[encoded data removed]",
      "text/plain": [
       "<matplotlib.figure.Figure at 0x1a16acc090>"
      ]
     },
     "metadata": {},
     "output_type": "display_data"
    }
   ],
   "source": [
    "# Make each feature (week have zero mean)\n",
    "plt.plot(range(0, 52), (df - df.mean()).loc[0].values)\n",
    "plt.show()"
   ]
  },
  {
   "cell_type": "markdown",
   "metadata": {},
   "source": [
    "##### Create the PCA fit using sklearn function\n",
    "\n",
    "We will see what is going on behind the scenes below.  For the purposes of this example, we keep all components so that we can fully reconstruct the original parameter matrix, $X$"
   ]
  },
  {
   "cell_type": "code",
   "execution_count": 3,
   "metadata": {
    "collapsed": false
   },
   "outputs": [
    {
     "data": {
      "text/plain": [
       "PCA(copy=True, iterated_power='auto', n_components=2, random_state=None,\n",
       "  svd_solver='auto', tol=0.0, whiten=False)"
      ]
     },
     "execution_count": 3,
     "metadata": {},
     "output_type": "execute_result"
    }
   ],
   "source": [
    "pca = PCA(n_components=2)\n",
    "pca.fit(X)"
   ]
  },
  {
   "cell_type": "markdown",
   "metadata": {},
   "source": [
    "##### Transform the data into new space using sklearn built in function\n",
    "\n",
    "Formally, we are projected the original parameters onto the new space defined by directions of maximum variance (where the directions are orthogonal to eachother)"
   ]
  },
  {
   "cell_type": "code",
   "execution_count": 5,
   "metadata": {
    "collapsed": false
   },
   "outputs": [
    {
     "data": {
      "text/plain": [
       "array([[ 1.38340578,  0.2935787 ],\n",
       "       [ 2.22189802, -0.25133484],\n",
       "       [ 3.6053038 ,  0.04224385],\n",
       "       [-1.38340578, -0.2935787 ],\n",
       "       [-2.22189802,  0.25133484],\n",
       "       [-3.6053038 , -0.04224385]])"
      ]
     },
     "execution_count": 5,
     "metadata": {},
     "output_type": "execute_result"
    }
   ],
   "source": [
    "# representation of X in transformed space, ie, projection of X onto new basis\n",
    "Z = pca.transform(X)\n",
    "Z"
   ]
  },
  {
   "cell_type": "markdown",
   "metadata": {},
   "source": [
    "##### The new space is represented by a basis, which happen to be the eigenvectors\n",
    "\n",
    "these are the eigenvectors (directions) for the transformed data in the reduced space"
   ]
  },
  {
   "cell_type": "code",
   "execution_count": 16,
   "metadata": {
    "collapsed": false
   },
   "outputs": [
    {
     "data": {
      "text/plain": [
       "array([[-0.83849224, -0.54491354],\n",
       "       [ 0.54491354, -0.83849224]])"
      ]
     },
     "execution_count": 16,
     "metadata": {},
     "output_type": "execute_result"
    }
   ],
   "source": [
    "pca.components_ "
   ]
  },
  {
   "cell_type": "markdown",
   "metadata": {},
   "source": [
    "##### In solving the PCA problem, the eigenvectors are constructed to be orthonormal\n",
    "\n",
    "that is, $ \\vec{e}_i \\cdot  \\vec{e}_j = 0$ when $j \\ne i$ and $ \\vec{e}_i \\cdot  \\vec{e}_j = 1$ when $j = i$"
   ]
  },
  {
   "cell_type": "code",
   "execution_count": 15,
   "metadata": {
    "collapsed": false
   },
   "outputs": [
    {
     "name": "stdout",
     "output_type": "stream",
     "text": [
      "0.0\n",
      "1.0\n"
     ]
    }
   ],
   "source": [
    "print(np.dot(pca.components_[:,0],pca.components_[:,1]))\n",
    "print(np.dot(pca.components_[:,0],pca.components_[:,0]))"
   ]
  },
  {
   "cell_type": "markdown",
   "metadata": {},
   "source": [
    "##### Singular values\n",
    "\n",
    "We will say more about these below"
   ]
  },
  {
   "cell_type": "code",
   "execution_count": 14,
   "metadata": {
    "collapsed": false
   },
   "outputs": [
    {
     "data": {
      "text/plain": [
       "array([ 6.30061232,  0.54980396])"
      ]
     },
     "execution_count": 14,
     "metadata": {},
     "output_type": "execute_result"
    }
   ],
   "source": [
    "pca.singular_values_"
   ]
  },
  {
   "cell_type": "markdown",
   "metadata": {},
   "source": [
    "##### Transform from new space back to the original parameter space\n",
    "\n",
    "projection of new basis representation of $X$ back to original basis representation of $X$, which recovers original data (when all components used)"
   ]
  },
  {
   "cell_type": "code",
   "execution_count": 9,
   "metadata": {
    "collapsed": false
   },
   "outputs": [
    {
     "data": {
      "text/plain": [
       "array([[-1., -1.],\n",
       "       [-2., -1.],\n",
       "       [-3., -2.],\n",
       "       [ 1.,  1.],\n",
       "       [ 2.,  1.],\n",
       "       [ 3.,  2.]])"
      ]
     },
     "execution_count": 9,
     "metadata": {},
     "output_type": "execute_result"
    }
   ],
   "source": [
    "pca.inverse_transform(Z)"
   ]
  },
  {
   "cell_type": "markdown",
   "metadata": {},
   "source": [
    "#### Above, we have shown the full deconstruction and reconstruction of X when using all components.\n",
    "\n",
    "We will now walk through two separate calculations using some linear algebra (which is what sklearn functions are actually doing)"
   ]
  },
  {
   "cell_type": "markdown",
   "metadata": {},
   "source": [
    "##### We will compute the Covariance matrix $C$ and corresponding eigenvectors and eigenvalues"
   ]
  },
  {
   "cell_type": "code",
   "execution_count": 10,
   "metadata": {
    "collapsed": true
   },
   "outputs": [],
   "source": [
    "C = 1/(X.shape[0])*np.dot(X.T,X)\n",
    "w, v = np.linalg.eig(C) "
   ]
  },
  {
   "cell_type": "markdown",
   "metadata": {},
   "source": [
    "##### The components output from sklearn is simply the eigenvalues of the covariance matrix"
   ]
  },
  {
   "cell_type": "code",
   "execution_count": 11,
   "metadata": {
    "collapsed": false
   },
   "outputs": [
    {
     "data": {
      "text/plain": [
       "array([[ 0.83849224, -0.54491354],\n",
       "       [ 0.54491354,  0.83849224]])"
      ]
     },
     "execution_count": 11,
     "metadata": {},
     "output_type": "execute_result"
    }
   ],
   "source": [
    "v"
   ]
  },
  {
   "cell_type": "markdown",
   "metadata": {},
   "source": [
    "##### The eigenvalues do not show up explicitly in the sklearn object, but are nothing more than the (scaled) square of the singular values"
   ]
  },
  {
   "cell_type": "code",
   "execution_count": 13,
   "metadata": {
    "collapsed": false
   },
   "outputs": [
    {
     "data": {
      "text/plain": [
       "array([ 6.30061232,  0.54980396])"
      ]
     },
     "execution_count": 13,
     "metadata": {},
     "output_type": "execute_result"
    }
   ],
   "source": [
    "np.sqrt(w*(X.shape[0]))"
   ]
  },
  {
   "cell_type": "markdown",
   "metadata": {},
   "source": [
    "##### you can calculate your eigenvectors with the PCA outputs\n",
    "\n",
    "$ Z = XV$ where $V'$ = pca.components_ array"
   ]
  },
  {
   "cell_type": "code",
   "execution_count": 17,
   "metadata": {
    "collapsed": false
   },
   "outputs": [
    {
     "data": {
      "text/plain": [
       "array([[ 1.38340578,  0.2935787 ],\n",
       "       [ 2.22189802, -0.25133484],\n",
       "       [ 3.6053038 ,  0.04224385],\n",
       "       [-1.38340578, -0.2935787 ],\n",
       "       [-2.22189802,  0.25133484],\n",
       "       [-3.6053038 , -0.04224385]])"
      ]
     },
     "execution_count": 17,
     "metadata": {},
     "output_type": "execute_result"
    }
   ],
   "source": [
    "Z1 = np.dot(X,pca.components_.T)\n",
    "Z1"
   ]
  },
  {
   "cell_type": "code",
   "execution_count": null,
   "metadata": {
    "collapsed": true
   },
   "outputs": [],
   "source": [
    "# SVD can be recovered: X = U*sig*V'\n",
    "sig_inv = np.linalg.inv(np.eye(2)*pca.singular_values_)\n",
    "\n",
    "U = np.dot(Z1,sig_inv) \n",
    "U"
   ]
  },
  {
   "cell_type": "code",
   "execution_count": null,
   "metadata": {
    "collapsed": true
   },
   "outputs": [],
   "source": [
    "# check U orthonormal\n",
    "print(np.dot(U[:,0],U[:,1]))\n",
    "np.linalg.norm(np.dot(U[:,0],U[:,1])) < 10**-10"
   ]
  },
  {
   "cell_type": "markdown",
   "metadata": {},
   "source": [
    "##### map back to original space"
   ]
  },
  {
   "cell_type": "code",
   "execution_count": null,
   "metadata": {
    "collapsed": true
   },
   "outputs": [],
   "source": [
    "Xhat = np.dot(Z1,pca.components_)\n",
    "Xhat"
   ]
  },
  {
   "cell_type": "markdown",
   "metadata": {},
   "source": [
    "<h3>Now use Singular Value Decomposition (SVD) to do same thing without using sklearn wrapper</h3>\n",
    "\n",
    "$ X = U\\Sigma V'$ is the common SVD representation, where $U$ and $V$ are unitary, and $\\Sigma$ is diagonal.  Then, we have,\n",
    "\n",
    "$Z := XV = U\\Sigma $ and clearly, to recover $X$, we have $X = ZV' = XVV'$"
   ]
  },
  {
   "cell_type": "code",
   "execution_count": 56,
   "metadata": {
    "collapsed": true
   },
   "outputs": [],
   "source": [
    "u, s, vh = np.linalg.svd(X, full_matrices=True)"
   ]
  },
  {
   "cell_type": "code",
   "execution_count": 57,
   "metadata": {
    "collapsed": false
   },
   "outputs": [
    {
     "name": "stdout",
     "output_type": "stream",
     "text": [
      "(6, 6)\n",
      "(2, 2)\n",
      "(2, 2)\n"
     ]
    }
   ],
   "source": [
    "print(u.shape)\n",
    "print(np.diag(s).shape)\n",
    "print(vh.shape)"
   ]
  },
  {
   "cell_type": "code",
   "execution_count": 58,
   "metadata": {
    "collapsed": false
   },
   "outputs": [
    {
     "data": {
      "text/plain": [
       "array([[-0.21956688,  0.53396977, -0.48030985,  0.45219595,  0.02811389,\n",
       "         0.48030985],\n",
       "       [-0.35264795, -0.45713538, -0.30371038, -0.31508521,  0.61879559,\n",
       "         0.30371038],\n",
       "       [-0.57221483,  0.07683439,  0.75680405,  0.17257785,  0.0706181 ,\n",
       "         0.24319595],\n",
       "       [ 0.21956688, -0.53396977,  0.03329824,  0.79735166,  0.1693501 ,\n",
       "        -0.03329824],\n",
       "       [ 0.35264795,  0.45713538,  0.20989771,  0.03007049,  0.7600318 ,\n",
       "        -0.20989771],\n",
       "       [ 0.57221483, -0.07683439,  0.24319595, -0.17257785, -0.0706181 ,\n",
       "         0.75680405]])"
      ]
     },
     "execution_count": 58,
     "metadata": {},
     "output_type": "execute_result"
    }
   ],
   "source": [
    "u"
   ]
  },
  {
   "cell_type": "code",
   "execution_count": 59,
   "metadata": {
    "collapsed": false
   },
   "outputs": [
    {
     "data": {
      "text/plain": [
       "array([ 6.30061232,  0.54980396])"
      ]
     },
     "execution_count": 59,
     "metadata": {},
     "output_type": "execute_result"
    }
   ],
   "source": [
    "s"
   ]
  },
  {
   "cell_type": "code",
   "execution_count": 60,
   "metadata": {
    "collapsed": false
   },
   "outputs": [
    {
     "data": {
      "text/plain": [
       "array([[ 6.30061232,  0.        ],\n",
       "       [ 0.        ,  0.54980396],\n",
       "       [ 0.        ,  0.        ],\n",
       "       [ 0.        ,  0.        ],\n",
       "       [ 0.        ,  0.        ],\n",
       "       [ 0.        ,  0.        ]])"
      ]
     },
     "execution_count": 60,
     "metadata": {},
     "output_type": "execute_result"
    }
   ],
   "source": [
    "# full representation of singular values\n",
    "S = np.zeros((6, 2))\n",
    "S[:2, :2] = np.diag(s)\n",
    "S"
   ]
  },
  {
   "cell_type": "code",
   "execution_count": 61,
   "metadata": {
    "collapsed": false
   },
   "outputs": [
    {
     "data": {
      "text/plain": [
       "array([[ 0.83849224,  0.54491354],\n",
       "       [ 0.54491354, -0.83849224]])"
      ]
     },
     "execution_count": 61,
     "metadata": {},
     "output_type": "execute_result"
    }
   ],
   "source": [
    "vh"
   ]
  },
  {
   "cell_type": "markdown",
   "metadata": {},
   "source": [
    "##### Create basis for transformed space, ie, create $Z$.  Note that this will equal sklearn up to order, to get perfect match, we would order these based on largest singular value"
   ]
  },
  {
   "cell_type": "code",
   "execution_count": 65,
   "metadata": {
    "collapsed": false
   },
   "outputs": [
    {
     "data": {
      "text/plain": [
       "array([[-1.38340578,  0.2935787 ],\n",
       "       [-2.22189802, -0.25133484],\n",
       "       [-3.6053038 ,  0.04224385],\n",
       "       [ 1.38340578, -0.2935787 ],\n",
       "       [ 2.22189802,  0.25133484],\n",
       "       [ 3.6053038 , -0.04224385]])"
      ]
     },
     "execution_count": 65,
     "metadata": {},
     "output_type": "execute_result"
    }
   ],
   "source": [
    "Z2 = np.dot(X,vh.T)\n",
    "Z2"
   ]
  },
  {
   "cell_type": "markdown",
   "metadata": {},
   "source": [
    "##### Map back to original paramter space, ie, recover X"
   ]
  },
  {
   "cell_type": "code",
   "execution_count": 68,
   "metadata": {
    "collapsed": false
   },
   "outputs": [
    {
     "data": {
      "text/plain": [
       "array([[-1., -1.],\n",
       "       [-2., -1.],\n",
       "       [-3., -2.],\n",
       "       [ 1.,  1.],\n",
       "       [ 2.,  1.],\n",
       "       [ 3.,  2.]])"
      ]
     },
     "execution_count": 68,
     "metadata": {},
     "output_type": "execute_result"
    }
   ],
   "source": [
    "Xhat1 = np.dot(Z2,vh)\n",
    "Xhat1"
   ]
  },
  {
   "cell_type": "markdown",
   "metadata": {},
   "source": [
    "## Concluding Remarks\n",
    "\n",
    "In using PCA Analysis, to reduce dimension, we simply start removing eigenvectors that correspond to 'small' eigenvalues, then proceed with the same calculation.  \n",
    "\n",
    "Or, in terms of [SVD](https://en.wikipedia.org/wiki/Singular-value_decomposition), remove singular values that are 'small' and their corresponding singular vectors.  \n",
    "\n",
    "In either case, you proceed with the calculations above with the reduced matrices / vectors.\n",
    "\n",
    "#### That's it, now you're an expert in the PCA done by sklearn"
   ]
  },
  {
   "cell_type": "code",
   "execution_count": null,
   "metadata": {
    "collapsed": true
   },
   "outputs": [],
   "source": []
  },
  {
   "cell_type": "code",
   "execution_count": null,
   "metadata": {
    "collapsed": true
   },
   "outputs": [],
   "source": []
  },
  {
   "cell_type": "markdown",
   "metadata": {},
   "source": [
    "## Tutorial"
   ]
  },
  {
   "cell_type": "markdown",
   "metadata": {},
   "source": [
    "### Get Data"
   ]
  },
  {
   "cell_type": "code",
   "execution_count": 437,
   "metadata": {
    "collapsed": true
   },
   "outputs": [],
   "source": [
    "import pandas as pd\n",
    "url = \"https://archive.ics.uci.edu/ml/machine-learning-databases/iris/iris.data\"\n",
    "\n",
    "# load dataset into Pandas DataFrame\n",
    "df = pd.read_csv(url, names=['sepal length','sepal width','petal length','petal width','target'])"
   ]
  },
  {
   "cell_type": "code",
   "execution_count": 438,
   "metadata": {
    "collapsed": false
   },
   "outputs": [],
   "source": [
    "df = df.iloc[:, 0:-1]"
   ]
  },
  {
   "cell_type": "code",
   "execution_count": 439,
   "metadata": {
    "collapsed": false
   },
   "outputs": [
    {
     "data": {
      "text/html": [
       "<div>\n",
       "<style scoped>\n",
       "    .dataframe tbody tr th:only-of-type {\n",
       "        vertical-align: middle;\n",
       "    }\n",
       "\n",
       "    .dataframe tbody tr th {\n",
       "        vertical-align: top;\n",
       "    }\n",
       "\n",
       "    .dataframe thead th {\n",
       "        text-align: right;\n",
       "    }\n",
       "</style>\n",
       "<table border=\"1\" class=\"dataframe\">\n",
       "  <thead>\n",
       "    <tr style=\"text-align: right;\">\n",
       "      <th></th>\n",
       "      <th>sepal length</th>\n",
       "      <th>sepal width</th>\n",
       "      <th>petal length</th>\n",
       "      <th>petal width</th>\n",
       "    </tr>\n",
       "  </thead>\n",
       "  <tbody>\n",
       "    <tr>\n",
       "      <th>0</th>\n",
       "      <td>5.1</td>\n",
       "      <td>3.5</td>\n",
       "      <td>1.4</td>\n",
       "      <td>0.2</td>\n",
       "    </tr>\n",
       "    <tr>\n",
       "      <th>1</th>\n",
       "      <td>4.9</td>\n",
       "      <td>3.0</td>\n",
       "      <td>1.4</td>\n",
       "      <td>0.2</td>\n",
       "    </tr>\n",
       "    <tr>\n",
       "      <th>2</th>\n",
       "      <td>4.7</td>\n",
       "      <td>3.2</td>\n",
       "      <td>1.3</td>\n",
       "      <td>0.2</td>\n",
       "    </tr>\n",
       "    <tr>\n",
       "      <th>3</th>\n",
       "      <td>4.6</td>\n",
       "      <td>3.1</td>\n",
       "      <td>1.5</td>\n",
       "      <td>0.2</td>\n",
       "    </tr>\n",
       "    <tr>\n",
       "      <th>4</th>\n",
       "      <td>5.0</td>\n",
       "      <td>3.6</td>\n",
       "      <td>1.4</td>\n",
       "      <td>0.2</td>\n",
       "    </tr>\n",
       "  </tbody>\n",
       "</table>\n",
       "</div>"
      ],
      "text/plain": [
       "   sepal length  sepal width  petal length  petal width\n",
       "0           5.1          3.5           1.4          0.2\n",
       "1           4.9          3.0           1.4          0.2\n",
       "2           4.7          3.2           1.3          0.2\n",
       "3           4.6          3.1           1.5          0.2\n",
       "4           5.0          3.6           1.4          0.2"
      ]
     },
     "execution_count": 439,
     "metadata": {},
     "output_type": "execute_result"
    }
   ],
   "source": [
    "df.head()"
   ]
  },
  {
   "cell_type": "markdown",
   "metadata": {},
   "source": [
    "### Covariance"
   ]
  },
  {
   "cell_type": "markdown",
   "metadata": {},
   "source": [
    "The classic approach to PCA is to perform the eigendecomposition on the covariance matrix $\\Sigma$, which is a $n \\times n$ matrix where each element represents the covariance between two features. The covariance between two features is calculated as follows:\n",
    "\n",
    "$sigma = \\frac{1}{K}\\sum_{k=1}^{K}\\left(  x^{(k)}-\\bar{x}\\right)\\left(  x^{(k)}-\\bar{x}\\right)^{T}.$\n",
    "\n",
    "Some people use K-1 instead of K for [bessels correction](https://en.wikipedia.org/wiki/Bessel%27s_correction)\n",
    "\n",
    "where $\\mathbf{\\bar{x}}$ is the mean vector \n",
    "$\\mathbf{\\bar{x}} = \\frac{1}{K}\\sum\\limits_{k=1}^K x^{(k)}.$  \n",
    "The mean vector is a $n$-dimensional vector where each value in this vector represents the sample mean of a feature column in the dataset."
   ]
  },
  {
   "cell_type": "code",
   "execution_count": 444,
   "metadata": {
    "collapsed": false
   },
   "outputs": [],
   "source": [
    "zeroMean = (df.values - np.mean(df.values, axis = 0)) /np.std(df.values, axis = 0)\n",
    "#zeroMean = (df.values - np.mean(df.values, axis = 0))"
   ]
  },
  {
   "cell_type": "code",
   "execution_count": 445,
   "metadata": {
    "collapsed": false
   },
   "outputs": [],
   "source": [
    "zeroMean = pd.DataFrame(zeroMean)"
   ]
  },
  {
   "cell_type": "code",
   "execution_count": 446,
   "metadata": {
    "collapsed": true
   },
   "outputs": [],
   "source": [
    "cov_mat = (zeroMean).T.dot((zeroMean)) / (zeroMean.shape[0])"
   ]
  },
  {
   "cell_type": "code",
   "execution_count": 447,
   "metadata": {
    "collapsed": false
   },
   "outputs": [
    {
     "data": {
      "text/html": [
       "<div>\n",
       "<style scoped>\n",
       "    .dataframe tbody tr th:only-of-type {\n",
       "        vertical-align: middle;\n",
       "    }\n",
       "\n",
       "    .dataframe tbody tr th {\n",
       "        vertical-align: top;\n",
       "    }\n",
       "\n",
       "    .dataframe thead th {\n",
       "        text-align: right;\n",
       "    }\n",
       "</style>\n",
       "<table border=\"1\" class=\"dataframe\">\n",
       "  <thead>\n",
       "    <tr style=\"text-align: right;\">\n",
       "      <th></th>\n",
       "      <th>0</th>\n",
       "      <th>1</th>\n",
       "      <th>2</th>\n",
       "      <th>3</th>\n",
       "    </tr>\n",
       "  </thead>\n",
       "  <tbody>\n",
       "    <tr>\n",
       "      <th>0</th>\n",
       "      <td>1.000000</td>\n",
       "      <td>-0.109369</td>\n",
       "      <td>0.871754</td>\n",
       "      <td>0.817954</td>\n",
       "    </tr>\n",
       "    <tr>\n",
       "      <th>1</th>\n",
       "      <td>-0.109369</td>\n",
       "      <td>1.000000</td>\n",
       "      <td>-0.420516</td>\n",
       "      <td>-0.356544</td>\n",
       "    </tr>\n",
       "    <tr>\n",
       "      <th>2</th>\n",
       "      <td>0.871754</td>\n",
       "      <td>-0.420516</td>\n",
       "      <td>1.000000</td>\n",
       "      <td>0.962757</td>\n",
       "    </tr>\n",
       "    <tr>\n",
       "      <th>3</th>\n",
       "      <td>0.817954</td>\n",
       "      <td>-0.356544</td>\n",
       "      <td>0.962757</td>\n",
       "      <td>1.000000</td>\n",
       "    </tr>\n",
       "  </tbody>\n",
       "</table>\n",
       "</div>"
      ],
      "text/plain": [
       "          0         1         2         3\n",
       "0  1.000000 -0.109369  0.871754  0.817954\n",
       "1 -0.109369  1.000000 -0.420516 -0.356544\n",
       "2  0.871754 -0.420516  1.000000  0.962757\n",
       "3  0.817954 -0.356544  0.962757  1.000000"
      ]
     },
     "execution_count": 447,
     "metadata": {},
     "output_type": "execute_result"
    }
   ],
   "source": [
    "cov_mat"
   ]
  },
  {
   "cell_type": "markdown",
   "metadata": {},
   "source": [
    "## Singular Value Decomposition"
   ]
  },
  {
   "cell_type": "markdown",
   "metadata": {},
   "source": [
    "https://docs.scipy.org/doc/numpy-1.13.0/reference/generated/numpy.linalg.svd.html"
   ]
  },
  {
   "cell_type": "markdown",
   "metadata": {},
   "source": [
    "u = Unitary matrices <br>\n",
    "s = singular values for every matrix, sorted in descending order <br>\n",
    "v = unitary matrices (ie U*U = UU* = I)"
   ]
  },
  {
   "cell_type": "code",
   "execution_count": 448,
   "metadata": {
    "collapsed": true
   },
   "outputs": [],
   "source": [
    "u, s, v = np.linalg.svd(cov_mat, full_matrices=True)"
   ]
  },
  {
   "cell_type": "code",
   "execution_count": 449,
   "metadata": {
    "collapsed": false
   },
   "outputs": [
    {
     "name": "stdout",
     "output_type": "stream",
     "text": [
      "(4, 4)\n",
      "(4, 4)\n",
      "(4, 4)\n"
     ]
    }
   ],
   "source": [
    "print(u.shape)\n",
    "print(np.diag(s).shape)\n",
    "print(v.shape)"
   ]
  },
  {
   "cell_type": "code",
   "execution_count": 450,
   "metadata": {
    "collapsed": false
   },
   "outputs": [
    {
     "data": {
      "text/plain": [
       "array([ 2.91081808,  0.92122093,  0.14735328,  0.02060771])"
      ]
     },
     "execution_count": 450,
     "metadata": {},
     "output_type": "execute_result"
    }
   ],
   "source": [
    "s"
   ]
  },
  {
   "cell_type": "code",
   "execution_count": 451,
   "metadata": {
    "collapsed": false
   },
   "outputs": [
    {
     "data": {
      "text/plain": [
       "array([[-0.52237162,  0.26335492, -0.58125401, -0.56561105],\n",
       "       [-0.37231836, -0.92555649, -0.02109478, -0.06541577],\n",
       "       [ 0.72101681, -0.24203288, -0.14089226, -0.6338014 ],\n",
       "       [ 0.26199559, -0.12413481, -0.80115427,  0.52354627]])"
      ]
     },
     "execution_count": 451,
     "metadata": {},
     "output_type": "execute_result"
    }
   ],
   "source": [
    "v"
   ]
  },
  {
   "cell_type": "code",
   "execution_count": 452,
   "metadata": {
    "collapsed": false
   },
   "outputs": [
    {
     "data": {
      "text/plain": [
       "array([[ 4.32280457,  2.71101253,  3.86491086,  1.2040658 ],\n",
       "       [ 6.60991158,  2.20135799,  3.72300233,  1.19610853],\n",
       "       [ 4.15140866,  3.03456705,  3.73790573,  1.18215671],\n",
       "       [ 4.19694246,  2.99373762,  3.66527395,  1.20945575]])"
      ]
     },
     "execution_count": 452,
     "metadata": {},
     "output_type": "execute_result"
    }
   ],
   "source": [
    " np.mean(df.values, axis = 0) + (u * s)"
   ]
  },
  {
   "cell_type": "code",
   "execution_count": 453,
   "metadata": {
    "collapsed": false
   },
   "outputs": [
    {
     "data": {
      "text/plain": [
       "array([ 5.84333333,  3.054     ,  3.75866667,  1.19866667])"
      ]
     },
     "execution_count": 453,
     "metadata": {},
     "output_type": "execute_result"
    }
   ],
   "source": [
    "np.mean(df.values, axis = 0)"
   ]
  },
  {
   "cell_type": "code",
   "execution_count": 454,
   "metadata": {
    "collapsed": false
   },
   "outputs": [
    {
     "data": {
      "text/plain": [
       "array([ 5.84333333,  3.054     ,  3.75866667,  1.19866667])"
      ]
     },
     "execution_count": 454,
     "metadata": {},
     "output_type": "execute_result"
    }
   ],
   "source": [
    "np.mean(df.values, axis = 0)"
   ]
  },
  {
   "cell_type": "code",
   "execution_count": 215,
   "metadata": {
    "collapsed": false
   },
   "outputs": [
    {
     "data": {
      "text/plain": [
       "array([ 2.91081808,  0.92122093,  0.14735328,  0.02060771])"
      ]
     },
     "execution_count": 215,
     "metadata": {},
     "output_type": "execute_result"
    }
   ],
   "source": [
    "s"
   ]
  },
  {
   "cell_type": "code",
   "execution_count": null,
   "metadata": {
    "collapsed": true
   },
   "outputs": [],
   "source": []
  }
 ],
 "metadata": {
  "anaconda-cloud": {},
  "kernelspec": {
   "display_name": "Python [conda root]",
   "language": "python",
   "name": "conda-root-py"
  },
  "language_info": {
   "codemirror_mode": {
    "name": "ipython",
    "version": 2
   },
   "file_extension": ".py",
   "mimetype": "text/x-python",
   "name": "python",
   "nbconvert_exporter": "python",
   "pygments_lexer": "ipython2",
   "version": "2.7.12"
  }
 },
 "nbformat": 4,
 "nbformat_minor": 2
}
