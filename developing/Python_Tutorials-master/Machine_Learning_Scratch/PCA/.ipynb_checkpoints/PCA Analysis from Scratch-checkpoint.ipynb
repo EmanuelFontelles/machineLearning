{
 "cells": [
  {
   "cell_type": "markdown",
   "metadata": {},
   "source": [
    "## PCA Analysis in Python's using sklearn\n",
    "\n",
    "This notebook serves to discuss what is actually occuring behind the scenes in sklearn when the decomposition.pca package is being used.\n",
    "\n"
   ]
  },
  {
   "cell_type": "markdown",
   "metadata": {},
   "source": [
    "unitary eigenvectors:  complex square matrix U is unitary if its conjugate transpose U∗ is also its inverse—that is, if U'U = UU'=I"
   ]
  },
  {
   "cell_type": "markdown",
   "metadata": {},
   "source": [
    "https://en.wikipedia.org/wiki/Unitary_matrix"
   ]
  },
  {
   "cell_type": "markdown",
   "metadata": {},
   "source": [
    "##### Two excellent references:\n",
    "1. [Machine Learning: A Probabalistic Method](https://mitpress.mit.edu/books/machine-learning-0), *by Kevin P. Murphy* (he was a senior Research Scientist at Google in early days)\n",
    "2. [The Elements of Statistical Learning: Data Mining, Inference and Prediction](https://web.stanford.edu/~hastie/ElemStatLearn/), *by Hastie et. al.* (authors are from CS and Stats departments at Stanford)"
   ]
  },
  {
   "cell_type": "code",
   "execution_count": 1,
   "metadata": {},
   "outputs": [],
   "source": [
    "%matplotlib inline\n",
    "\n",
    "import numpy as np\n",
    "import random\n",
    "import matplotlib.pyplot as plt\n",
    "from sklearn.decomposition import PCA\n",
    "import decimal\n",
    "import pandas as pd"
   ]
  },
  {
   "cell_type": "markdown",
   "metadata": {},
   "source": [
    "## Generate Signals"
   ]
  },
  {
   "cell_type": "code",
   "execution_count": 2,
   "metadata": {},
   "outputs": [],
   "source": [
    "base_signalA = np.array([1, 1, 0, 0, 0, 0, 0, 0, 0, 0])\n",
    "base_signalB = np.array([0, 0, 0, 0, 1, 1, 0, 0, 0, 0])\n",
    "base_signalC = np.array([0, 0, 0, 0, 0, 0, 0, 0, 1, 1])"
   ]
  },
  {
   "cell_type": "code",
   "execution_count": 5,
   "metadata": {},
   "outputs": [],
   "source": [
    "#plt.plot(range(0, 10), (base_signalA + base_signalB + base_signalC) /3.0, 'b--');"
   ]
  },
  {
   "cell_type": "code",
   "execution_count": 8,
   "metadata": {},
   "outputs": [
    {
     "data": {
      "image/png": "[encoded data removed]",
      "text/plain": [
       "<Figure size 432x288 with 1 Axes>"
      ]
     },
     "metadata": {},
     "output_type": "display_data"
    }
   ],
   "source": [
    "plt.plot(range(0, 10), base_signalA, 'b--');\n",
    "plt.plot(range(0, 10), base_signalB, 'g--');\n",
    "plt.plot(range(0, 10), base_signalC, 'r--');"
   ]
  },
  {
   "cell_type": "code",
   "execution_count": 9,
   "metadata": {},
   "outputs": [],
   "source": [
    "# Every signal is based on other signals\n",
    "\n",
    "allSignals = []\n",
    "counter = 0\n",
    "\n",
    "for number in range(0,1000):\n",
    "    firstSignal = np.array(np.nan * np.zeros(10))\n",
    "    for x in range(0,len(base_signalA)):\n",
    "        firstSignal[x] = (np.random.uniform(.99,1) * base_signalA[x]) + np.random.uniform(0,.01)\n",
    "    allSignals.append(firstSignal)\n",
    "        \n",
    "for number in range(0,1000):\n",
    "    secondSignal = np.array(np.nan * np.zeros(10))\n",
    "    for x in range(0,len(base_signalB)):\n",
    "        secondSignal[x] = (np.random.uniform(.99,1) * base_signalB[x]) + np.random.uniform(0,.01)\n",
    "    allSignals.append(secondSignal)\n",
    "    \n",
    "for number in range(0,1000):  \n",
    "    thirdSignal = np.array(np.nan * np.zeros(10))\n",
    "    for x in range(0,len(base_signalC)):\n",
    "        thirdSignal[x] = (np.random.uniform(.99,1) * base_signalC[x]) + np.random.uniform(0,.01)\n",
    "    allSignals.append(thirdSignal)"
   ]
  },
  {
   "cell_type": "code",
   "execution_count": 10,
   "metadata": {},
   "outputs": [],
   "source": [
    "allSignals = pd.DataFrame(allSignals)"
   ]
  },
  {
   "cell_type": "code",
   "execution_count": 11,
   "metadata": {},
   "outputs": [
    {
     "data": {
      "text/html": [
       "<div>\n",
       "<style scoped>\n",
       "    .dataframe tbody tr th:only-of-type {\n",
       "        vertical-align: middle;\n",
       "    }\n",
       "\n",
       "    .dataframe tbody tr th {\n",
       "        vertical-align: top;\n",
       "    }\n",
       "\n",
       "    .dataframe thead th {\n",
       "        text-align: right;\n",
       "    }\n",
       "</style>\n",
       "<table border=\"1\" class=\"dataframe\">\n",
       "  <thead>\n",
       "    <tr style=\"text-align: right;\">\n",
       "      <th></th>\n",
       "      <th>0</th>\n",
       "      <th>1</th>\n",
       "      <th>2</th>\n",
       "      <th>3</th>\n",
       "      <th>4</th>\n",
       "      <th>5</th>\n",
       "      <th>6</th>\n",
       "      <th>7</th>\n",
       "      <th>8</th>\n",
       "      <th>9</th>\n",
       "    </tr>\n",
       "  </thead>\n",
       "  <tbody>\n",
       "    <tr>\n",
       "      <th>0</th>\n",
       "      <td>0.997839</td>\n",
       "      <td>0.997395</td>\n",
       "      <td>0.008174</td>\n",
       "      <td>0.004889</td>\n",
       "      <td>0.005423</td>\n",
       "      <td>0.001506</td>\n",
       "      <td>0.009927</td>\n",
       "      <td>0.008258</td>\n",
       "      <td>0.005573</td>\n",
       "      <td>0.002218</td>\n",
       "    </tr>\n",
       "    <tr>\n",
       "      <th>1</th>\n",
       "      <td>1.002202</td>\n",
       "      <td>0.999786</td>\n",
       "      <td>0.008553</td>\n",
       "      <td>0.007311</td>\n",
       "      <td>0.008509</td>\n",
       "      <td>0.007151</td>\n",
       "      <td>0.005462</td>\n",
       "      <td>0.005340</td>\n",
       "      <td>0.006626</td>\n",
       "      <td>0.009791</td>\n",
       "    </tr>\n",
       "    <tr>\n",
       "      <th>2</th>\n",
       "      <td>1.003200</td>\n",
       "      <td>0.991223</td>\n",
       "      <td>0.004970</td>\n",
       "      <td>0.004469</td>\n",
       "      <td>0.003941</td>\n",
       "      <td>0.005784</td>\n",
       "      <td>0.005608</td>\n",
       "      <td>0.005336</td>\n",
       "      <td>0.003383</td>\n",
       "      <td>0.004177</td>\n",
       "    </tr>\n",
       "    <tr>\n",
       "      <th>3</th>\n",
       "      <td>1.002892</td>\n",
       "      <td>1.002363</td>\n",
       "      <td>0.005416</td>\n",
       "      <td>0.008561</td>\n",
       "      <td>0.006800</td>\n",
       "      <td>0.005966</td>\n",
       "      <td>0.002934</td>\n",
       "      <td>0.008140</td>\n",
       "      <td>0.004485</td>\n",
       "      <td>0.003622</td>\n",
       "    </tr>\n",
       "    <tr>\n",
       "      <th>4</th>\n",
       "      <td>1.001715</td>\n",
       "      <td>1.004980</td>\n",
       "      <td>0.005551</td>\n",
       "      <td>0.002125</td>\n",
       "      <td>0.001349</td>\n",
       "      <td>0.009020</td>\n",
       "      <td>0.000779</td>\n",
       "      <td>0.003340</td>\n",
       "      <td>0.002514</td>\n",
       "      <td>0.002473</td>\n",
       "    </tr>\n",
       "  </tbody>\n",
       "</table>\n",
       "</div>"
      ],
      "text/plain": [
       "          0         1         2         3         4         5         6  \\\n",
       "0  0.997839  0.997395  0.008174  0.004889  0.005423  0.001506  0.009927   \n",
       "1  1.002202  0.999786  0.008553  0.007311  0.008509  0.007151  0.005462   \n",
       "2  1.003200  0.991223  0.004970  0.004469  0.003941  0.005784  0.005608   \n",
       "3  1.002892  1.002363  0.005416  0.008561  0.006800  0.005966  0.002934   \n",
       "4  1.001715  1.004980  0.005551  0.002125  0.001349  0.009020  0.000779   \n",
       "\n",
       "          7         8         9  \n",
       "0  0.008258  0.005573  0.002218  \n",
       "1  0.005340  0.006626  0.009791  \n",
       "2  0.005336  0.003383  0.004177  \n",
       "3  0.008140  0.004485  0.003622  \n",
       "4  0.003340  0.002514  0.002473  "
      ]
     },
     "execution_count": 11,
     "metadata": {},
     "output_type": "execute_result"
    }
   ],
   "source": [
    "allSignals.head()"
   ]
  },
  {
   "cell_type": "markdown",
   "metadata": {},
   "source": [
    "## Covariance"
   ]
  },
  {
   "cell_type": "markdown",
   "metadata": {},
   "source": [
    "The classic approach to PCA is to perform the eigendecomposition on the covariance matrix $\\Sigma$, which is a $n \\times n$ matrix where each element represents the covariance between two features. The covariance between two features is calculated as follows:\n",
    "\n",
    "$sigma = \\frac{1}{K}\\sum_{k=1}^{K}\\frac{\\left(x^{(k)}-\\bar{x}\\right)}{\\sigma}\\frac{\\left(  x^{(k)}-\\bar{x}\\right)^{T}}{\\sigma}$\n",
    "\n",
    "This is standardizing the data\n",
    "\n",
    "pg. 567 of (pattern recognition and machine learning by Bishop\n",
    "\n",
    "Some people use K-1 instead of K for [bessels correction](https://en.wikipedia.org/wiki/Bessel%27s_correction)\n",
    "\n",
    "where $\\mathbf{\\bar{x}}$ is the mean vector \n",
    "$\\mathbf{\\bar{x}} = \\frac{1}{K}\\sum\\limits_{k=1}^K x^{(k)}.$  \n",
    "The mean vector is a $n$-dimensional vector where each value in this vector represents the sample mean of a feature column in the dataset.\n",
    "\n",
    "where $\\sigma = \\sqrt{\\frac{1}{K}\\sum\\limits_{k=1}^K \\left(x^{(k)}-\\bar{x}\\right)^{2}}$"
   ]
  },
  {
   "cell_type": "code",
   "execution_count": 12,
   "metadata": {},
   "outputs": [],
   "source": [
    "zeroMean = (allSignals.values - np.mean(allSignals.values, axis = 0)) / np.std(allSignals.values, axis = 0)"
   ]
  },
  {
   "cell_type": "code",
   "execution_count": 13,
   "metadata": {},
   "outputs": [],
   "source": [
    "zeroMean = pd.DataFrame(zeroMean)"
   ]
  },
  {
   "cell_type": "code",
   "execution_count": 14,
   "metadata": {},
   "outputs": [],
   "source": [
    "cov_mat = (zeroMean).T.dot((zeroMean)) / (zeroMean.shape[0])"
   ]
  },
  {
   "cell_type": "code",
   "execution_count": 15,
   "metadata": {},
   "outputs": [
    {
     "data": {
      "text/html": [
       "<div>\n",
       "<style scoped>\n",
       "    .dataframe tbody tr th:only-of-type {\n",
       "        vertical-align: middle;\n",
       "    }\n",
       "\n",
       "    .dataframe tbody tr th {\n",
       "        vertical-align: top;\n",
       "    }\n",
       "\n",
       "    .dataframe thead th {\n",
       "        text-align: right;\n",
       "    }\n",
       "</style>\n",
       "<table border=\"1\" class=\"dataframe\">\n",
       "  <thead>\n",
       "    <tr style=\"text-align: right;\">\n",
       "      <th></th>\n",
       "      <th>0</th>\n",
       "      <th>1</th>\n",
       "      <th>2</th>\n",
       "      <th>3</th>\n",
       "      <th>4</th>\n",
       "      <th>5</th>\n",
       "      <th>6</th>\n",
       "      <th>7</th>\n",
       "      <th>8</th>\n",
       "      <th>9</th>\n",
       "    </tr>\n",
       "  </thead>\n",
       "  <tbody>\n",
       "    <tr>\n",
       "      <th>0</th>\n",
       "      <td>1.000000</td>\n",
       "      <td>0.999949</td>\n",
       "      <td>-0.000510</td>\n",
       "      <td>0.037718</td>\n",
       "      <td>-0.500120</td>\n",
       "      <td>-0.500151</td>\n",
       "      <td>0.006696</td>\n",
       "      <td>-0.033934</td>\n",
       "      <td>-0.499874</td>\n",
       "      <td>-0.499872</td>\n",
       "    </tr>\n",
       "    <tr>\n",
       "      <th>1</th>\n",
       "      <td>0.999949</td>\n",
       "      <td>1.000000</td>\n",
       "      <td>-0.000693</td>\n",
       "      <td>0.038018</td>\n",
       "      <td>-0.500018</td>\n",
       "      <td>-0.500050</td>\n",
       "      <td>0.006550</td>\n",
       "      <td>-0.033914</td>\n",
       "      <td>-0.499975</td>\n",
       "      <td>-0.499972</td>\n",
       "    </tr>\n",
       "    <tr>\n",
       "      <th>2</th>\n",
       "      <td>-0.000510</td>\n",
       "      <td>-0.000693</td>\n",
       "      <td>1.000000</td>\n",
       "      <td>0.029436</td>\n",
       "      <td>0.022876</td>\n",
       "      <td>0.022849</td>\n",
       "      <td>0.005089</td>\n",
       "      <td>0.019028</td>\n",
       "      <td>-0.022392</td>\n",
       "      <td>-0.022667</td>\n",
       "    </tr>\n",
       "    <tr>\n",
       "      <th>3</th>\n",
       "      <td>0.037718</td>\n",
       "      <td>0.038018</td>\n",
       "      <td>0.029436</td>\n",
       "      <td>1.000000</td>\n",
       "      <td>-0.017909</td>\n",
       "      <td>-0.017876</td>\n",
       "      <td>0.025706</td>\n",
       "      <td>0.032532</td>\n",
       "      <td>-0.020029</td>\n",
       "      <td>-0.020203</td>\n",
       "    </tr>\n",
       "    <tr>\n",
       "      <th>4</th>\n",
       "      <td>-0.500120</td>\n",
       "      <td>-0.500018</td>\n",
       "      <td>0.022876</td>\n",
       "      <td>-0.017909</td>\n",
       "      <td>1.000000</td>\n",
       "      <td>0.999947</td>\n",
       "      <td>-0.003358</td>\n",
       "      <td>0.020891</td>\n",
       "      <td>-0.499929</td>\n",
       "      <td>-0.499933</td>\n",
       "    </tr>\n",
       "    <tr>\n",
       "      <th>5</th>\n",
       "      <td>-0.500151</td>\n",
       "      <td>-0.500050</td>\n",
       "      <td>0.022849</td>\n",
       "      <td>-0.017876</td>\n",
       "      <td>0.999947</td>\n",
       "      <td>1.000000</td>\n",
       "      <td>-0.003232</td>\n",
       "      <td>0.020832</td>\n",
       "      <td>-0.499903</td>\n",
       "      <td>-0.499901</td>\n",
       "    </tr>\n",
       "    <tr>\n",
       "      <th>6</th>\n",
       "      <td>0.006696</td>\n",
       "      <td>0.006550</td>\n",
       "      <td>0.005089</td>\n",
       "      <td>0.025706</td>\n",
       "      <td>-0.003358</td>\n",
       "      <td>-0.003232</td>\n",
       "      <td>1.000000</td>\n",
       "      <td>-0.029430</td>\n",
       "      <td>-0.003088</td>\n",
       "      <td>-0.003024</td>\n",
       "    </tr>\n",
       "    <tr>\n",
       "      <th>7</th>\n",
       "      <td>-0.033934</td>\n",
       "      <td>-0.033914</td>\n",
       "      <td>0.019028</td>\n",
       "      <td>0.032532</td>\n",
       "      <td>0.020891</td>\n",
       "      <td>0.020832</td>\n",
       "      <td>-0.029430</td>\n",
       "      <td>1.000000</td>\n",
       "      <td>0.012910</td>\n",
       "      <td>0.013263</td>\n",
       "    </tr>\n",
       "    <tr>\n",
       "      <th>8</th>\n",
       "      <td>-0.499874</td>\n",
       "      <td>-0.499975</td>\n",
       "      <td>-0.022392</td>\n",
       "      <td>-0.020029</td>\n",
       "      <td>-0.499929</td>\n",
       "      <td>-0.499903</td>\n",
       "      <td>-0.003088</td>\n",
       "      <td>0.012910</td>\n",
       "      <td>1.000000</td>\n",
       "      <td>0.999948</td>\n",
       "    </tr>\n",
       "    <tr>\n",
       "      <th>9</th>\n",
       "      <td>-0.499872</td>\n",
       "      <td>-0.499972</td>\n",
       "      <td>-0.022667</td>\n",
       "      <td>-0.020203</td>\n",
       "      <td>-0.499933</td>\n",
       "      <td>-0.499901</td>\n",
       "      <td>-0.003024</td>\n",
       "      <td>0.013263</td>\n",
       "      <td>0.999948</td>\n",
       "      <td>1.000000</td>\n",
       "    </tr>\n",
       "  </tbody>\n",
       "</table>\n",
       "</div>"
      ],
      "text/plain": [
       "          0         1         2         3         4         5         6  \\\n",
       "0  1.000000  0.999949 -0.000510  0.037718 -0.500120 -0.500151  0.006696   \n",
       "1  0.999949  1.000000 -0.000693  0.038018 -0.500018 -0.500050  0.006550   \n",
       "2 -0.000510 -0.000693  1.000000  0.029436  0.022876  0.022849  0.005089   \n",
       "3  0.037718  0.038018  0.029436  1.000000 -0.017909 -0.017876  0.025706   \n",
       "4 -0.500120 -0.500018  0.022876 -0.017909  1.000000  0.999947 -0.003358   \n",
       "5 -0.500151 -0.500050  0.022849 -0.017876  0.999947  1.000000 -0.003232   \n",
       "6  0.006696  0.006550  0.005089  0.025706 -0.003358 -0.003232  1.000000   \n",
       "7 -0.033934 -0.033914  0.019028  0.032532  0.020891  0.020832 -0.029430   \n",
       "8 -0.499874 -0.499975 -0.022392 -0.020029 -0.499929 -0.499903 -0.003088   \n",
       "9 -0.499872 -0.499972 -0.022667 -0.020203 -0.499933 -0.499901 -0.003024   \n",
       "\n",
       "          7         8         9  \n",
       "0 -0.033934 -0.499874 -0.499872  \n",
       "1 -0.033914 -0.499975 -0.499972  \n",
       "2  0.019028 -0.022392 -0.022667  \n",
       "3  0.032532 -0.020029 -0.020203  \n",
       "4  0.020891 -0.499929 -0.499933  \n",
       "5  0.020832 -0.499903 -0.499901  \n",
       "6 -0.029430 -0.003088 -0.003024  \n",
       "7  1.000000  0.012910  0.013263  \n",
       "8  0.012910  1.000000  0.999948  \n",
       "9  0.013263  0.999948  1.000000  "
      ]
     },
     "execution_count": 15,
     "metadata": {},
     "output_type": "execute_result"
    }
   ],
   "source": [
    "cov_mat"
   ]
  },
  {
   "cell_type": "markdown",
   "metadata": {},
   "source": [
    "## Singular Value Decomposition"
   ]
  },
  {
   "cell_type": "markdown",
   "metadata": {},
   "source": [
    "https://docs.scipy.org/doc/numpy-1.13.0/reference/generated/numpy.linalg.svd.html"
   ]
  },
  {
   "cell_type": "markdown",
   "metadata": {},
   "source": [
    "u = Unitary matrices <br>\n",
    "s = singular values for every matrix, sorted in descending order <br>\n",
    "v = unitary matrices (ie U*U = UU* = I)"
   ]
  },
  {
   "cell_type": "code",
   "execution_count": 16,
   "metadata": {},
   "outputs": [],
   "source": [
    "# N^3 maybe to solve. check...\n",
    "\n",
    "u, s, v = np.linalg.svd(cov_mat, full_matrices=True)"
   ]
  },
  {
   "cell_type": "code",
   "execution_count": 17,
   "metadata": {},
   "outputs": [
    {
     "name": "stdout",
     "output_type": "stream",
     "text": [
      "(10, 10)\n",
      "(10, 10)\n",
      "(10, 10)\n"
     ]
    }
   ],
   "source": [
    "print(u.shape)\n",
    "print(np.diag(s).shape)\n",
    "print(v.shape)"
   ]
  },
  {
   "cell_type": "code",
   "execution_count": 18,
   "metadata": {},
   "outputs": [
    {
     "data": {
      "text/plain": [
       "array([-0.57315372, -0.57314891,  0.00276625, -0.03197718,  0.34257119,\n",
       "        0.34258655, -0.00644968,  0.02915149,  0.23059843,  0.23060211])"
      ]
     },
     "execution_count": 18,
     "metadata": {},
     "output_type": "execute_result"
    }
   ],
   "source": [
    "# Principal Component 1, is the first eigenvector. \n",
    "v[0]"
   ]
  },
  {
   "cell_type": "code",
   "execution_count": 19,
   "metadata": {},
   "outputs": [],
   "source": [
    "#plt.plot(range(0, 10), -(u[0] * s[0]) + np.mean(allSignals.values, axis = 0))"
   ]
  },
  {
   "cell_type": "code",
   "execution_count": 20,
   "metadata": {},
   "outputs": [
    {
     "data": {
      "text/plain": [
       "[<matplotlib.lines.Line2D at 0x7f315c7cfcf8>]"
      ]
     },
     "execution_count": 20,
     "metadata": {},
     "output_type": "execute_result"
    },
    {
     "data": {
      "image/png": "[encoded data removed]",
      "text/plain": [
       "<Figure size 432x288 with 1 Axes>"
      ]
     },
     "metadata": {},
     "output_type": "display_data"
    }
   ],
   "source": [
    "# Principal Component 1\n",
    "plt.plot(range(1, 11), np.mean(allSignals.values, axis = 0) - v[0])"
   ]
  },
  {
   "cell_type": "code",
   "execution_count": 21,
   "metadata": {},
   "outputs": [
    {
     "data": {
      "text/plain": [
       "[<matplotlib.lines.Line2D at 0x7f315c8ea6d8>]"
      ]
     },
     "execution_count": 21,
     "metadata": {},
     "output_type": "execute_result"
    },
    {
     "data": {
      "image/png": "[encoded data removed]",
      "text/plain": [
       "<Figure size 432x288 with 1 Axes>"
      ]
     },
     "metadata": {},
     "output_type": "display_data"
    }
   ],
   "source": [
    "# Principal Component 2\n",
    "plt.plot(range(1, 11), np.mean(allSignals.values, axis = 0) - v[1])"
   ]
  },
  {
   "cell_type": "code",
   "execution_count": 22,
   "metadata": {},
   "outputs": [
    {
     "data": {
      "text/plain": [
       "[<matplotlib.lines.Line2D at 0x7f31585797b8>]"
      ]
     },
     "execution_count": 22,
     "metadata": {},
     "output_type": "execute_result"
    },
    {
     "data": {
      "image/png": "[encoded data removed]",
      "text/plain": [
       "<Figure size 432x288 with 1 Axes>"
      ]
     },
     "metadata": {},
     "output_type": "display_data"
    }
   ],
   "source": [
    "# First 2 Principal Components\n",
    "plt.plot(range(1, 11), ((np.mean(allSignals.values, axis = 0) - v[0]) + np.mean(allSignals.values, axis = 0) - v[1])/2.0  )"
   ]
  },
  {
   "cell_type": "code",
   "execution_count": 23,
   "metadata": {},
   "outputs": [],
   "source": [
    "# Cumulative explained variance\n",
    "# remember s is eigenvalues\n",
    "tot = sum(s)\n",
    "cumulative_explained_variance = np.cumsum(s)"
   ]
  },
  {
   "cell_type": "code",
   "execution_count": 24,
   "metadata": {},
   "outputs": [],
   "source": [
    "cumulative_explained_variance = (np.cumsum(s)/ tot) * 100"
   ]
  },
  {
   "cell_type": "code",
   "execution_count": 25,
   "metadata": {},
   "outputs": [
    {
     "data": {
      "image/png": "[encoded data removed]",
      "text/plain": [
       "<Figure size 720x360 with 1 Axes>"
      ]
     },
     "metadata": {},
     "output_type": "display_data"
    }
   ],
   "source": [
    "# PLOT OUT THE EXPLAINED VARIANCES SUPERIMPOSED \n",
    "plt.figure(figsize=(10, 5))\n",
    "plt.plot(range(1, 11), cumulative_explained_variance, label='cumulative explained variance')\n",
    "plt.title('Cumulative Explained Variance as a Function of the Number of Components')\n",
    "plt.ylabel('Cumulative Explained variance')\n",
    "plt.xlabel('Principal components')\n",
    "#plt.axhline(y = 95, color='k', linestyle='--', label = '95% Explained Variance')\n",
    "#plt.axhline(y = 90, color='c', linestyle='--', label = '90% Explained Variance')\n",
    "#plt.axhline(y = 85, color='r', linestyle='--', label = '85% Explained Variance')\n",
    "plt.grid()\n",
    "plt.show()"
   ]
  },
  {
   "cell_type": "code",
   "execution_count": 26,
   "metadata": {},
   "outputs": [
    {
     "data": {
      "text/plain": [
       "[<matplotlib.lines.Line2D at 0x7f31584afbe0>]"
      ]
     },
     "execution_count": 26,
     "metadata": {},
     "output_type": "execute_result"
    },
    {
     "data": {
      "image/png": "[encoded data removed]",
      "text/plain": [
       "<Figure size 432x288 with 1 Axes>"
      ]
     },
     "metadata": {},
     "output_type": "display_data"
    }
   ],
   "source": [
    "# Look at Principal Component 3\n",
    "plt.plot(range(1, 11), np.mean(allSignals.values, axis = 0) - v[2])"
   ]
  },
  {
   "cell_type": "code",
   "execution_count": null,
   "metadata": {},
   "outputs": [],
   "source": []
  },
  {
   "cell_type": "markdown",
   "metadata": {},
   "source": [
    "## Reconstruct Original Signal"
   ]
  },
  {
   "cell_type": "code",
   "execution_count": 27,
   "metadata": {},
   "outputs": [
    {
     "data": {
      "text/html": [
       "<div>\n",
       "<style scoped>\n",
       "    .dataframe tbody tr th:only-of-type {\n",
       "        vertical-align: middle;\n",
       "    }\n",
       "\n",
       "    .dataframe tbody tr th {\n",
       "        vertical-align: top;\n",
       "    }\n",
       "\n",
       "    .dataframe thead th {\n",
       "        text-align: right;\n",
       "    }\n",
       "</style>\n",
       "<table border=\"1\" class=\"dataframe\">\n",
       "  <thead>\n",
       "    <tr style=\"text-align: right;\">\n",
       "      <th></th>\n",
       "      <th>0</th>\n",
       "      <th>1</th>\n",
       "      <th>2</th>\n",
       "      <th>3</th>\n",
       "      <th>4</th>\n",
       "      <th>5</th>\n",
       "      <th>6</th>\n",
       "      <th>7</th>\n",
       "      <th>8</th>\n",
       "      <th>9</th>\n",
       "    </tr>\n",
       "  </thead>\n",
       "  <tbody>\n",
       "    <tr>\n",
       "      <th>0</th>\n",
       "      <td>-1.384941</td>\n",
       "      <td>0.142780</td>\n",
       "      <td>0.008256</td>\n",
       "      <td>-0.011284</td>\n",
       "      <td>0.339090</td>\n",
       "      <td>0.354917</td>\n",
       "      <td>0.005077</td>\n",
       "      <td>0.004973</td>\n",
       "      <td>0.336715</td>\n",
       "      <td>0.336646</td>\n",
       "    </tr>\n",
       "    <tr>\n",
       "      <th>1</th>\n",
       "      <td>-1.384926</td>\n",
       "      <td>0.142582</td>\n",
       "      <td>0.008161</td>\n",
       "      <td>-0.011355</td>\n",
       "      <td>0.338835</td>\n",
       "      <td>0.354657</td>\n",
       "      <td>0.005075</td>\n",
       "      <td>0.005023</td>\n",
       "      <td>0.336664</td>\n",
       "      <td>0.336639</td>\n",
       "    </tr>\n",
       "    <tr>\n",
       "      <th>2</th>\n",
       "      <td>0.345096</td>\n",
       "      <td>0.268882</td>\n",
       "      <td>-0.558652</td>\n",
       "      <td>0.108191</td>\n",
       "      <td>1.152963</td>\n",
       "      <td>0.399540</td>\n",
       "      <td>0.005072</td>\n",
       "      <td>0.004990</td>\n",
       "      <td>0.336680</td>\n",
       "      <td>0.336658</td>\n",
       "    </tr>\n",
       "    <tr>\n",
       "      <th>3</th>\n",
       "      <td>0.240728</td>\n",
       "      <td>0.321218</td>\n",
       "      <td>-0.670698</td>\n",
       "      <td>0.270182</td>\n",
       "      <td>-0.046790</td>\n",
       "      <td>-0.232167</td>\n",
       "      <td>0.005072</td>\n",
       "      <td>0.004990</td>\n",
       "      <td>0.336680</td>\n",
       "      <td>0.336658</td>\n",
       "    </tr>\n",
       "    <tr>\n",
       "      <th>4</th>\n",
       "      <td>1.365854</td>\n",
       "      <td>-1.056899</td>\n",
       "      <td>0.011576</td>\n",
       "      <td>0.012974</td>\n",
       "      <td>0.327063</td>\n",
       "      <td>0.326339</td>\n",
       "      <td>0.005109</td>\n",
       "      <td>0.005008</td>\n",
       "      <td>0.336696</td>\n",
       "      <td>0.336657</td>\n",
       "    </tr>\n",
       "    <tr>\n",
       "      <th>5</th>\n",
       "      <td>1.365900</td>\n",
       "      <td>-1.056863</td>\n",
       "      <td>0.011594</td>\n",
       "      <td>0.013115</td>\n",
       "      <td>0.327024</td>\n",
       "      <td>0.326347</td>\n",
       "      <td>0.005043</td>\n",
       "      <td>0.004987</td>\n",
       "      <td>0.336683</td>\n",
       "      <td>0.336628</td>\n",
       "    </tr>\n",
       "    <tr>\n",
       "      <th>6</th>\n",
       "      <td>0.317412</td>\n",
       "      <td>0.334745</td>\n",
       "      <td>-0.054263</td>\n",
       "      <td>0.854371</td>\n",
       "      <td>0.162957</td>\n",
       "      <td>0.832991</td>\n",
       "      <td>0.005072</td>\n",
       "      <td>0.004990</td>\n",
       "      <td>0.336680</td>\n",
       "      <td>0.336658</td>\n",
       "    </tr>\n",
       "    <tr>\n",
       "      <th>7</th>\n",
       "      <td>0.424356</td>\n",
       "      <td>0.334041</td>\n",
       "      <td>-0.571977</td>\n",
       "      <td>-0.493633</td>\n",
       "      <td>0.005607</td>\n",
       "      <td>0.890715</td>\n",
       "      <td>0.005072</td>\n",
       "      <td>0.004990</td>\n",
       "      <td>0.336680</td>\n",
       "      <td>0.336658</td>\n",
       "    </tr>\n",
       "    <tr>\n",
       "      <th>8</th>\n",
       "      <td>1.029493</td>\n",
       "      <td>1.924241</td>\n",
       "      <td>-0.004665</td>\n",
       "      <td>0.013745</td>\n",
       "      <td>0.343830</td>\n",
       "      <td>0.328979</td>\n",
       "      <td>0.005096</td>\n",
       "      <td>0.004977</td>\n",
       "      <td>0.336673</td>\n",
       "      <td>0.336628</td>\n",
       "    </tr>\n",
       "    <tr>\n",
       "      <th>9</th>\n",
       "      <td>1.029504</td>\n",
       "      <td>1.924249</td>\n",
       "      <td>-0.004604</td>\n",
       "      <td>0.013554</td>\n",
       "      <td>0.343538</td>\n",
       "      <td>0.329309</td>\n",
       "      <td>0.005056</td>\n",
       "      <td>0.005018</td>\n",
       "      <td>0.336706</td>\n",
       "      <td>0.336656</td>\n",
       "    </tr>\n",
       "  </tbody>\n",
       "</table>\n",
       "</div>"
      ],
      "text/plain": [
       "          0         1         2         3         4         5         6  \\\n",
       "0 -1.384941  0.142780  0.008256 -0.011284  0.339090  0.354917  0.005077   \n",
       "1 -1.384926  0.142582  0.008161 -0.011355  0.338835  0.354657  0.005075   \n",
       "2  0.345096  0.268882 -0.558652  0.108191  1.152963  0.399540  0.005072   \n",
       "3  0.240728  0.321218 -0.670698  0.270182 -0.046790 -0.232167  0.005072   \n",
       "4  1.365854 -1.056899  0.011576  0.012974  0.327063  0.326339  0.005109   \n",
       "5  1.365900 -1.056863  0.011594  0.013115  0.327024  0.326347  0.005043   \n",
       "6  0.317412  0.334745 -0.054263  0.854371  0.162957  0.832991  0.005072   \n",
       "7  0.424356  0.334041 -0.571977 -0.493633  0.005607  0.890715  0.005072   \n",
       "8  1.029493  1.924241 -0.004665  0.013745  0.343830  0.328979  0.005096   \n",
       "9  1.029504  1.924249 -0.004604  0.013554  0.343538  0.329309  0.005056   \n",
       "\n",
       "          7         8         9  \n",
       "0  0.004973  0.336715  0.336646  \n",
       "1  0.005023  0.336664  0.336639  \n",
       "2  0.004990  0.336680  0.336658  \n",
       "3  0.004990  0.336680  0.336658  \n",
       "4  0.005008  0.336696  0.336657  \n",
       "5  0.004987  0.336683  0.336628  \n",
       "6  0.004990  0.336680  0.336658  \n",
       "7  0.004990  0.336680  0.336658  \n",
       "8  0.004977  0.336673  0.336628  \n",
       "9  0.005018  0.336706  0.336656  "
      ]
     },
     "execution_count": 27,
     "metadata": {},
     "output_type": "execute_result"
    }
   ],
   "source": [
    "np.mean(allSignals.values, axis = 0) +  pd.DataFrame(data = (u * s)) "
   ]
  },
  {
   "cell_type": "markdown",
   "metadata": {},
   "source": [
    "## Use PCA"
   ]
  },
  {
   "cell_type": "code",
   "execution_count": 28,
   "metadata": {},
   "outputs": [],
   "source": [
    "zeroMean = allSignals.values - np.mean(allSignals.values, axis = 0)\n",
    "#zeroMean = (allSignals.values - np.mean(allSignals.values, axis = 0)) / np.std(allSignals.values, axis = 0)"
   ]
  },
  {
   "cell_type": "code",
   "execution_count": 29,
   "metadata": {},
   "outputs": [],
   "source": [
    "zeroMean = pd.DataFrame(zeroMean)\n",
    "originalNow = pd.DataFrame(allSignals.values)"
   ]
  },
  {
   "cell_type": "code",
   "execution_count": 30,
   "metadata": {},
   "outputs": [
    {
     "data": {
      "text/plain": [
       "0   -1.647386e-16\n",
       "1   -5.824045e-16\n",
       "2    3.022756e-19\n",
       "3   -2.600640e-19\n",
       "4    1.867395e-16\n",
       "5   -6.789014e-17\n",
       "6    8.417746e-19\n",
       "7   -1.000357e-19\n",
       "8   -3.427258e-16\n",
       "9   -3.305504e-16\n",
       "dtype: float64"
      ]
     },
     "execution_count": 30,
     "metadata": {},
     "output_type": "execute_result"
    }
   ],
   "source": [
    "zeroMean.mean()"
   ]
  },
  {
   "cell_type": "code",
   "execution_count": 31,
   "metadata": {},
   "outputs": [],
   "source": [
    "# Make an instance of the Model\n",
    "pca = PCA(svd_solver = 'full')\n",
    "\n",
    "zeroMean_eig = pca.fit_transform(zeroMean)"
   ]
  },
  {
   "cell_type": "code",
   "execution_count": 32,
   "metadata": {},
   "outputs": [
    {
     "data": {
      "text/plain": [
       "10"
      ]
     },
     "execution_count": 32,
     "metadata": {},
     "output_type": "execute_result"
    }
   ],
   "source": [
    "len(pca.components_)"
   ]
  },
  {
   "cell_type": "code",
   "execution_count": 33,
   "metadata": {},
   "outputs": [],
   "source": [
    "#np.mean(df.values, axis = 0) + (u * s)"
   ]
  },
  {
   "cell_type": "code",
   "execution_count": 34,
   "metadata": {},
   "outputs": [
    {
     "data": {
      "text/plain": [
       "array([0.33678608, 0.3366219 , 0.00498535, 0.00507369, 0.33663781,\n",
       "       0.33668386, 0.00507208, 0.00499017, 0.33668027, 0.33665759])"
      ]
     },
     "execution_count": 34,
     "metadata": {},
     "output_type": "execute_result"
    }
   ],
   "source": [
    "np.mean(allSignals.values, axis = 0)"
   ]
  },
  {
   "cell_type": "code",
   "execution_count": 35,
   "metadata": {},
   "outputs": [
    {
     "data": {
      "text/plain": [
       "array([0.33678608, 0.3366219 , 0.00498535, 0.00507369, 0.33663781,\n",
       "       0.33668386, 0.00507208, 0.00499017, 0.33668027, 0.33665759])"
      ]
     },
     "execution_count": 35,
     "metadata": {},
     "output_type": "execute_result"
    }
   ],
   "source": [
    "np.mean(allSignals.values, axis = 0)"
   ]
  },
  {
   "cell_type": "code",
   "execution_count": 36,
   "metadata": {},
   "outputs": [
    {
     "data": {
      "text/plain": [
       "(10,)"
      ]
     },
     "execution_count": 36,
     "metadata": {},
     "output_type": "execute_result"
    }
   ],
   "source": [
    "pca.components_[0].shape"
   ]
  },
  {
   "cell_type": "code",
   "execution_count": 37,
   "metadata": {},
   "outputs": [
    {
     "data": {
      "text/plain": [
       "array([-5.70466463e-01, -5.70152525e-01,  1.62307585e-05, -1.34923210e-04,\n",
       "        3.63110296e-01,  3.63117854e-01, -2.29033307e-05,  1.20216601e-04,\n",
       "        2.07095329e-01,  2.07127836e-01])"
      ]
     },
     "execution_count": 37,
     "metadata": {},
     "output_type": "execute_result"
    }
   ],
   "source": [
    "-pca.components_[0]"
   ]
  },
  {
   "cell_type": "code",
   "execution_count": 38,
   "metadata": {},
   "outputs": [
    {
     "data": {
      "text/plain": [
       "array([-0.23368038, -0.23353063,  0.00500158,  0.00493877,  0.69974811,\n",
       "        0.69980171,  0.00504918,  0.00511039,  0.5437756 ,  0.54378543])"
      ]
     },
     "execution_count": 38,
     "metadata": {},
     "output_type": "execute_result"
    }
   ],
   "source": [
    "-pca.components_[0] + np.mean(allSignals.values, axis = 0)"
   ]
  },
  {
   "cell_type": "code",
   "execution_count": 39,
   "metadata": {},
   "outputs": [
    {
     "data": {
      "text/plain": [
       "[<matplotlib.lines.Line2D at 0x7f3158415240>]"
      ]
     },
     "execution_count": 39,
     "metadata": {},
     "output_type": "execute_result"
    },
    {
     "data": {
      "image/png": "[encoded data removed]",
      "text/plain": [
       "<Figure size 432x288 with 1 Axes>"
      ]
     },
     "metadata": {},
     "output_type": "display_data"
    }
   ],
   "source": [
    "# 1st Principal Component\n",
    "plt.plot(range(0, 10), -pca.components_[0] + np.mean(allSignals.values, axis = 0))"
   ]
  },
  {
   "cell_type": "code",
   "execution_count": 40,
   "metadata": {},
   "outputs": [
    {
     "data": {
      "text/plain": [
       "[<matplotlib.lines.Line2D at 0x7f31583e3a20>]"
      ]
     },
     "execution_count": 40,
     "metadata": {},
     "output_type": "execute_result"
    },
    {
     "data": {
      "image/png": "[encoded data removed]",
      "text/plain": [
       "<Figure size 432x288 with 1 Axes>"
      ]
     },
     "metadata": {},
     "output_type": "display_data"
    }
   ],
   "source": [
    "# 1st Principal Component\n",
    "plt.plot(range(0, 10), -pca.components_[1] + np.mean(allSignals.values, axis = 0))"
   ]
  },
  {
   "cell_type": "code",
   "execution_count": 41,
   "metadata": {},
   "outputs": [
    {
     "data": {
      "text/plain": [
       "[<matplotlib.lines.Line2D at 0x7f31583bb588>]"
      ]
     },
     "execution_count": 41,
     "metadata": {},
     "output_type": "execute_result"
    },
    {
     "data": {
      "image/png": "[encoded data removed]",
      "text/plain": [
       "<Figure size 432x288 with 1 Axes>"
      ]
     },
     "metadata": {},
     "output_type": "display_data"
    }
   ],
   "source": [
    "# 3rd, Principal Component\n",
    "# Garbage\n",
    "plt.plot(range(0, 10), pca.components_[2])"
   ]
  },
  {
   "cell_type": "code",
   "execution_count": 42,
   "metadata": {},
   "outputs": [
    {
     "data": {
      "text/plain": [
       "[<matplotlib.lines.Line2D at 0x7f31584e3080>]"
      ]
     },
     "execution_count": 42,
     "metadata": {},
     "output_type": "execute_result"
    },
    {
     "data": {
      "image/png": "[encoded data removed]",
      "text/plain": [
       "<Figure size 432x288 with 1 Axes>"
      ]
     },
     "metadata": {},
     "output_type": "display_data"
    }
   ],
   "source": [
    "# First Two PCA. \n",
    "plt.plot(range(0, 10),   np.mean(allSignals.values, axis = 0) - (pca.components_[0] + pca.components_[1]) /2)"
   ]
  },
  {
   "cell_type": "markdown",
   "metadata": {},
   "source": [
    "## Explained Variance"
   ]
  },
  {
   "cell_type": "code",
   "execution_count": 43,
   "metadata": {},
   "outputs": [],
   "source": [
    "tot = sum(pca.explained_variance_)"
   ]
  },
  {
   "cell_type": "code",
   "execution_count": 44,
   "metadata": {},
   "outputs": [],
   "source": [
    "var_exp = [(i/tot)*100 for i in sorted(pca.explained_variance_, reverse=True)] "
   ]
  },
  {
   "cell_type": "code",
   "execution_count": 49,
   "metadata": {},
   "outputs": [
    {
     "data": {
      "text/plain": [
       "[50.00566667657152,\n",
       " 49.98840268560243,\n",
       " 0.0009211734574854605,\n",
       " 0.0008682662428656385,\n",
       " 0.0008324608517599554,\n",
       " 0.0008023593421847458,\n",
       " 0.0006731942099646403,\n",
       " 0.0006369978041901204,\n",
       " 0.0006109766569110475,\n",
       " 0.0005852092607003676]"
      ]
     },
     "execution_count": 49,
     "metadata": {},
     "output_type": "execute_result"
    }
   ],
   "source": [
    "var_exp"
   ]
  },
  {
   "cell_type": "code",
   "execution_count": 52,
   "metadata": {},
   "outputs": [
    {
     "data": {
      "image/png": "[encoded data removed]",
      "text/plain": [
       "<Figure size 432x288 with 1 Axes>"
      ]
     },
     "metadata": {},
     "output_type": "display_data"
    }
   ],
   "source": [
    "plt.plot(range(1,11), var_exp)\n",
    "plt.show()"
   ]
  },
  {
   "cell_type": "code",
   "execution_count": 53,
   "metadata": {},
   "outputs": [],
   "source": [
    "# Cumulative explained variance\n",
    "cum_var_exp = np.cumsum(var_exp)"
   ]
  },
  {
   "cell_type": "code",
   "execution_count": 54,
   "metadata": {},
   "outputs": [
    {
     "data": {
      "text/plain": [
       "array([ 50.00566668,  99.99406936,  99.99499054,  99.9958588 ,\n",
       "        99.99669126,  99.99749362,  99.99816682,  99.99880381,\n",
       "        99.99941479, 100.        ])"
      ]
     },
     "execution_count": 54,
     "metadata": {},
     "output_type": "execute_result"
    }
   ],
   "source": [
    "cum_var_exp"
   ]
  },
  {
   "cell_type": "code",
   "execution_count": 55,
   "metadata": {},
   "outputs": [
    {
     "data": {
      "text/plain": [
       "\"\\n\\n# PLOT OUT THE EXPLAINED VARIANCES SUPERIMPOSED \\nplt.figure(figsize=(10, 5))\\nplt.step(range(0, 0), cum_var_exp, where='mid',label='cumulative explained variance')\\nplt.title('Cumulative Explained Variance as a Function of the Number of Components')\\nplt.ylabel('Cumulative Explained variance')\\nplt.xlabel('Principal components')\\n#plt.axhline(y = 95, color='k', linestyle='--', label = '95% Explained Variance')\\n#plt.axhline(y = 90, color='c', linestyle='--', label = '90% Explained Variance')\\nplt.axhline(y = 85, color='r', linestyle='--', label = '85% Explained Variance')\\nplt.legend(loc='best')\\nplt.show()\\n\\n\""
      ]
     },
     "execution_count": 55,
     "metadata": {},
     "output_type": "execute_result"
    }
   ],
   "source": [
    "\"\"\"\n",
    "\n",
    "# PLOT OUT THE EXPLAINED VARIANCES SUPERIMPOSED \n",
    "plt.figure(figsize=(10, 5))\n",
    "plt.step(range(0, 0), cum_var_exp, where='mid',label='cumulative explained variance')\n",
    "plt.title('Cumulative Explained Variance as a Function of the Number of Components')\n",
    "plt.ylabel('Cumulative Explained variance')\n",
    "plt.xlabel('Principal components')\n",
    "#plt.axhline(y = 95, color='k', linestyle='--', label = '95% Explained Variance')\n",
    "#plt.axhline(y = 90, color='c', linestyle='--', label = '90% Explained Variance')\n",
    "plt.axhline(y = 85, color='r', linestyle='--', label = '85% Explained Variance')\n",
    "plt.legend(loc='best')\n",
    "plt.show()\n",
    "\n",
    "\"\"\""
   ]
  },
  {
   "cell_type": "code",
   "execution_count": null,
   "metadata": {},
   "outputs": [],
   "source": []
  },
  {
   "cell_type": "code",
   "execution_count": 57,
   "metadata": {},
   "outputs": [
    {
     "ename": "AttributeError",
     "evalue": "'PCA' object has no attribute 'cexplained_variance_ratio'",
     "output_type": "error",
     "traceback": [
      "\u001b[0;31m---------------------------------------------------------------------------\u001b[0m",
      "\u001b[0;31mAttributeError\u001b[0m                            Traceback (most recent call last)",
      "\u001b[0;32m<ipython-input-57-959707880bf9>\u001b[0m in \u001b[0;36m<module>\u001b[0;34m()\u001b[0m\n\u001b[0;32m----> 1\u001b[0;31m \u001b[0mpca\u001b[0m\u001b[0;34m.\u001b[0m\u001b[0mcexplained_variance_ratio\u001b[0m\u001b[0;34m\u001b[0m\u001b[0m\n\u001b[0m",
      "\u001b[0;31mAttributeError\u001b[0m: 'PCA' object has no attribute 'cexplained_variance_ratio'"
     ]
    }
   ],
   "source": [
    "pca.cexplained_variance_ratio"
   ]
  },
  {
   "cell_type": "code",
   "execution_count": 58,
   "metadata": {},
   "outputs": [
    {
     "data": {
      "text/plain": [
       "array([[-1, -1],\n",
       "       [-2, -1],\n",
       "       [-3, -2],\n",
       "       [ 1,  1],\n",
       "       [ 2,  1],\n",
       "       [ 3,  2]])"
      ]
     },
     "execution_count": 58,
     "metadata": {},
     "output_type": "execute_result"
    }
   ],
   "source": [
    "# example data from sklearn: http://scikit-learn.org/stable/modules/generated/sklearn.decomposition.PCA.html\n",
    "X = np.array([[-1, -1], [-2, -1], [-3, -2], [1, 1], [2, 1], [3, 2]])\n",
    "X"
   ]
  },
  {
   "cell_type": "code",
   "execution_count": 59,
   "metadata": {},
   "outputs": [
    {
     "data": {
      "text/plain": [
       "0.07477341998619727"
      ]
     },
     "execution_count": 59,
     "metadata": {},
     "output_type": "execute_result"
    }
   ],
   "source": [
    "np.random.uniform(0,.1)"
   ]
  },
  {
   "cell_type": "markdown",
   "metadata": {},
   "source": [
    "##### Create the PCA fit using sklearn function\n",
    "\n",
    "We will see what is going on behind the scenes below.  For the purposes of this example, we keep all components so that we can fully reconstruct the original parameter matrix, $X$"
   ]
  },
  {
   "cell_type": "code",
   "execution_count": 60,
   "metadata": {},
   "outputs": [
    {
     "data": {
      "text/plain": [
       "PCA(copy=True, iterated_power='auto', n_components=2, random_state=None,\n",
       "  svd_solver='auto', tol=0.0, whiten=False)"
      ]
     },
     "execution_count": 60,
     "metadata": {},
     "output_type": "execute_result"
    }
   ],
   "source": [
    "pca = PCA(n_components=2)\n",
    "pca.fit(X)"
   ]
  },
  {
   "cell_type": "markdown",
   "metadata": {},
   "source": [
    "##### Transform the data into new space using sklearn built in function\n",
    "\n",
    "Formally, we are projected the original parameters onto the new space defined by directions of maximum variance (where the directions are orthogonal to eachother)"
   ]
  },
  {
   "cell_type": "code",
   "execution_count": 61,
   "metadata": {},
   "outputs": [
    {
     "data": {
      "text/plain": [
       "array([[ 1.38340578,  0.2935787 ],\n",
       "       [ 2.22189802, -0.25133484],\n",
       "       [ 3.6053038 ,  0.04224385],\n",
       "       [-1.38340578, -0.2935787 ],\n",
       "       [-2.22189802,  0.25133484],\n",
       "       [-3.6053038 , -0.04224385]])"
      ]
     },
     "execution_count": 61,
     "metadata": {},
     "output_type": "execute_result"
    }
   ],
   "source": [
    "# representation of X in transformed space, ie, projection of X onto new basis\n",
    "Z = pca.transform(X)\n",
    "Z"
   ]
  },
  {
   "cell_type": "markdown",
   "metadata": {},
   "source": [
    "##### The new space is represented by a basis, which happen to be the eigenvectors\n",
    "\n",
    "these are the eigenvectors (directions) for the transformed data in the reduced space"
   ]
  },
  {
   "cell_type": "code",
   "execution_count": 62,
   "metadata": {},
   "outputs": [
    {
     "data": {
      "text/plain": [
       "array([[-0.83849224, -0.54491354],\n",
       "       [ 0.54491354, -0.83849224]])"
      ]
     },
     "execution_count": 62,
     "metadata": {},
     "output_type": "execute_result"
    }
   ],
   "source": [
    "pca.components_ "
   ]
  },
  {
   "cell_type": "markdown",
   "metadata": {},
   "source": [
    "##### In solving the PCA problem, the eigenvectors are constructed to be orthonormal\n",
    "\n",
    "that is, $ \\vec{e}_i \\cdot  \\vec{e}_j = 0$ when $j \\ne i$ and $ \\vec{e}_i \\cdot  \\vec{e}_j = 1$ when $j = i$"
   ]
  },
  {
   "cell_type": "code",
   "execution_count": 63,
   "metadata": {},
   "outputs": [
    {
     "name": "stdout",
     "output_type": "stream",
     "text": [
      "0.0\n",
      "1.0\n"
     ]
    }
   ],
   "source": [
    "print(np.dot(pca.components_[:,0],pca.components_[:,1]))\n",
    "print(np.dot(pca.components_[:,0],pca.components_[:,0]))"
   ]
  },
  {
   "cell_type": "markdown",
   "metadata": {},
   "source": [
    "##### Singular values\n",
    "\n",
    "We will say more about these below"
   ]
  },
  {
   "cell_type": "code",
   "execution_count": 64,
   "metadata": {},
   "outputs": [
    {
     "data": {
      "text/plain": [
       "array([6.30061232, 0.54980396])"
      ]
     },
     "execution_count": 64,
     "metadata": {},
     "output_type": "execute_result"
    }
   ],
   "source": [
    "pca.singular_values_"
   ]
  },
  {
   "cell_type": "markdown",
   "metadata": {},
   "source": [
    "##### Transform from new space back to the original parameter space\n",
    "\n",
    "projection of new basis representation of $X$ back to original basis representation of $X$, which recovers original data (when all components used)"
   ]
  },
  {
   "cell_type": "code",
   "execution_count": 65,
   "metadata": {},
   "outputs": [
    {
     "data": {
      "text/plain": [
       "array([[-1., -1.],\n",
       "       [-2., -1.],\n",
       "       [-3., -2.],\n",
       "       [ 1.,  1.],\n",
       "       [ 2.,  1.],\n",
       "       [ 3.,  2.]])"
      ]
     },
     "execution_count": 65,
     "metadata": {},
     "output_type": "execute_result"
    }
   ],
   "source": [
    "pca.inverse_transform(Z)"
   ]
  },
  {
   "cell_type": "markdown",
   "metadata": {},
   "source": [
    "#### Above, we have shown the full deconstruction and reconstruction of X when using all components.\n",
    "\n",
    "We will now walk through two separate calculations using some linear algebra (which is what sklearn functions are actually doing)"
   ]
  },
  {
   "cell_type": "markdown",
   "metadata": {},
   "source": [
    "##### We will compute the Covariance matrix $C$ and corresponding eigenvectors and eigenvalues"
   ]
  },
  {
   "cell_type": "code",
   "execution_count": 66,
   "metadata": {},
   "outputs": [],
   "source": [
    "C = 1/(X.shape[0])*np.dot(X.T,X)\n",
    "w, v = np.linalg.eig(C) "
   ]
  },
  {
   "cell_type": "markdown",
   "metadata": {},
   "source": [
    "##### The components output from sklearn is simply the eigenvalues of the covariance matrix"
   ]
  },
  {
   "cell_type": "code",
   "execution_count": 67,
   "metadata": {},
   "outputs": [
    {
     "data": {
      "text/plain": [
       "array([[ 0.83849224, -0.54491354],\n",
       "       [ 0.54491354,  0.83849224]])"
      ]
     },
     "execution_count": 67,
     "metadata": {},
     "output_type": "execute_result"
    }
   ],
   "source": [
    "v"
   ]
  },
  {
   "cell_type": "markdown",
   "metadata": {},
   "source": [
    "##### The eigenvalues do not show up explicitly in the sklearn object, but are nothing more than the (scaled) square of the singular values"
   ]
  },
  {
   "cell_type": "code",
   "execution_count": 68,
   "metadata": {},
   "outputs": [
    {
     "data": {
      "text/plain": [
       "array([6.30061232, 0.54980396])"
      ]
     },
     "execution_count": 68,
     "metadata": {},
     "output_type": "execute_result"
    }
   ],
   "source": [
    "np.sqrt(w*(X.shape[0]))"
   ]
  },
  {
   "cell_type": "markdown",
   "metadata": {},
   "source": [
    "##### you can calculate your eigenvectors with the PCA outputs\n",
    "\n",
    "$ Z = XV$ where $V'$ = pca.components_ array"
   ]
  },
  {
   "cell_type": "code",
   "execution_count": 69,
   "metadata": {},
   "outputs": [
    {
     "data": {
      "text/plain": [
       "array([[ 1.38340578,  0.2935787 ],\n",
       "       [ 2.22189802, -0.25133484],\n",
       "       [ 3.6053038 ,  0.04224385],\n",
       "       [-1.38340578, -0.2935787 ],\n",
       "       [-2.22189802,  0.25133484],\n",
       "       [-3.6053038 , -0.04224385]])"
      ]
     },
     "execution_count": 69,
     "metadata": {},
     "output_type": "execute_result"
    }
   ],
   "source": [
    "Z1 = np.dot(X,pca.components_.T)\n",
    "Z1"
   ]
  },
  {
   "cell_type": "code",
   "execution_count": 70,
   "metadata": {},
   "outputs": [
    {
     "data": {
      "text/plain": [
       "array([[ 0.21956688,  0.53396977],\n",
       "       [ 0.35264795, -0.45713538],\n",
       "       [ 0.57221483,  0.07683439],\n",
       "       [-0.21956688, -0.53396977],\n",
       "       [-0.35264795,  0.45713538],\n",
       "       [-0.57221483, -0.07683439]])"
      ]
     },
     "execution_count": 70,
     "metadata": {},
     "output_type": "execute_result"
    }
   ],
   "source": [
    "# SVD can be recovered: X = U*sig*V'\n",
    "sig_inv = np.linalg.inv(np.eye(2)*pca.singular_values_)\n",
    "\n",
    "U = np.dot(Z1,sig_inv) \n",
    "U"
   ]
  },
  {
   "cell_type": "code",
   "execution_count": 71,
   "metadata": {},
   "outputs": [
    {
     "name": "stdout",
     "output_type": "stream",
     "text": [
      "2.42861286636753e-16\n"
     ]
    },
    {
     "data": {
      "text/plain": [
       "True"
      ]
     },
     "execution_count": 71,
     "metadata": {},
     "output_type": "execute_result"
    }
   ],
   "source": [
    "# check U orthonormal\n",
    "print(np.dot(U[:,0],U[:,1]))\n",
    "np.linalg.norm(np.dot(U[:,0],U[:,1])) < 10**-10"
   ]
  },
  {
   "cell_type": "markdown",
   "metadata": {},
   "source": [
    "##### map back to original space"
   ]
  },
  {
   "cell_type": "code",
   "execution_count": 72,
   "metadata": {},
   "outputs": [
    {
     "data": {
      "text/plain": [
       "array([[-1., -1.],\n",
       "       [-2., -1.],\n",
       "       [-3., -2.],\n",
       "       [ 1.,  1.],\n",
       "       [ 2.,  1.],\n",
       "       [ 3.,  2.]])"
      ]
     },
     "execution_count": 72,
     "metadata": {},
     "output_type": "execute_result"
    }
   ],
   "source": [
    "Xhat = np.dot(Z1,pca.components_)\n",
    "Xhat"
   ]
  },
  {
   "cell_type": "markdown",
   "metadata": {},
   "source": [
    "<h3>Now use Singular Value Decomposition (SVD) to do same thing without using sklearn wrapper</h3>\n",
    "\n",
    "$ X = U\\Sigma V'$ is the common SVD representation, where $U$ and $V$ are unitary, and $\\Sigma$ is diagonal.  Then, we have,\n",
    "\n",
    "$Z := XV = U\\Sigma $ and clearly, to recover $X$, we have $X = ZV' = XVV'$"
   ]
  },
  {
   "cell_type": "code",
   "execution_count": 73,
   "metadata": {},
   "outputs": [],
   "source": [
    "u, s, vh = np.linalg.svd(X, full_matrices=True)"
   ]
  },
  {
   "cell_type": "code",
   "execution_count": 74,
   "metadata": {},
   "outputs": [
    {
     "name": "stdout",
     "output_type": "stream",
     "text": [
      "(6, 6)\n",
      "(2, 2)\n",
      "(2, 2)\n"
     ]
    }
   ],
   "source": [
    "print(u.shape)\n",
    "print(np.diag(s).shape)\n",
    "print(vh.shape)"
   ]
  },
  {
   "cell_type": "code",
   "execution_count": 75,
   "metadata": {},
   "outputs": [
    {
     "data": {
      "text/plain": [
       "array([[-0.21956688,  0.53396977, -0.48030985,  0.45219595,  0.02811389,\n",
       "         0.48030985],\n",
       "       [-0.35264795, -0.45713538, -0.30371038, -0.31508521,  0.61879559,\n",
       "         0.30371038],\n",
       "       [-0.57221483,  0.07683439,  0.75680405,  0.17257785,  0.0706181 ,\n",
       "         0.24319595],\n",
       "       [ 0.21956688, -0.53396977,  0.03329824,  0.79735166,  0.1693501 ,\n",
       "        -0.03329824],\n",
       "       [ 0.35264795,  0.45713538,  0.20989771,  0.03007049,  0.7600318 ,\n",
       "        -0.20989771],\n",
       "       [ 0.57221483, -0.07683439,  0.24319595, -0.17257785, -0.0706181 ,\n",
       "         0.75680405]])"
      ]
     },
     "execution_count": 75,
     "metadata": {},
     "output_type": "execute_result"
    }
   ],
   "source": [
    "u"
   ]
  },
  {
   "cell_type": "code",
   "execution_count": 76,
   "metadata": {},
   "outputs": [
    {
     "data": {
      "text/plain": [
       "array([6.30061232, 0.54980396])"
      ]
     },
     "execution_count": 76,
     "metadata": {},
     "output_type": "execute_result"
    }
   ],
   "source": [
    "s"
   ]
  },
  {
   "cell_type": "code",
   "execution_count": 77,
   "metadata": {},
   "outputs": [
    {
     "data": {
      "text/plain": [
       "array([[6.30061232, 0.        ],\n",
       "       [0.        , 0.54980396],\n",
       "       [0.        , 0.        ],\n",
       "       [0.        , 0.        ],\n",
       "       [0.        , 0.        ],\n",
       "       [0.        , 0.        ]])"
      ]
     },
     "execution_count": 77,
     "metadata": {},
     "output_type": "execute_result"
    }
   ],
   "source": [
    "# full representation of singular values\n",
    "S = np.zeros((6, 2))\n",
    "S[:2, :2] = np.diag(s)\n",
    "S"
   ]
  },
  {
   "cell_type": "code",
   "execution_count": 78,
   "metadata": {},
   "outputs": [
    {
     "data": {
      "text/plain": [
       "array([[ 0.83849224,  0.54491354],\n",
       "       [ 0.54491354, -0.83849224]])"
      ]
     },
     "execution_count": 78,
     "metadata": {},
     "output_type": "execute_result"
    }
   ],
   "source": [
    "vh"
   ]
  },
  {
   "cell_type": "markdown",
   "metadata": {},
   "source": [
    "##### Create basis for transformed space, ie, create $Z$.  Note that this will equal sklearn up to order, to get perfect match, we would order these based on largest singular value"
   ]
  },
  {
   "cell_type": "code",
   "execution_count": 79,
   "metadata": {},
   "outputs": [
    {
     "data": {
      "text/plain": [
       "array([[-1.38340578,  0.2935787 ],\n",
       "       [-2.22189802, -0.25133484],\n",
       "       [-3.6053038 ,  0.04224385],\n",
       "       [ 1.38340578, -0.2935787 ],\n",
       "       [ 2.22189802,  0.25133484],\n",
       "       [ 3.6053038 , -0.04224385]])"
      ]
     },
     "execution_count": 79,
     "metadata": {},
     "output_type": "execute_result"
    }
   ],
   "source": [
    "Z2 = np.dot(X,vh.T)\n",
    "Z2"
   ]
  },
  {
   "cell_type": "markdown",
   "metadata": {},
   "source": [
    "##### Map back to original paramter space, ie, recover X"
   ]
  },
  {
   "cell_type": "code",
   "execution_count": 80,
   "metadata": {},
   "outputs": [
    {
     "data": {
      "text/plain": [
       "array([[-1., -1.],\n",
       "       [-2., -1.],\n",
       "       [-3., -2.],\n",
       "       [ 1.,  1.],\n",
       "       [ 2.,  1.],\n",
       "       [ 3.,  2.]])"
      ]
     },
     "execution_count": 80,
     "metadata": {},
     "output_type": "execute_result"
    }
   ],
   "source": [
    "Xhat1 = np.dot(Z2,vh)\n",
    "Xhat1"
   ]
  },
  {
   "cell_type": "markdown",
   "metadata": {},
   "source": [
    "## Concluding Remarks\n",
    "\n",
    "In using PCA Analysis, to reduce dimension, we simply start removing eigenvectors that correspond to 'small' eigenvalues, then proceed with the same calculation.  \n",
    "\n",
    "Or, in terms of [SVD](https://en.wikipedia.org/wiki/Singular-value_decomposition), remove singular values that are 'small' and their corresponding singular vectors.  \n",
    "\n",
    "In either case, you proceed with the calculations above with the reduced matrices / vectors.\n",
    "\n",
    "#### That's it, now you're an expert in the PCA done by sklearn"
   ]
  },
  {
   "cell_type": "code",
   "execution_count": null,
   "metadata": {},
   "outputs": [],
   "source": []
  },
  {
   "cell_type": "code",
   "execution_count": null,
   "metadata": {},
   "outputs": [],
   "source": []
  },
  {
   "cell_type": "markdown",
   "metadata": {},
   "source": [
    "## Tutorial"
   ]
  },
  {
   "cell_type": "markdown",
   "metadata": {},
   "source": [
    "### Get Data"
   ]
  },
  {
   "cell_type": "code",
   "execution_count": 84,
   "metadata": {},
   "outputs": [],
   "source": [
    "import pandas as pd\n",
    "url = \"https://archive.ics.uci.edu/ml/machine-learning-databases/iris/iris.data\"\n",
    "\n",
    "# load dataset into Pandas DataFrame\n",
    "df = pd.read_csv(url, names=['sepal length','sepal width','petal length','petal width','target'])"
   ]
  },
  {
   "cell_type": "code",
   "execution_count": 85,
   "metadata": {},
   "outputs": [],
   "source": [
    "df = df.iloc[:, 0:-1]"
   ]
  },
  {
   "cell_type": "code",
   "execution_count": 86,
   "metadata": {},
   "outputs": [
    {
     "data": {
      "text/html": [
       "<div>\n",
       "<style scoped>\n",
       "    .dataframe tbody tr th:only-of-type {\n",
       "        vertical-align: middle;\n",
       "    }\n",
       "\n",
       "    .dataframe tbody tr th {\n",
       "        vertical-align: top;\n",
       "    }\n",
       "\n",
       "    .dataframe thead th {\n",
       "        text-align: right;\n",
       "    }\n",
       "</style>\n",
       "<table border=\"1\" class=\"dataframe\">\n",
       "  <thead>\n",
       "    <tr style=\"text-align: right;\">\n",
       "      <th></th>\n",
       "      <th>sepal length</th>\n",
       "      <th>sepal width</th>\n",
       "      <th>petal length</th>\n",
       "      <th>petal width</th>\n",
       "    </tr>\n",
       "  </thead>\n",
       "  <tbody>\n",
       "    <tr>\n",
       "      <th>0</th>\n",
       "      <td>5.1</td>\n",
       "      <td>3.5</td>\n",
       "      <td>1.4</td>\n",
       "      <td>0.2</td>\n",
       "    </tr>\n",
       "    <tr>\n",
       "      <th>1</th>\n",
       "      <td>4.9</td>\n",
       "      <td>3.0</td>\n",
       "      <td>1.4</td>\n",
       "      <td>0.2</td>\n",
       "    </tr>\n",
       "    <tr>\n",
       "      <th>2</th>\n",
       "      <td>4.7</td>\n",
       "      <td>3.2</td>\n",
       "      <td>1.3</td>\n",
       "      <td>0.2</td>\n",
       "    </tr>\n",
       "    <tr>\n",
       "      <th>3</th>\n",
       "      <td>4.6</td>\n",
       "      <td>3.1</td>\n",
       "      <td>1.5</td>\n",
       "      <td>0.2</td>\n",
       "    </tr>\n",
       "    <tr>\n",
       "      <th>4</th>\n",
       "      <td>5.0</td>\n",
       "      <td>3.6</td>\n",
       "      <td>1.4</td>\n",
       "      <td>0.2</td>\n",
       "    </tr>\n",
       "  </tbody>\n",
       "</table>\n",
       "</div>"
      ],
      "text/plain": [
       "   sepal length  sepal width  petal length  petal width\n",
       "0           5.1          3.5           1.4          0.2\n",
       "1           4.9          3.0           1.4          0.2\n",
       "2           4.7          3.2           1.3          0.2\n",
       "3           4.6          3.1           1.5          0.2\n",
       "4           5.0          3.6           1.4          0.2"
      ]
     },
     "execution_count": 86,
     "metadata": {},
     "output_type": "execute_result"
    }
   ],
   "source": [
    "df.head()"
   ]
  },
  {
   "cell_type": "markdown",
   "metadata": {},
   "source": [
    "### Covariance"
   ]
  },
  {
   "cell_type": "markdown",
   "metadata": {},
   "source": [
    "The classic approach to PCA is to perform the eigendecomposition on the covariance matrix $\\Sigma$, which is a $n \\times n$ matrix where each element represents the covariance between two features. The covariance between two features is calculated as follows:\n",
    "\n",
    "$sigma = \\frac{1}{K}\\sum_{k=1}^{K}\\frac{\\left(x^{(k)}-\\bar{x}\\right)}{\\sigma}\\frac{\\left(  x^{(k)}-\\bar{x}\\right)^{T}}{\\sigma}$\n",
    "\n",
    "This is standardizing the data\n",
    "\n",
    "pg. 567 of (pattern recognition and machine learning by Bishop\n",
    "\n",
    "Some people use K-1 instead of K for [bessels correction](https://en.wikipedia.org/wiki/Bessel%27s_correction)\n",
    "\n",
    "where $\\mathbf{\\bar{x}}$ is the mean vector \n",
    "$\\mathbf{\\bar{x}} = \\frac{1}{K}\\sum\\limits_{k=1}^K x^{(k)}.$  \n",
    "The mean vector is a $n$-dimensional vector where each value in this vector represents the sample mean of a feature column in the dataset.\n",
    "\n",
    "where $\\sigma = \\sqrt{\\frac{1}{K}\\sum\\limits_{k=1}^K \\left(x^{(k)}-\\bar{x}\\right)^{2}}$"
   ]
  },
  {
   "cell_type": "code",
   "execution_count": 87,
   "metadata": {},
   "outputs": [],
   "source": [
    "zeroMean = (df.values - np.mean(df.values, axis = 0)) / np.std(df.values, axis = 0)\n",
    "#zeroMean = (df.values - np.mean(df.values, axis = 0))"
   ]
  },
  {
   "cell_type": "code",
   "execution_count": 88,
   "metadata": {},
   "outputs": [],
   "source": [
    "zeroMean = pd.DataFrame(zeroMean)"
   ]
  },
  {
   "cell_type": "code",
   "execution_count": 89,
   "metadata": {},
   "outputs": [],
   "source": [
    "cov_mat = (zeroMean).T.dot((zeroMean)) / (zeroMean.shape[0])"
   ]
  },
  {
   "cell_type": "code",
   "execution_count": 90,
   "metadata": {},
   "outputs": [
    {
     "data": {
      "text/html": [
       "<div>\n",
       "<style scoped>\n",
       "    .dataframe tbody tr th:only-of-type {\n",
       "        vertical-align: middle;\n",
       "    }\n",
       "\n",
       "    .dataframe tbody tr th {\n",
       "        vertical-align: top;\n",
       "    }\n",
       "\n",
       "    .dataframe thead th {\n",
       "        text-align: right;\n",
       "    }\n",
       "</style>\n",
       "<table border=\"1\" class=\"dataframe\">\n",
       "  <thead>\n",
       "    <tr style=\"text-align: right;\">\n",
       "      <th></th>\n",
       "      <th>0</th>\n",
       "      <th>1</th>\n",
       "      <th>2</th>\n",
       "      <th>3</th>\n",
       "    </tr>\n",
       "  </thead>\n",
       "  <tbody>\n",
       "    <tr>\n",
       "      <th>0</th>\n",
       "      <td>1.000000</td>\n",
       "      <td>-0.109369</td>\n",
       "      <td>0.871754</td>\n",
       "      <td>0.817954</td>\n",
       "    </tr>\n",
       "    <tr>\n",
       "      <th>1</th>\n",
       "      <td>-0.109369</td>\n",
       "      <td>1.000000</td>\n",
       "      <td>-0.420516</td>\n",
       "      <td>-0.356544</td>\n",
       "    </tr>\n",
       "    <tr>\n",
       "      <th>2</th>\n",
       "      <td>0.871754</td>\n",
       "      <td>-0.420516</td>\n",
       "      <td>1.000000</td>\n",
       "      <td>0.962757</td>\n",
       "    </tr>\n",
       "    <tr>\n",
       "      <th>3</th>\n",
       "      <td>0.817954</td>\n",
       "      <td>-0.356544</td>\n",
       "      <td>0.962757</td>\n",
       "      <td>1.000000</td>\n",
       "    </tr>\n",
       "  </tbody>\n",
       "</table>\n",
       "</div>"
      ],
      "text/plain": [
       "          0         1         2         3\n",
       "0  1.000000 -0.109369  0.871754  0.817954\n",
       "1 -0.109369  1.000000 -0.420516 -0.356544\n",
       "2  0.871754 -0.420516  1.000000  0.962757\n",
       "3  0.817954 -0.356544  0.962757  1.000000"
      ]
     },
     "execution_count": 90,
     "metadata": {},
     "output_type": "execute_result"
    }
   ],
   "source": [
    "cov_mat"
   ]
  },
  {
   "cell_type": "markdown",
   "metadata": {},
   "source": [
    "## Singular Value Decomposition"
   ]
  },
  {
   "cell_type": "markdown",
   "metadata": {},
   "source": [
    "https://docs.scipy.org/doc/numpy-1.13.0/reference/generated/numpy.linalg.svd.html"
   ]
  },
  {
   "cell_type": "markdown",
   "metadata": {},
   "source": [
    "u = Unitary matrices <br>\n",
    "s = singular values for every matrix, sorted in descending order <br>\n",
    "v = unitary matrices (ie U*U = UU* = I)"
   ]
  },
  {
   "cell_type": "code",
   "execution_count": 91,
   "metadata": {},
   "outputs": [],
   "source": [
    "# N^3 maybe to solve. check...\n",
    "\n",
    "u, s, v = np.linalg.svd(cov_mat, full_matrices=True)"
   ]
  },
  {
   "cell_type": "code",
   "execution_count": 92,
   "metadata": {},
   "outputs": [
    {
     "name": "stdout",
     "output_type": "stream",
     "text": [
      "(4, 4)\n",
      "(4, 4)\n",
      "(4, 4)\n"
     ]
    }
   ],
   "source": [
    "print(u.shape)\n",
    "print(np.diag(s).shape)\n",
    "print(v.shape)"
   ]
  },
  {
   "cell_type": "code",
   "execution_count": 93,
   "metadata": {},
   "outputs": [
    {
     "data": {
      "text/plain": [
       "array([2.91081808, 0.92122093, 0.14735328, 0.02060771])"
      ]
     },
     "execution_count": 93,
     "metadata": {},
     "output_type": "execute_result"
    }
   ],
   "source": [
    "s"
   ]
  },
  {
   "cell_type": "code",
   "execution_count": 94,
   "metadata": {},
   "outputs": [
    {
     "data": {
      "text/plain": [
       "array([[-0.52237162,  0.26335492, -0.58125401, -0.56561105],\n",
       "       [-0.37231836, -0.92555649, -0.02109478, -0.06541577],\n",
       "       [ 0.72101681, -0.24203288, -0.14089226, -0.6338014 ],\n",
       "       [ 0.26199559, -0.12413481, -0.80115427,  0.52354627]])"
      ]
     },
     "execution_count": 94,
     "metadata": {},
     "output_type": "execute_result"
    }
   ],
   "source": [
    "v"
   ]
  },
  {
   "cell_type": "code",
   "execution_count": 95,
   "metadata": {},
   "outputs": [
    {
     "data": {
      "text/plain": [
       "array([[4.32280457, 2.71101253, 3.86491086, 1.2040658 ],\n",
       "       [6.60991158, 2.20135799, 3.72300233, 1.19610853],\n",
       "       [4.15140866, 3.03456705, 3.73790573, 1.18215671],\n",
       "       [4.19694246, 2.99373762, 3.66527395, 1.20945575]])"
      ]
     },
     "execution_count": 95,
     "metadata": {},
     "output_type": "execute_result"
    }
   ],
   "source": [
    " np.mean(df.values, axis = 0) + (u * s)"
   ]
  },
  {
   "cell_type": "code",
   "execution_count": 96,
   "metadata": {},
   "outputs": [
    {
     "data": {
      "text/plain": [
       "array([5.84333333, 3.054     , 3.75866667, 1.19866667])"
      ]
     },
     "execution_count": 96,
     "metadata": {},
     "output_type": "execute_result"
    }
   ],
   "source": [
    "np.mean(df.values, axis = 0)"
   ]
  },
  {
   "cell_type": "code",
   "execution_count": 97,
   "metadata": {},
   "outputs": [
    {
     "data": {
      "text/plain": [
       "array([5.84333333, 3.054     , 3.75866667, 1.19866667])"
      ]
     },
     "execution_count": 97,
     "metadata": {},
     "output_type": "execute_result"
    }
   ],
   "source": [
    "np.mean(df.values, axis = 0)"
   ]
  },
  {
   "cell_type": "code",
   "execution_count": 98,
   "metadata": {},
   "outputs": [
    {
     "data": {
      "text/plain": [
       "array([2.91081808, 0.92122093, 0.14735328, 0.02060771])"
      ]
     },
     "execution_count": 98,
     "metadata": {},
     "output_type": "execute_result"
    }
   ],
   "source": [
    "s"
   ]
  }
 ],
 "metadata": {
  "anaconda-cloud": {},
  "kernelspec": {
   "display_name": "Python 3",
   "language": "python",
   "name": "python3"
  },
  "language_info": {
   "codemirror_mode": {
    "name": "ipython",
    "version": 3
   },
   "file_extension": ".py",
   "mimetype": "text/x-python",
   "name": "python",
   "nbconvert_exporter": "python",
   "pygments_lexer": "ipython3",
   "version": "3.6.5"
  }
 },
 "nbformat": 4,
 "nbformat_minor": 2
}
