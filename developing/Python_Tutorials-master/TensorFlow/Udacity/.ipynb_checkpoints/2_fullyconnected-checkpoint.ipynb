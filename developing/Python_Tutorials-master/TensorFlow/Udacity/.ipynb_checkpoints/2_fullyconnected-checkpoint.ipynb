{
 "cells": [
  {
   "cell_type": "markdown",
   "metadata": {
    "colab_type": "text",
    "id": "kR-4eNdK6lYS"
   },
   "source": [
    "Deep Learning\n",
    "=============\n",
    "\n",
    "Assignment 2\n",
    "------------\n",
    "\n",
    "Previously in `1_notmnist.ipynb`, we created a pickle with formatted datasets for training, development and testing on the [notMNIST dataset](http://yaroslavvb.blogspot.com/2011/09/notmnist-dataset.html).\n",
    "\n",
    "The goal of this assignment is to progressively train deeper and more accurate models using TensorFlow."
   ]
  },
  {
   "cell_type": "code",
   "execution_count": 71,
   "metadata": {
    "cellView": "both",
    "colab": {
     "autoexec": {
      "startup": false,
      "wait_interval": 0
     }
    },
    "colab_type": "code",
    "collapsed": true,
    "id": "JLpLa8Jt7Vu4"
   },
   "outputs": [],
   "source": [
    "# These are all the modules we'll be using later. Make sure you can import them\n",
    "# before proceeding further.\n",
    "from __future__ import print_function\n",
    "import numpy as np\n",
    "import tensorflow as tf\n",
    "from six.moves import cPickle as pickle\n",
    "from six.moves import range"
   ]
  },
  {
   "cell_type": "markdown",
   "metadata": {
    "colab_type": "text",
    "id": "1HrCK6e17WzV"
   },
   "source": [
    "First reload the data we generated in `1_notmnist.ipynb`."
   ]
  },
  {
   "cell_type": "code",
   "execution_count": 72,
   "metadata": {
    "cellView": "both",
    "colab": {
     "autoexec": {
      "startup": false,
      "wait_interval": 0
     },
     "output_extras": [
      {
       "item_id": 1
      }
     ]
    },
    "colab_type": "code",
    "collapsed": false,
    "executionInfo": {
     "elapsed": 19456,
     "status": "ok",
     "timestamp": 1449847956073,
     "user": {
      "color": "",
      "displayName": "",
      "isAnonymous": false,
      "isMe": true,
      "permissionId": "",
      "photoUrl": "",
      "sessionId": "0",
      "userId": ""
     },
     "user_tz": 480
    },
    "id": "y3-cj1bpmuxc",
    "outputId": "0ddb1607-1fc4-4ddb-de28-6c7ab7fb0c33"
   },
   "outputs": [
    {
     "name": "stdout",
     "output_type": "stream",
     "text": [
      "Training set (200000, 28, 28) (200000,)\n",
      "Validation set (10000, 28, 28) (10000,)\n",
      "Test set (10000, 28, 28) (10000,)\n"
     ]
    }
   ],
   "source": [
    "pickle_file = 'notMNIST.pickle'\n",
    "\n",
    "with open(pickle_file, 'rb') as f:\n",
    "    save = pickle.load(f)\n",
    "    train_dataset = save['train_dataset']\n",
    "    train_labels = save['train_labels']\n",
    "    valid_dataset = save['valid_dataset']\n",
    "    valid_labels = save['valid_labels']\n",
    "    test_dataset = save['test_dataset']\n",
    "    test_labels = save['test_labels']\n",
    "    del save  # hint to help gc free up memory\n",
    "    print('Training set', train_dataset.shape, train_labels.shape)\n",
    "    print('Validation set', valid_dataset.shape, valid_labels.shape)\n",
    "    print('Test set', test_dataset.shape, test_labels.shape)"
   ]
  },
  {
   "cell_type": "markdown",
   "metadata": {
    "colab_type": "text",
    "id": "L7aHrm6nGDMB"
   },
   "source": [
    "Reformat into a shape that's more adapted to the models we're going to train:\n",
    "- data as a flat matrix,\n",
    "- labels as float 1-hot encodings."
   ]
  },
  {
   "cell_type": "code",
   "execution_count": 73,
   "metadata": {
    "cellView": "both",
    "colab": {
     "autoexec": {
      "startup": false,
      "wait_interval": 0
     },
     "output_extras": [
      {
       "item_id": 1
      }
     ]
    },
    "colab_type": "code",
    "collapsed": false,
    "executionInfo": {
     "elapsed": 19723,
     "status": "ok",
     "timestamp": 1449847956364,
     "user": {
      "color": "",
      "displayName": "",
      "isAnonymous": false,
      "isMe": true,
      "permissionId": "",
      "photoUrl": "",
      "sessionId": "0",
      "userId": ""
     },
     "user_tz": 480
    },
    "id": "IRSyYiIIGIzS",
    "outputId": "2ba0fc75-1487-4ace-a562-cf81cae82793"
   },
   "outputs": [
    {
     "name": "stdout",
     "output_type": "stream",
     "text": [
      "Training set (200000, 784) (200000, 10)\n",
      "Validation set (10000, 784) (10000, 10)\n",
      "Test set (10000, 784) (10000, 10)\n"
     ]
    }
   ],
   "source": [
    "image_size = 28\n",
    "num_labels = 10\n",
    "\n",
    "def reformat(dataset, labels):\n",
    "    dataset = dataset.reshape((-1, image_size * image_size)).astype(np.float32)\n",
    "    # Map 0 to [1.0, 0.0, 0.0 ...], 1 to [0.0, 1.0, 0.0 ...]\n",
    "    labels = (np.arange(num_labels) == labels[:,None]).astype(np.float32)\n",
    "    return dataset, labels\n",
    "train_dataset, train_labels = reformat(train_dataset, train_labels)\n",
    "valid_dataset, valid_labels = reformat(valid_dataset, valid_labels)\n",
    "test_dataset, test_labels = reformat(test_dataset, test_labels)\n",
    "print('Training set', train_dataset.shape, train_labels.shape)\n",
    "print('Validation set', valid_dataset.shape, valid_labels.shape)\n",
    "print('Test set', test_dataset.shape, test_labels.shape)"
   ]
  },
  {
   "cell_type": "code",
   "execution_count": 74,
   "metadata": {
    "collapsed": false
   },
   "outputs": [
    {
     "data": {
      "text/plain": [
       "(200000, 784)"
      ]
     },
     "execution_count": 74,
     "metadata": {},
     "output_type": "execute_result"
    }
   ],
   "source": [
    "np.shape(train_dataset.reshape((-1, 28*28)))"
   ]
  },
  {
   "cell_type": "code",
   "execution_count": 75,
   "metadata": {
    "collapsed": false
   },
   "outputs": [
    {
     "data": {
      "text/plain": [
       "array([ 0.,  1.], dtype=float32)"
      ]
     },
     "execution_count": 75,
     "metadata": {},
     "output_type": "execute_result"
    }
   ],
   "source": [
    "np.unique(train_labels)"
   ]
  },
  {
   "cell_type": "markdown",
   "metadata": {
    "colab_type": "text",
    "id": "nCLVqyQ5vPPH"
   },
   "source": [
    "We're first going to train a multinomial logistic regression using simple gradient descent.\n",
    "\n",
    "TensorFlow works like this:\n",
    "* First you describe the computation that you want to see performed: what the inputs, the variables, and the operations look like. These get created as nodes over a computation graph. This description is all contained within the block below:\n",
    "\n",
    "      with graph.as_default():\n",
    "          ...\n",
    "\n",
    "* Then you can run the operations on this graph as many times as you want by calling `session.run()`, providing it outputs to fetch from the graph that get returned. This runtime operation is all contained in the block below:\n",
    "\n",
    "      with tf.Session(graph=graph) as session:\n",
    "          ...\n",
    "\n",
    "Let's load all the data into TensorFlow and build the computation graph corresponding to our training:"
   ]
  },
  {
   "cell_type": "code",
   "execution_count": 76,
   "metadata": {
    "cellView": "both",
    "colab": {
     "autoexec": {
      "startup": false,
      "wait_interval": 0
     }
    },
    "colab_type": "code",
    "collapsed": false,
    "id": "Nfv39qvtvOl_"
   },
   "outputs": [],
   "source": [
    "# With gradient descent training, even this much data is prohibitive.\n",
    "# Subset the training data for faster turnaround.\n",
    "train_subset = 10000\n",
    "\n",
    "graph = tf.Graph()\n",
    "with graph.as_default():\n",
    "\n",
    "    # Input data.\n",
    "    # Load the training, validation and test data into constants that are\n",
    "    # attached to the graph.\n",
    "    tf_train_dataset = tf.constant(train_dataset[:train_subset, :])\n",
    "    tf_train_labels = tf.constant(train_labels[:train_subset])\n",
    "    tf_valid_dataset = tf.constant(valid_dataset)\n",
    "    tf_test_dataset = tf.constant(test_dataset)\n",
    "  \n",
    "    # Variables.\n",
    "    # These are the parameters that we are going to be training. The weight\n",
    "    # matrix will be initialized using random values following a (truncated)\n",
    "    # normal distribution. The biases get initialized to zero.\n",
    "    weights = tf.Variable(\n",
    "    tf.truncated_normal([image_size * image_size, num_labels]))\n",
    "    biases = tf.Variable(tf.zeros([num_labels]))\n",
    "  \n",
    "    # Training computation.\n",
    "    # We multiply the inputs with the weight matrix, and add biases. We compute\n",
    "    # the softmax and cross-entropy (it's one operation in TensorFlow, because\n",
    "    # it's very common, and it can be optimized). We take the average of this\n",
    "    # cross-entropy across all training examples: that's our loss.\n",
    "    logits = tf.matmul(tf_train_dataset, weights) + biases\n",
    "    loss = tf.reduce_mean(tf.nn.softmax_cross_entropy_with_logits(logits, tf_train_labels))\n",
    "  \n",
    "    # Optimizer.\n",
    "    # We are going to find the minimum of this loss using gradient descent.\n",
    "    optimizer = tf.train.GradientDescentOptimizer(0.5).minimize(loss)\n",
    "  \n",
    "    # Predictions for the training, validation, and test data.\n",
    "    # These are not part of training, but merely here so that we can report\n",
    "    # accuracy figures as we train.\n",
    "    train_prediction = tf.nn.softmax(logits)\n",
    "    valid_prediction = tf.nn.softmax(tf.matmul(tf_valid_dataset, weights) + biases)\n",
    "    test_prediction = tf.nn.softmax(tf.matmul(tf_test_dataset, weights) + biases)"
   ]
  },
  {
   "cell_type": "markdown",
   "metadata": {
    "colab_type": "text",
    "id": "KQcL4uqISHjP"
   },
   "source": [
    "Let's run this computation and iterate:"
   ]
  },
  {
   "cell_type": "code",
   "execution_count": 77,
   "metadata": {
    "collapsed": true
   },
   "outputs": [],
   "source": [
    "%matplotlib inline\n",
    "import matplotlib.pyplot as plt\n",
    "\n",
    "accur_list = []\n",
    "cost_list = []\n",
    "step_list = []"
   ]
  },
  {
   "cell_type": "code",
   "execution_count": 78,
   "metadata": {
    "cellView": "both",
    "colab": {
     "autoexec": {
      "startup": false,
      "wait_interval": 0
     },
     "output_extras": [
      {
       "item_id": 9
      }
     ]
    },
    "colab_type": "code",
    "collapsed": false,
    "executionInfo": {
     "elapsed": 57454,
     "status": "ok",
     "timestamp": 1449847994134,
     "user": {
      "color": "",
      "displayName": "",
      "isAnonymous": false,
      "isMe": true,
      "permissionId": "",
      "photoUrl": "",
      "sessionId": "0",
      "userId": ""
     },
     "user_tz": 480
    },
    "id": "z2cjdenH869W",
    "outputId": "4c037ba1-b526-4d8e-e632-91e2a0333267"
   },
   "outputs": [
    {
     "name": "stdout",
     "output_type": "stream",
     "text": [
      "Initialized\n",
      "Loss at step 0: 15.014024\n",
      "Training accuracy: 17.2%\n",
      "Validation accuracy: 19.5%\n",
      "Test accuracy: 20.8%\n",
      "Loss at step 10: 5.785231\n",
      "Training accuracy: 40.8%\n",
      "Validation accuracy: 42.8%\n",
      "Test accuracy: 48.2%\n",
      "Loss at step 20: 4.207510\n",
      "Training accuracy: 54.3%\n",
      "Validation accuracy: 55.2%\n",
      "Test accuracy: 62.1%\n",
      "Loss at step 30: 3.621684\n",
      "Training accuracy: 60.7%\n",
      "Validation accuracy: 60.6%\n",
      "Test accuracy: 67.8%\n",
      "Loss at step 40: 3.283602\n",
      "Training accuracy: 63.7%\n",
      "Validation accuracy: 63.7%\n",
      "Test accuracy: 71.0%\n",
      "Loss at step 50: 3.051245\n",
      "Training accuracy: 65.9%\n",
      "Validation accuracy: 65.7%\n",
      "Test accuracy: 73.3%\n",
      "Loss at step 60: 2.877312\n",
      "Training accuracy: 67.5%\n",
      "Validation accuracy: 67.0%\n",
      "Test accuracy: 74.7%\n",
      "Loss at step 70: 2.739522\n",
      "Training accuracy: 68.6%\n",
      "Validation accuracy: 67.9%\n",
      "Test accuracy: 75.7%\n",
      "Loss at step 80: 2.625506\n",
      "Training accuracy: 69.6%\n",
      "Validation accuracy: 68.6%\n",
      "Test accuracy: 76.5%\n",
      "Loss at step 90: 2.528108\n",
      "Training accuracy: 70.3%\n",
      "Validation accuracy: 69.2%\n",
      "Test accuracy: 77.1%\n",
      "Loss at step 100: 2.442977\n",
      "Training accuracy: 70.9%\n",
      "Validation accuracy: 69.8%\n",
      "Test accuracy: 77.7%\n",
      "Loss at step 110: 2.367375\n",
      "Training accuracy: 71.3%\n",
      "Validation accuracy: 70.3%\n",
      "Test accuracy: 78.1%\n",
      "Loss at step 120: 2.299448\n",
      "Training accuracy: 71.7%\n",
      "Validation accuracy: 70.6%\n",
      "Test accuracy: 78.5%\n",
      "Loss at step 130: 2.237887\n",
      "Training accuracy: 71.9%\n",
      "Validation accuracy: 71.0%\n",
      "Test accuracy: 78.9%\n",
      "Loss at step 140: 2.181731\n",
      "Training accuracy: 72.2%\n",
      "Validation accuracy: 71.2%\n",
      "Test accuracy: 79.2%\n",
      "Loss at step 150: 2.130227\n",
      "Training accuracy: 72.5%\n",
      "Validation accuracy: 71.6%\n",
      "Test accuracy: 79.4%\n",
      "Loss at step 160: 2.082773\n",
      "Training accuracy: 72.8%\n",
      "Validation accuracy: 72.0%\n",
      "Test accuracy: 79.5%\n",
      "Loss at step 170: 2.038877\n",
      "Training accuracy: 73.0%\n",
      "Validation accuracy: 72.1%\n",
      "Test accuracy: 79.7%\n",
      "Loss at step 180: 1.998118\n",
      "Training accuracy: 73.3%\n",
      "Validation accuracy: 72.3%\n",
      "Test accuracy: 79.9%\n",
      "Loss at step 190: 1.960131\n",
      "Training accuracy: 73.5%\n",
      "Validation accuracy: 72.5%\n",
      "Test accuracy: 80.1%\n",
      "Loss at step 200: 1.924603\n",
      "Training accuracy: 73.7%\n",
      "Validation accuracy: 72.6%\n",
      "Test accuracy: 80.3%\n",
      "Loss at step 210: 1.891265\n",
      "Training accuracy: 73.9%\n",
      "Validation accuracy: 72.8%\n",
      "Test accuracy: 80.4%\n",
      "Loss at step 220: 1.859890\n",
      "Training accuracy: 74.0%\n",
      "Validation accuracy: 72.9%\n",
      "Test accuracy: 80.5%\n",
      "Loss at step 230: 1.830279\n",
      "Training accuracy: 74.2%\n",
      "Validation accuracy: 73.0%\n",
      "Test accuracy: 80.6%\n",
      "Loss at step 240: 1.802266\n",
      "Training accuracy: 74.3%\n",
      "Validation accuracy: 73.1%\n",
      "Test accuracy: 80.7%\n",
      "Loss at step 250: 1.775700\n",
      "Training accuracy: 74.5%\n",
      "Validation accuracy: 73.2%\n",
      "Test accuracy: 80.8%\n",
      "Loss at step 260: 1.750453\n",
      "Training accuracy: 74.5%\n",
      "Validation accuracy: 73.3%\n",
      "Test accuracy: 80.9%\n",
      "Loss at step 270: 1.726411\n",
      "Training accuracy: 74.6%\n",
      "Validation accuracy: 73.4%\n",
      "Test accuracy: 80.9%\n",
      "Loss at step 280: 1.703474\n",
      "Training accuracy: 74.7%\n",
      "Validation accuracy: 73.4%\n",
      "Test accuracy: 81.0%\n",
      "Loss at step 290: 1.681553\n",
      "Training accuracy: 74.8%\n",
      "Validation accuracy: 73.4%\n",
      "Test accuracy: 81.1%\n",
      "Loss at step 300: 1.660568\n",
      "Training accuracy: 74.9%\n",
      "Validation accuracy: 73.6%\n",
      "Test accuracy: 81.2%\n",
      "Loss at step 310: 1.640448\n",
      "Training accuracy: 75.0%\n",
      "Validation accuracy: 73.6%\n",
      "Test accuracy: 81.2%\n",
      "Loss at step 320: 1.621129\n",
      "Training accuracy: 75.1%\n",
      "Validation accuracy: 73.7%\n",
      "Test accuracy: 81.2%\n",
      "Loss at step 330: 1.602553\n",
      "Training accuracy: 75.3%\n",
      "Validation accuracy: 73.7%\n",
      "Test accuracy: 81.3%\n",
      "Loss at step 340: 1.584666\n",
      "Training accuracy: 75.4%\n",
      "Validation accuracy: 73.8%\n",
      "Test accuracy: 81.3%\n",
      "Loss at step 350: 1.567423\n",
      "Training accuracy: 75.5%\n",
      "Validation accuracy: 73.9%\n",
      "Test accuracy: 81.3%\n",
      "Loss at step 360: 1.550779\n",
      "Training accuracy: 75.6%\n",
      "Validation accuracy: 73.9%\n",
      "Test accuracy: 81.3%\n",
      "Loss at step 370: 1.534697\n",
      "Training accuracy: 75.7%\n",
      "Validation accuracy: 73.9%\n",
      "Test accuracy: 81.4%\n",
      "Loss at step 380: 1.519141\n",
      "Training accuracy: 75.8%\n",
      "Validation accuracy: 74.0%\n",
      "Test accuracy: 81.4%\n",
      "Loss at step 390: 1.504077\n",
      "Training accuracy: 75.8%\n",
      "Validation accuracy: 74.0%\n",
      "Test accuracy: 81.4%\n",
      "Loss at step 400: 1.489481\n",
      "Training accuracy: 75.9%\n",
      "Validation accuracy: 74.0%\n",
      "Test accuracy: 81.5%\n",
      "Loss at step 410: 1.475324\n",
      "Training accuracy: 76.0%\n",
      "Validation accuracy: 74.0%\n",
      "Test accuracy: 81.5%\n",
      "Loss at step 420: 1.461582\n",
      "Training accuracy: 76.1%\n",
      "Validation accuracy: 74.0%\n",
      "Test accuracy: 81.6%\n",
      "Loss at step 430: 1.448232\n",
      "Training accuracy: 76.2%\n",
      "Validation accuracy: 74.1%\n",
      "Test accuracy: 81.6%\n",
      "Loss at step 440: 1.435256\n",
      "Training accuracy: 76.1%\n",
      "Validation accuracy: 74.1%\n",
      "Test accuracy: 81.6%\n",
      "Loss at step 450: 1.422634\n",
      "Training accuracy: 76.3%\n",
      "Validation accuracy: 74.1%\n",
      "Test accuracy: 81.6%\n",
      "Loss at step 460: 1.410349\n",
      "Training accuracy: 76.3%\n",
      "Validation accuracy: 74.1%\n",
      "Test accuracy: 81.7%\n",
      "Loss at step 470: 1.398384\n",
      "Training accuracy: 76.5%\n",
      "Validation accuracy: 74.1%\n",
      "Test accuracy: 81.7%\n",
      "Loss at step 480: 1.386726\n",
      "Training accuracy: 76.5%\n",
      "Validation accuracy: 74.2%\n",
      "Test accuracy: 81.7%\n",
      "Loss at step 490: 1.375358\n",
      "Training accuracy: 76.6%\n",
      "Validation accuracy: 74.3%\n",
      "Test accuracy: 81.7%\n",
      "Loss at step 500: 1.364270\n",
      "Training accuracy: 76.7%\n",
      "Validation accuracy: 74.3%\n",
      "Test accuracy: 81.8%\n",
      "Loss at step 510: 1.353448\n",
      "Training accuracy: 76.7%\n",
      "Validation accuracy: 74.3%\n",
      "Test accuracy: 81.8%\n",
      "Loss at step 520: 1.342881\n",
      "Training accuracy: 76.8%\n",
      "Validation accuracy: 74.3%\n",
      "Test accuracy: 81.8%\n",
      "Loss at step 530: 1.332558\n",
      "Training accuracy: 76.9%\n",
      "Validation accuracy: 74.3%\n",
      "Test accuracy: 81.8%\n",
      "Loss at step 540: 1.322469\n",
      "Training accuracy: 76.9%\n",
      "Validation accuracy: 74.3%\n",
      "Test accuracy: 81.8%\n",
      "Loss at step 550: 1.312604\n",
      "Training accuracy: 76.9%\n",
      "Validation accuracy: 74.4%\n",
      "Test accuracy: 81.9%\n",
      "Loss at step 560: 1.302956\n",
      "Training accuracy: 77.0%\n",
      "Validation accuracy: 74.5%\n",
      "Test accuracy: 81.9%\n",
      "Loss at step 570: 1.293516\n",
      "Training accuracy: 77.0%\n",
      "Validation accuracy: 74.5%\n",
      "Test accuracy: 82.0%\n",
      "Loss at step 580: 1.284275\n",
      "Training accuracy: 77.1%\n",
      "Validation accuracy: 74.5%\n",
      "Test accuracy: 82.0%\n",
      "Loss at step 590: 1.275225\n",
      "Training accuracy: 77.1%\n",
      "Validation accuracy: 74.5%\n",
      "Test accuracy: 82.0%\n",
      "Loss at step 600: 1.266361\n",
      "Training accuracy: 77.2%\n",
      "Validation accuracy: 74.6%\n",
      "Test accuracy: 82.0%\n",
      "Loss at step 610: 1.257675\n",
      "Training accuracy: 77.2%\n",
      "Validation accuracy: 74.6%\n",
      "Test accuracy: 82.0%\n",
      "Loss at step 620: 1.249164\n",
      "Training accuracy: 77.2%\n",
      "Validation accuracy: 74.6%\n",
      "Test accuracy: 82.0%\n",
      "Loss at step 630: 1.240817\n",
      "Training accuracy: 77.2%\n",
      "Validation accuracy: 74.6%\n",
      "Test accuracy: 82.1%\n",
      "Loss at step 640: 1.232631\n",
      "Training accuracy: 77.3%\n",
      "Validation accuracy: 74.6%\n",
      "Test accuracy: 82.2%\n",
      "Loss at step 650: 1.224601\n",
      "Training accuracy: 77.3%\n",
      "Validation accuracy: 74.7%\n",
      "Test accuracy: 82.2%\n",
      "Loss at step 660: 1.216719\n",
      "Training accuracy: 77.4%\n",
      "Validation accuracy: 74.7%\n",
      "Test accuracy: 82.2%\n",
      "Loss at step 670: 1.208985\n",
      "Training accuracy: 77.4%\n",
      "Validation accuracy: 74.7%\n",
      "Test accuracy: 82.1%\n",
      "Loss at step 680: 1.201391\n",
      "Training accuracy: 77.5%\n",
      "Validation accuracy: 74.8%\n",
      "Test accuracy: 82.1%\n",
      "Loss at step 690: 1.193932\n",
      "Training accuracy: 77.6%\n",
      "Validation accuracy: 74.8%\n",
      "Test accuracy: 82.2%\n",
      "Loss at step 700: 1.186607\n",
      "Training accuracy: 77.6%\n",
      "Validation accuracy: 74.8%\n",
      "Test accuracy: 82.2%\n",
      "Loss at step 710: 1.179410\n",
      "Training accuracy: 77.7%\n",
      "Validation accuracy: 74.8%\n",
      "Test accuracy: 82.2%\n",
      "Loss at step 720: 1.172336\n",
      "Training accuracy: 77.8%\n",
      "Validation accuracy: 74.9%\n",
      "Test accuracy: 82.2%\n",
      "Loss at step 730: 1.165383\n",
      "Training accuracy: 77.8%\n",
      "Validation accuracy: 75.0%\n",
      "Test accuracy: 82.3%\n",
      "Loss at step 740: 1.158550\n",
      "Training accuracy: 77.8%\n",
      "Validation accuracy: 74.9%\n",
      "Test accuracy: 82.3%\n",
      "Loss at step 750: 1.151828\n",
      "Training accuracy: 77.9%\n",
      "Validation accuracy: 74.9%\n",
      "Test accuracy: 82.4%\n",
      "Loss at step 760: 1.145218\n",
      "Training accuracy: 77.9%\n",
      "Validation accuracy: 74.9%\n",
      "Test accuracy: 82.4%\n",
      "Loss at step 770: 1.138715\n",
      "Training accuracy: 78.0%\n",
      "Validation accuracy: 74.9%\n",
      "Test accuracy: 82.4%\n",
      "Loss at step 780: 1.132317\n",
      "Training accuracy: 78.0%\n",
      "Validation accuracy: 74.8%\n",
      "Test accuracy: 82.4%\n",
      "Loss at step 790: 1.126021\n",
      "Training accuracy: 78.0%\n",
      "Validation accuracy: 74.9%\n",
      "Test accuracy: 82.4%\n",
      "Loss at step 800: 1.119824\n",
      "Training accuracy: 78.1%\n",
      "Validation accuracy: 74.9%\n",
      "Test accuracy: 82.4%\n"
     ]
    }
   ],
   "source": [
    "num_steps = 801\n",
    "\n",
    "def accuracy(predictions, labels):\n",
    "    return (100.0 * np.sum(np.argmax(predictions, 1) == np.argmax(labels, 1)) / predictions.shape[0])\n",
    "\n",
    "with tf.Session(graph=graph) as session:\n",
    "    # This is a one-time operation which ensures the parameters get initialized as\n",
    "    # we described in the graph: random weights for the matrix, zeros for the\n",
    "    # biases. \n",
    "    tf.initialize_all_variables().run()\n",
    "    print('Initialized')\n",
    "    for step in range(num_steps):\n",
    "        # Run the computations. We tell .run() that we want to run the optimizer,\n",
    "        # and get the loss value and the training predictions returned as numpy\n",
    "        # arrays.\n",
    "        _, l, predictions = session.run([optimizer, loss, train_prediction])\n",
    "        if (step % 10 == 0):\n",
    "            cost_list.append(l)\n",
    "            step_list.append(step)\n",
    "            print('Loss at step %d: %f' % (step, l))\n",
    "            print('Training accuracy: %.1f%%' % accuracy(\n",
    "            predictions, train_labels[:train_subset, :]))\n",
    "            # Calling .eval() on valid_prediction is basically like calling run(), but\n",
    "            # just to get that one numpy array. Note that it recomputes all its graph\n",
    "            # dependencies.\n",
    "            print('Validation accuracy: %.1f%%' % accuracy(valid_prediction.eval(), valid_labels))\n",
    "            T_accuracy = accuracy(test_prediction.eval(), test_labels)\n",
    "            print('Test accuracy: %.1f%%' % T_accuracy)\n",
    "            accur_list.append(T_accuracy)"
   ]
  },
  {
   "cell_type": "code",
   "execution_count": 79,
   "metadata": {
    "collapsed": false
   },
   "outputs": [
    {
     "data": {
      "image/png": "[encoded data removed]",
      "text/plain": [
       "<matplotlib.figure.Figure at 0x12a738810>"
      ]
     },
     "metadata": {},
     "output_type": "display_data"
    }
   ],
   "source": [
    "#very simple plotting\n",
    "fig = plt.figure(1)\n",
    "ax1 = fig.add_subplot(111)\n",
    "ax1.set_xlabel('Steps')\n",
    "ax1.set_ylabel('Test Accuracy')\n",
    "ax1.set_title('Accuracy vs Steps')\n",
    "ax1.scatter(step_list, accur_list, s = 3);"
   ]
  },
  {
   "cell_type": "markdown",
   "metadata": {
    "colab_type": "text",
    "id": "x68f-hxRGm3H"
   },
   "source": [
    "Let's now switch to stochastic gradient descent training instead, which is much faster.\n",
    "\n",
    "The graph will be similar, except that instead of holding all the training data into a constant node, we create a `Placeholder` node which will be fed actual data at every call of `session.run()`."
   ]
  },
  {
   "cell_type": "code",
   "execution_count": 80,
   "metadata": {
    "cellView": "both",
    "colab": {
     "autoexec": {
      "startup": false,
      "wait_interval": 0
     }
    },
    "colab_type": "code",
    "collapsed": true,
    "id": "qhPMzWYRGrzM"
   },
   "outputs": [],
   "source": [
    "batch_size = 128\n",
    "\n",
    "graph = tf.Graph()\n",
    "with graph.as_default():\n",
    "\n",
    "    # Input data. For the training data, we use a placeholder that will be fed\n",
    "    # at run time with a training minibatch.\n",
    "    tf_train_dataset = tf.placeholder(tf.float32,\n",
    "                                    shape=(batch_size, image_size * image_size))\n",
    "    tf_train_labels = tf.placeholder(tf.float32, shape=(batch_size, num_labels))\n",
    "    tf_valid_dataset = tf.constant(valid_dataset)\n",
    "    tf_test_dataset = tf.constant(test_dataset)\n",
    "  \n",
    "    # Variables.\n",
    "    weights = tf.Variable(tf.truncated_normal([image_size * image_size, num_labels]))\n",
    "    biases = tf.Variable(tf.zeros([num_labels]))\n",
    "  \n",
    "    # Training computation.\n",
    "    logits = tf.matmul(tf_train_dataset, weights) + biases\n",
    "    loss = tf.reduce_mean(tf.nn.softmax_cross_entropy_with_logits(logits, tf_train_labels))\n",
    "  \n",
    "    # Optimizer.\n",
    "    optimizer = tf.train.GradientDescentOptimizer(0.5).minimize(loss)\n",
    "  \n",
    "    # Predictions for the training, validation, and test data.\n",
    "    train_prediction = tf.nn.softmax(logits)\n",
    "    valid_prediction = tf.nn.softmax(tf.matmul(tf_valid_dataset, weights) + biases)\n",
    "    test_prediction = tf.nn.softmax(tf.matmul(tf_test_dataset, weights) + biases)"
   ]
  },
  {
   "cell_type": "markdown",
   "metadata": {
    "colab_type": "text",
    "id": "XmVZESmtG4JH"
   },
   "source": [
    "Let's run it:"
   ]
  },
  {
   "cell_type": "code",
   "execution_count": 81,
   "metadata": {
    "cellView": "both",
    "colab": {
     "autoexec": {
      "startup": false,
      "wait_interval": 0
     },
     "output_extras": [
      {
       "item_id": 6
      }
     ]
    },
    "colab_type": "code",
    "collapsed": false,
    "executionInfo": {
     "elapsed": 66292,
     "status": "ok",
     "timestamp": 1449848003013,
     "user": {
      "color": "",
      "displayName": "",
      "isAnonymous": false,
      "isMe": true,
      "permissionId": "",
      "photoUrl": "",
      "sessionId": "0",
      "userId": ""
     },
     "user_tz": 480
    },
    "id": "FoF91pknG_YW",
    "outputId": "d255c80e-954d-4183-ca1c-c7333ce91d0a"
   },
   "outputs": [
    {
     "name": "stdout",
     "output_type": "stream",
     "text": [
      "Initialized\n",
      "Minibatch loss at step 0: 18.240400\n",
      "Minibatch accuracy: 6.2%\n",
      "Validation accuracy: 8.5%\n",
      "Minibatch loss at step 500: 2.371244\n",
      "Minibatch accuracy: 71.1%\n",
      "Validation accuracy: 75.4%\n",
      "Minibatch loss at step 1000: 1.244738\n",
      "Minibatch accuracy: 80.5%\n",
      "Validation accuracy: 76.5%\n",
      "Minibatch loss at step 1500: 1.324030\n",
      "Minibatch accuracy: 75.0%\n",
      "Validation accuracy: 77.2%\n",
      "Minibatch loss at step 2000: 1.123285\n",
      "Minibatch accuracy: 77.3%\n",
      "Validation accuracy: 76.5%\n",
      "Minibatch loss at step 2500: 1.130614\n",
      "Minibatch accuracy: 75.8%\n",
      "Validation accuracy: 78.4%\n",
      "Minibatch loss at step 3000: 0.932454\n",
      "Minibatch accuracy: 77.3%\n",
      "Validation accuracy: 78.8%\n",
      "Minibatch loss at step 3500: 0.729505\n",
      "Minibatch accuracy: 85.9%\n",
      "Validation accuracy: 78.1%\n",
      "Minibatch loss at step 4000: 1.040036\n",
      "Minibatch accuracy: 77.3%\n",
      "Validation accuracy: 79.3%\n",
      "Minibatch loss at step 4500: 0.717898\n",
      "Minibatch accuracy: 82.8%\n",
      "Validation accuracy: 79.5%\n",
      "Minibatch loss at step 5000: 0.574863\n",
      "Minibatch accuracy: 81.2%\n",
      "Validation accuracy: 79.7%\n",
      "Test accuracy: 86.9%\n"
     ]
    }
   ],
   "source": [
    "num_steps = 5001\n",
    "\n",
    "with tf.Session(graph=graph) as session:\n",
    "    tf.initialize_all_variables().run()\n",
    "    print(\"Initialized\")\n",
    "    for step in range(num_steps):\n",
    "        # Pick an offset within the training data, which has been randomized.\n",
    "        # Note: we could use better randomization across epochs.\n",
    "        offset = (step * batch_size) % (train_labels.shape[0] - batch_size)\n",
    "        # Generate a minibatch.\n",
    "        batch_data = train_dataset[offset:(offset + batch_size), :]\n",
    "        batch_labels = train_labels[offset:(offset + batch_size), :]\n",
    "        # Prepare a dictionary telling the session where to feed the minibatch.\n",
    "        # The key of the dictionary is the placeholder node of the graph to be fed,\n",
    "        # and the value is the numpy array to feed to it.\n",
    "        feed_dict = {tf_train_dataset : batch_data, tf_train_labels : batch_labels}\n",
    "        _, l, predictions = session.run(\n",
    "          [optimizer, loss, train_prediction], feed_dict=feed_dict)\n",
    "        if (step % 500 == 0):\n",
    "            print(\"Minibatch loss at step %d: %f\" % (step, l))\n",
    "            print(\"Minibatch accuracy: %.1f%%\" % accuracy(predictions, batch_labels))\n",
    "            print(\"Validation accuracy: %.1f%%\" % accuracy(valid_prediction.eval(), valid_labels))\n",
    "    print(\"Test accuracy: %.1f%%\" % accuracy(test_prediction.eval(), test_labels))"
   ]
  },
  {
   "cell_type": "markdown",
   "metadata": {
    "colab_type": "text",
    "id": "7omWxtvLLxik"
   },
   "source": [
    "---\n",
    "Problem\n",
    "-------\n",
    "\n",
    "Turn the logistic regression example with SGD into a 1-hidden layer neural network with rectified linear units [nn.relu()](https://www.tensorflow.org/versions/r0.7/api_docs/python/nn.html#relu) and 1024 hidden nodes. This model should improve your validation / test accuracy.\n",
    "\n",
    "---"
   ]
  },
  {
   "cell_type": "code",
   "execution_count": 95,
   "metadata": {
    "collapsed": true
   },
   "outputs": [],
   "source": [
    "# Setting up the graph always comes first\n",
    "\n",
    "batch_size = 128\n",
    "n_hidden_nodes = 1024\n",
    "image_size = 28\n",
    "\n",
    "graph = tf.Graph()\n",
    "with graph.as_default():\n",
    "    \n",
    "    # Input data. For the training data, we use a placeholder that will be \n",
    "    # fed at runtime with a training minibatch\n",
    "    tf_train_dataset = tf.placeholder(tf.float32,\n",
    "                                    shape=(batch_size, image_size * image_size))\n",
    "    tf_train_labels = tf.placeholder(tf.float32, shape=(batch_size, num_labels))\n",
    "    tf_valid_dataset = tf.constant(valid_dataset)\n",
    "    tf_test_dataset = tf.constant(test_dataset)\n",
    "    \n",
    "    # Variables.\n",
    "    weights_01 = tf.Variable(\n",
    "    tf.truncated_normal([image_size * image_size, n_hidden_nodes]))\n",
    "    weights_12 = tf.Variable(tf.truncated_normal([n_hidden_nodes, num_labels]))\n",
    "    biases_01 = tf.Variable(tf.zeros([n_hidden_nodes]))\n",
    "    biases_12 = tf.Variable(tf.zeros([num_labels]))\n",
    "\n",
    "    # Training computation.\n",
    "    z_01= tf.matmul(tf_train_dataset, weights_01) + biases_01\n",
    "    h1 = tf.nn.relu(z_01)\n",
    "    z_12 = tf.matmul(h1, weights_12) + biases_12\n",
    "    loss = tf.reduce_mean(\n",
    "    tf.nn.softmax_cross_entropy_with_logits(z_12, tf_train_labels))\n",
    "\n",
    "    # Optimizer.\n",
    "    optimizer = tf.train.GradientDescentOptimizer(0.5).minimize(loss)\n",
    "\n",
    "    # Predictions for the training, validation, and test data.\n",
    "    train_prediction = tf.nn.softmax(z_12)\n",
    "    valid_prediction = tf.nn.softmax(\n",
    "    tf.matmul(tf.nn.relu(tf.matmul(tf_valid_dataset, weights_01) + biases_01), weights_12) + biases_12)\n",
    "    test_prediction = tf.nn.softmax(tf.matmul(tf.nn.relu(tf.matmul(tf_test_dataset, weights_01) + biases_01), weights_12) + biases_12) "
   ]
  },
  {
   "cell_type": "code",
   "execution_count": 96,
   "metadata": {
    "collapsed": false
   },
   "outputs": [
    {
     "name": "stdout",
     "output_type": "stream",
     "text": [
      "Initialized\n",
      "Minibatch loss at step 0: 324.309784\n",
      "Minibatch accuracy: 10.2%\n",
      "Validation accuracy: 26.4%\n",
      "Minibatch loss at step 500: 15.666269\n",
      "Minibatch accuracy: 75.8%\n",
      "Validation accuracy: 81.2%\n",
      "Minibatch loss at step 1000: 9.701218\n",
      "Minibatch accuracy: 78.9%\n",
      "Validation accuracy: 82.1%\n",
      "Minibatch loss at step 1500: 8.730391\n",
      "Minibatch accuracy: 73.4%\n",
      "Validation accuracy: 81.4%\n",
      "Minibatch loss at step 2000: 5.601308\n",
      "Minibatch accuracy: 81.2%\n",
      "Validation accuracy: 79.5%\n",
      "Minibatch loss at step 2500: 9.332880\n",
      "Minibatch accuracy: 78.1%\n",
      "Validation accuracy: 80.0%\n",
      "Minibatch loss at step 3000: 3.054952\n",
      "Minibatch accuracy: 82.8%\n",
      "Validation accuracy: 80.3%\n",
      "Minibatch loss at step 3500: 3.030112\n",
      "Minibatch accuracy: 88.3%\n",
      "Validation accuracy: 81.5%\n",
      "Minibatch loss at step 4000: 2.456403\n",
      "Minibatch accuracy: 80.5%\n",
      "Validation accuracy: 80.9%\n",
      "Minibatch loss at step 4500: 2.019478\n",
      "Minibatch accuracy: 85.2%\n",
      "Validation accuracy: 83.3%\n",
      "Minibatch loss at step 5000: 0.738836\n",
      "Minibatch accuracy: 89.1%\n",
      "Validation accuracy: 82.8%\n",
      "Minibatch loss at step 5500: 2.041015\n",
      "Minibatch accuracy: 82.8%\n",
      "Validation accuracy: 82.8%\n",
      "Minibatch loss at step 6000: 2.410986\n",
      "Minibatch accuracy: 86.7%\n",
      "Validation accuracy: 83.5%\n",
      "Minibatch loss at step 6500: 2.461916\n",
      "Minibatch accuracy: 81.2%\n",
      "Validation accuracy: 83.0%\n",
      "Minibatch loss at step 7000: 1.873383\n",
      "Minibatch accuracy: 89.8%\n",
      "Validation accuracy: 84.3%\n",
      "Minibatch loss at step 7500: 1.002510\n",
      "Minibatch accuracy: 85.9%\n",
      "Validation accuracy: 83.9%\n",
      "Minibatch loss at step 8000: 0.986571\n",
      "Minibatch accuracy: 91.4%\n",
      "Validation accuracy: 83.3%\n",
      "Minibatch loss at step 8500: 0.415871\n",
      "Minibatch accuracy: 90.6%\n",
      "Validation accuracy: 84.0%\n",
      "Minibatch loss at step 9000: 1.346511\n",
      "Minibatch accuracy: 86.7%\n",
      "Validation accuracy: 84.2%\n",
      "Minibatch loss at step 9500: 0.744818\n",
      "Minibatch accuracy: 89.1%\n",
      "Validation accuracy: 84.5%\n",
      "Minibatch loss at step 10000: 1.356037\n",
      "Minibatch accuracy: 89.1%\n",
      "Validation accuracy: 83.0%\n",
      "Minibatch loss at step 10500: 1.892023\n",
      "Minibatch accuracy: 85.9%\n",
      "Validation accuracy: 84.1%\n",
      "Minibatch loss at step 11000: 0.966964\n",
      "Minibatch accuracy: 88.3%\n",
      "Validation accuracy: 84.0%\n",
      "Minibatch loss at step 11500: 0.858190\n",
      "Minibatch accuracy: 85.9%\n",
      "Validation accuracy: 84.7%\n",
      "Minibatch loss at step 12000: 0.805250\n",
      "Minibatch accuracy: 92.2%\n",
      "Validation accuracy: 84.8%\n",
      "Minibatch loss at step 12500: 2.565210\n",
      "Minibatch accuracy: 85.2%\n",
      "Validation accuracy: 83.4%\n",
      "Minibatch loss at step 13000: 0.797943\n",
      "Minibatch accuracy: 86.7%\n",
      "Validation accuracy: 84.9%\n",
      "Minibatch loss at step 13500: 0.319276\n",
      "Minibatch accuracy: 91.4%\n",
      "Validation accuracy: 84.9%\n",
      "Minibatch loss at step 14000: 0.922709\n",
      "Minibatch accuracy: 92.2%\n",
      "Validation accuracy: 85.2%\n",
      "Minibatch loss at step 14500: 1.209756\n",
      "Minibatch accuracy: 92.2%\n",
      "Validation accuracy: 84.2%\n",
      "Minibatch loss at step 15000: 0.429418\n",
      "Minibatch accuracy: 89.8%\n",
      "Validation accuracy: 85.3%\n",
      "Minibatch loss at step 15500: 0.444208\n",
      "Minibatch accuracy: 88.3%\n",
      "Validation accuracy: 85.8%\n",
      "Minibatch loss at step 16000: 0.633546\n",
      "Minibatch accuracy: 92.2%\n",
      "Validation accuracy: 84.9%\n",
      "Minibatch loss at step 16500: 0.620418\n",
      "Minibatch accuracy: 91.4%\n",
      "Validation accuracy: 85.4%\n",
      "Minibatch loss at step 17000: 0.509932\n",
      "Minibatch accuracy: 92.2%\n",
      "Validation accuracy: 84.8%\n",
      "Minibatch loss at step 17500: 0.342126\n",
      "Minibatch accuracy: 92.2%\n",
      "Validation accuracy: 85.5%\n",
      "Minibatch loss at step 18000: 0.518216\n",
      "Minibatch accuracy: 95.3%\n",
      "Validation accuracy: 85.7%\n",
      "Minibatch loss at step 18500: 1.201865\n",
      "Minibatch accuracy: 89.8%\n",
      "Validation accuracy: 85.4%\n",
      "Minibatch loss at step 19000: 0.428867\n",
      "Minibatch accuracy: 91.4%\n",
      "Validation accuracy: 85.8%\n",
      "Minibatch loss at step 19500: 0.515053\n",
      "Minibatch accuracy: 93.8%\n",
      "Validation accuracy: 84.7%\n",
      "Minibatch loss at step 20000: 0.336005\n",
      "Minibatch accuracy: 95.3%\n",
      "Validation accuracy: 85.6%\n",
      "Test accuracy: 92.2%\n"
     ]
    }
   ],
   "source": [
    "num_steps = 20001\n",
    "\n",
    "with tf.Session(graph=graph) as session:\n",
    "    tf.initialize_all_variables().run()\n",
    "    print(\"Initialized\")\n",
    "    for step in range(num_steps):\n",
    "        # Pick an offset within the training data, which has been randomized.\n",
    "        # Note: we could use better randomization across epochs.\n",
    "        offset = (step * batch_size) % (train_labels.shape[0] - batch_size)\n",
    "        # Generate a minibatch.\n",
    "        batch_data = train_dataset[offset:(offset + batch_size), :]\n",
    "        batch_labels = train_labels[offset:(offset + batch_size), :]\n",
    "        # Prepare a dictionary telling the session where to feed the minibatch.\n",
    "        # The key of the dictionary is the placeholder node of the graph to be fed,\n",
    "        # and the value is the numpy array to feed to it.\n",
    "        feed_dict = {tf_train_dataset : batch_data, tf_train_labels : batch_labels}\n",
    "        _, l, predictions = session.run(\n",
    "          [optimizer, loss, train_prediction], feed_dict=feed_dict)\n",
    "        if (step % 500 == 0):\n",
    "            cost2_list.append(l)\n",
    "            step2_list.append(step)\n",
    "            print(\"Minibatch loss at step %d: %f\" % (step, l))\n",
    "            print(\"Minibatch accuracy: %.1f%%\" % accuracy(predictions, batch_labels))\n",
    "            print(\"Validation accuracy: %.1f%%\" % accuracy(valid_prediction.eval(), valid_labels))\n",
    "    print(\"Test accuracy: %.1f%%\" % accuracy(test_prediction.eval(), test_labels))"
   ]
  },
  {
   "cell_type": "code",
   "execution_count": 93,
   "metadata": {
    "collapsed": false
   },
   "outputs": [
    {
     "data": {
      "image/png": "[encoded data removed]",
      "text/plain": [
       "<matplotlib.figure.Figure at 0x12a71bdd0>"
      ]
     },
     "metadata": {},
     "output_type": "display_data"
    }
   ],
   "source": [
    "#very simple plotting\n",
    "fig = plt.figure(1)\n",
    "ax1 = fig.add_subplot(111)\n",
    "ax1.set_xlabel('Steps')\n",
    "ax1.set_ylabel('Cost')\n",
    "ax1.set_title('Accuracy vs Steps')\n",
    "ax1.plot(step2_list,cost2_list,);"
   ]
  },
  {
   "cell_type": "code",
   "execution_count": null,
   "metadata": {
    "collapsed": true
   },
   "outputs": [],
   "source": []
  },
  {
   "cell_type": "code",
   "execution_count": null,
   "metadata": {
    "collapsed": true
   },
   "outputs": [],
   "source": []
  }
 ],
 "metadata": {
  "colab": {
   "default_view": {},
   "name": "2_fullyconnected.ipynb",
   "provenance": [],
   "version": "0.3.2",
   "views": {}
  },
  "kernelspec": {
   "display_name": "Python 2",
   "language": "python",
   "name": "python2"
  },
  "language_info": {
   "codemirror_mode": {
    "name": "ipython",
    "version": 2
   },
   "file_extension": ".py",
   "mimetype": "text/x-python",
   "name": "python",
   "nbconvert_exporter": "python",
   "pygments_lexer": "ipython2",
   "version": "2.7.12"
  }
 },
 "nbformat": 4,
 "nbformat_minor": 0
}
