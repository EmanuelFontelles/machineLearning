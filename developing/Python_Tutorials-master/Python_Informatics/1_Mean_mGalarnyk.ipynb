{
 "cells": [
  {
   "cell_type": "markdown",
   "metadata": {},
   "source": [
    "# Assignment 1 \"Mean\" \n",
    "# author: Michael Galarnyk\n"
   ]
  },
  {
   "cell_type": "code",
   "execution_count": 8,
   "metadata": {
    "collapsed": false
   },
   "outputs": [
    {
     "name": "stdout",
     "output_type": "stream",
     "text": [
      "Enter 1st floating point numeric:3.0\n"
     ]
    }
   ],
   "source": [
    "num1 = float(raw_input('Enter 1st floating point numeric:'))"
   ]
  },
  {
   "cell_type": "code",
   "execution_count": 9,
   "metadata": {
    "collapsed": false
   },
   "outputs": [
    {
     "name": "stdout",
     "output_type": "stream",
     "text": [
      "Enter 2nd floating point numeric:3.4\n"
     ]
    }
   ],
   "source": [
    "num2 = float(raw_input('Enter 2nd floating point numeric:'))"
   ]
  },
  {
   "cell_type": "code",
   "execution_count": 10,
   "metadata": {
    "collapsed": false
   },
   "outputs": [
    {
     "name": "stdout",
     "output_type": "stream",
     "text": [
      "Enter 3rd floating point numeric:2.3\n"
     ]
    }
   ],
   "source": [
    "num3 = float(raw_input('Enter 3rd floating point numeric:'))"
   ]
  },
  {
   "cell_type": "code",
   "execution_count": 11,
   "metadata": {
    "collapsed": false
   },
   "outputs": [
    {
     "name": "stdout",
     "output_type": "stream",
     "text": [
      "Enter 4th floating point numeric:4.5\n"
     ]
    }
   ],
   "source": [
    "num4 = float(raw_input('Enter 4th floating point numeric:'))"
   ]
  },
  {
   "cell_type": "code",
   "execution_count": 12,
   "metadata": {
    "collapsed": false
   },
   "outputs": [
    {
     "name": "stdout",
     "output_type": "stream",
     "text": [
      "Enter 5th floating point numeric:3.4\n"
     ]
    }
   ],
   "source": [
    "num5 = float(raw_input('Enter 5th floating point numeric:'))"
   ]
  },
  {
   "cell_type": "code",
   "execution_count": 13,
   "metadata": {
    "collapsed": false
   },
   "outputs": [
    {
     "name": "stdout",
     "output_type": "stream",
     "text": [
      "3.32\n"
     ]
    }
   ],
   "source": [
    "print (num1 + num2 + num3 + num4 + num5)/5.0"
   ]
  }
 ],
 "metadata": {
  "kernelspec": {
   "display_name": "Python 2",
   "language": "python",
   "name": "python2"
  },
  "language_info": {
   "codemirror_mode": {
    "name": "ipython",
    "version": 2
   },
   "file_extension": ".py",
   "mimetype": "text/x-python",
   "name": "python",
   "nbconvert_exporter": "python",
   "pygments_lexer": "ipython2",
   "version": "2.7.11"
  }
 },
 "nbformat": 4,
 "nbformat_minor": 0
}
