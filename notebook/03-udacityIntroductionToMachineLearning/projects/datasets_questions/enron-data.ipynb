{
 "cells": [
  {
   "cell_type": "code",
   "execution_count": 1,
   "metadata": {},
   "outputs": [],
   "source": [
    "import numpy as np\n",
    "import matplotlib.pyplot as plt\n",
    "import pandas as pd\n",
    "\n",
    "from utils import poiEmails, readData, readNames\n",
    "\n",
    "plt.style.use('seaborn')\n",
    "\n",
    "import sys\n",
    "sys.path.append('/storage/workspace/data/maildir/')"
   ]
  },
  {
   "cell_type": "markdown",
   "metadata": {},
   "source": [
    "## Features in the Enron Dataset"
   ]
  },
  {
   "cell_type": "code",
   "execution_count": 2,
   "metadata": {},
   "outputs": [],
   "source": [
    "enron_data = readData()\n",
    "email_list = poiEmails()\n",
    "names_poi = readNames()"
   ]
  },
  {
   "cell_type": "markdown",
   "metadata": {},
   "source": [
    "## Finding POI's in the Enron Data"
   ]
  },
  {
   "cell_type": "code",
   "execution_count": 3,
   "metadata": {},
   "outputs": [
    {
     "name": "stdout",
     "output_type": "stream",
     "text": [
      "Number of POI's: 18\n"
     ]
    }
   ],
   "source": [
    "pois = [x for x, y in enron_data.items() if y['poi']]\n",
    "print('Number of POI\\'s: {0}'.format(len(pois)))"
   ]
  },
  {
   "cell_type": "code",
   "execution_count": 4,
   "metadata": {},
   "outputs": [
    {
     "name": "stdout",
     "output_type": "stream",
     "text": [
      "The total value of the stock belonging to James Prentice: 1095040\n"
     ]
    }
   ],
   "source": [
    "print(\"The total value of the stock belonging to James Prentice:\", enron_data['PRENTICE JAMES']['total_stock_value'])"
   ]
  },
  {
   "cell_type": "code",
   "execution_count": 5,
   "metadata": {},
   "outputs": [
    {
     "data": {
      "text/plain": [
       "11"
      ]
     },
     "execution_count": 5,
     "metadata": {},
     "output_type": "execute_result"
    }
   ],
   "source": [
    "enron_data['COLWELL WESLEY']['from_this_person_to_poi']"
   ]
  },
  {
   "cell_type": "code",
   "execution_count": 6,
   "metadata": {},
   "outputs": [
    {
     "name": "stdout",
     "output_type": "stream",
     "text": [
      "The value of stock options exercised by Jeffrey K Skilling: 19250000\n"
     ]
    }
   ],
   "source": [
    "print(\"The value of stock options exercised by Jeffrey K Skilling:\", enron_data['SKILLING JEFFREY K']['exercised_stock_options'])"
   ]
  },
  {
   "cell_type": "markdown",
   "metadata": {},
   "source": [
    "## Follow the Money"
   ]
  },
  {
   "cell_type": "code",
   "execution_count": 7,
   "metadata": {},
   "outputs": [
    {
     "data": {
      "text/plain": [
       "[('LAY KENNETH L', 103559793),\n",
       " ('SKILLING JEFFREY K', 8682716),\n",
       " ('FASTOW ANDREW S', 2424083)]"
      ]
     },
     "execution_count": 7,
     "metadata": {},
     "output_type": "execute_result"
    }
   ],
   "source": [
    "names = ['SKILLING JEFFREY K', 'FASTOW ANDREW S', 'LAY KENNETH L']\n",
    "names_payments = {name:enron_data[name]['total_payments'] for name in names}\n",
    "sorted(names_payments.items(), key=lambda x: x[1], reverse=True)"
   ]
  },
  {
   "cell_type": "markdown",
   "metadata": {},
   "source": [
    "## Dealing with Unfilled Features"
   ]
  },
  {
   "cell_type": "code",
   "execution_count": 8,
   "metadata": {},
   "outputs": [
    {
     "name": "stdout",
     "output_type": "stream",
     "text": [
      "People has salary data: 95\n",
      "People has email: 111\n"
     ]
    }
   ],
   "source": [
    "df = pd.DataFrame(enron_data)\n",
    "print ('People has salary data: {0}'.format(sum(df.loc['salary',:] != 'NaN')))\n",
    "print ('People has email: {0}'.format(sum(df.loc['email_address',:] != 'NaN')))"
   ]
  },
  {
   "cell_type": "markdown",
   "metadata": {},
   "source": [
    "## Missing POI's 1"
   ]
  },
  {
   "cell_type": "code",
   "execution_count": 9,
   "metadata": {},
   "outputs": [
    {
     "name": "stdout",
     "output_type": "stream",
     "text": [
      "Number of people have “NaN” for their total payments: 21\n",
      "Percentage of people has email: 14.38%\n"
     ]
    }
   ],
   "source": [
    "# How many people in the E+F dataset (as it currently exists) have “NaN” for their total payments? \n",
    "# What percentage of people in the dataset as a whole is this?\n",
    "\n",
    "isnan = sum(df.loc['total_payments',:]=='NaN')\n",
    "_,cols = df.shape\n",
    "\n",
    "print('Number of people have “NaN” for their total payments: {0}'.format(isnan))\n",
    "print('Percentage of people has email: {0:.2f}%'.format(100. * isnan / cols ))"
   ]
  },
  {
   "cell_type": "code",
   "execution_count": 10,
   "metadata": {},
   "outputs": [
    {
     "name": "stdout",
     "output_type": "stream",
     "text": [
      "POI total_payments == 'NaN': 0 people = 0.00%\n"
     ]
    }
   ],
   "source": [
    "# How many POIs in the E+F dataset have “NaN” for their total payments? What percentage of POI’s as a whole is this?\n",
    "\n",
    "isnan = sum(df.loc['total_payments', pois]=='NaN')\n",
    "print('POI total_payments == \\'NaN\\': {0} people = {1:.2f}%'.format(isnan, 100.*isnan/len(pois)))"
   ]
  }
 ],
 "metadata": {
  "kernelspec": {
   "display_name": "Python 3",
   "language": "python",
   "name": "python3"
  },
  "language_info": {
   "codemirror_mode": {
    "name": "ipython",
    "version": 3
   },
   "file_extension": ".py",
   "mimetype": "text/x-python",
   "name": "python",
   "nbconvert_exporter": "python",
   "pygments_lexer": "ipython3",
   "version": "3.7.0"
  }
 },
 "nbformat": 4,
 "nbformat_minor": 2
}
