{
 "cells": [
  {
   "cell_type": "code",
   "execution_count": 1,
   "metadata": {},
   "outputs": [],
   "source": [
    "import numpy as np\n",
    "import matplotlib.pyplot as plt\n",
    "import pandas as pd\n",
    "import sys\n",
    "\n",
    "from utils import readData, poiEmails\n",
    "\n",
    "plt.style.use('seaborn')\n",
    "sys.path.append('/storage/workspace/data/maildir/')"
   ]
  },
  {
   "cell_type": "code",
   "execution_count": 2,
   "metadata": {},
   "outputs": [],
   "source": [
    "enron_data = readData()"
   ]
  },
  {
   "cell_type": "code",
   "execution_count": 3,
   "metadata": {},
   "outputs": [
    {
     "data": {
      "text/plain": [
       "(146, 21)"
      ]
     },
     "execution_count": 3,
     "metadata": {},
     "output_type": "execute_result"
    }
   ],
   "source": [
    "len(enron_data.keys()), len(enron_data['M'].keys())"
   ]
  },
  {
   "cell_type": "code",
   "execution_count": 4,
   "metadata": {},
   "outputs": [
    {
     "name": "stdout",
     "output_type": "stream",
     "text": [
      "18\n"
     ]
    }
   ],
   "source": [
    "n_poi=0\n",
    "\n",
    "for person_name in enron_data.keys():\n",
    "    if enron_data[person_name][\"poi\"]==1:\n",
    "        n_poi+=1\n",
    "    \n",
    "print(n_poi)    "
   ]
  },
  {
   "cell_type": "code",
   "execution_count": 5,
   "metadata": {},
   "outputs": [],
   "source": [
    "#cat '../final_project/poi_names.txt' | awk '{print $1\";\", $3\" \"$2}' | sed 's/,*\\r*$//' > 'new_poi_names.txt'"
   ]
  },
  {
   "cell_type": "code",
   "execution_count": 6,
   "metadata": {},
   "outputs": [],
   "source": [
    "names_poi = pd.read_csv('new_poi_names.txt', skiprows=2, delimiter=';', header=None, names=['Ans', 'Name'])"
   ]
  },
  {
   "cell_type": "code",
   "execution_count": 7,
   "metadata": {},
   "outputs": [
    {
     "data": {
      "text/html": [
       "<div>\n",
       "<style scoped>\n",
       "    .dataframe tbody tr th:only-of-type {\n",
       "        vertical-align: middle;\n",
       "    }\n",
       "\n",
       "    .dataframe tbody tr th {\n",
       "        vertical-align: top;\n",
       "    }\n",
       "\n",
       "    .dataframe thead th {\n",
       "        text-align: right;\n",
       "    }\n",
       "</style>\n",
       "<table border=\"1\" class=\"dataframe\">\n",
       "  <thead>\n",
       "    <tr style=\"text-align: right;\">\n",
       "      <th></th>\n",
       "      <th>Ans</th>\n",
       "      <th>Name</th>\n",
       "    </tr>\n",
       "  </thead>\n",
       "  <tbody>\n",
       "    <tr>\n",
       "      <th>0</th>\n",
       "      <td>(y)</td>\n",
       "      <td>Kenneth Lay</td>\n",
       "    </tr>\n",
       "    <tr>\n",
       "      <th>1</th>\n",
       "      <td>(y)</td>\n",
       "      <td>Jeffrey Skilling</td>\n",
       "    </tr>\n",
       "    <tr>\n",
       "      <th>2</th>\n",
       "      <td>(n)</td>\n",
       "      <td>Kevin Howard</td>\n",
       "    </tr>\n",
       "    <tr>\n",
       "      <th>3</th>\n",
       "      <td>(n)</td>\n",
       "      <td>Michael Krautz</td>\n",
       "    </tr>\n",
       "    <tr>\n",
       "      <th>4</th>\n",
       "      <td>(n)</td>\n",
       "      <td>Scott Yeager</td>\n",
       "    </tr>\n",
       "  </tbody>\n",
       "</table>\n",
       "</div>"
      ],
      "text/plain": [
       "   Ans               Name\n",
       "0  (y)        Kenneth Lay\n",
       "1  (y)   Jeffrey Skilling\n",
       "2  (n)       Kevin Howard\n",
       "3  (n)     Michael Krautz\n",
       "4  (n)       Scott Yeager"
      ]
     },
     "execution_count": 7,
     "metadata": {},
     "output_type": "execute_result"
    }
   ],
   "source": [
    "names_poi.head()"
   ]
  },
  {
   "cell_type": "code",
   "execution_count": 8,
   "metadata": {},
   "outputs": [],
   "source": []
  },
  {
   "cell_type": "code",
   "execution_count": 9,
   "metadata": {},
   "outputs": [],
   "source": [
    "email_list = poiEmails()"
   ]
  },
  {
   "cell_type": "code",
   "execution_count": 11,
   "metadata": {},
   "outputs": [
    {
     "data": {
      "text/plain": [
       "['kenneth_lay@enron.net',\n",
       " 'kenneth_lay@enron.com',\n",
       " 'klay.enron@enron.com',\n",
       " 'kenneth.lay@enron.com',\n",
       " 'klay@enron.com',\n",
       " 'layk@enron.com',\n",
       " 'chairman.ken@enron.com',\n",
       " 'jeffreyskilling@yahoo.com',\n",
       " 'jeff_skilling@enron.com',\n",
       " 'jskilling@enron.com',\n",
       " 'effrey.skilling@enron.com',\n",
       " 'skilling@enron.com',\n",
       " 'jeffrey.k.skilling@enron.com',\n",
       " 'jeff.skilling@enron.com',\n",
       " 'kevin_a_howard.enronxgate.enron@enron.net',\n",
       " 'kevin.howard@enron.com',\n",
       " 'kevin.howard@enron.net',\n",
       " 'kevin.howard@gcm.com',\n",
       " 'michael.krautz@enron.comscott.yeager@enron.com',\n",
       " 'syeager@fyi-net.com',\n",
       " 'scott_yeager@enron.net',\n",
       " 'syeager@flash.net',\n",
       " \"joe'.'hirko@enron.com\",\n",
       " 'joe.hirko@enron.com',\n",
       " 'rex.shelby@enron.com',\n",
       " 'rex.shelby@enron.nt',\n",
       " 'rex_shelby@enron.net',\n",
       " 'jbrown@enron.com',\n",
       " 'james.brown@enron.com',\n",
       " 'rick.causey@enron.com',\n",
       " 'richard.causey@enron.com',\n",
       " 'rcausey@enron.com',\n",
       " 'calger@enron.com',\n",
       " 'chris.calger@enron.com',\n",
       " 'christopher.calger@enron.com',\n",
       " 'ccalger@enron.com',\n",
       " 'tim_despain.enronxgate.enron@enron.net',\n",
       " 'tim.despain@enron.com',\n",
       " 'kevin_hannon@enron.com',\n",
       " \"kevin'.'hannon@enron.com\",\n",
       " 'kevin_hannon@enron.net',\n",
       " 'kevin.hannon@enron.com',\n",
       " 'mkoenig@enron.com',\n",
       " 'mark.koenig@enron.com',\n",
       " 'm..forney@enron.com',\n",
       " \"ken'.'rice@enron.com\",\n",
       " 'ken.rice@enron.com',\n",
       " 'ken_rice@enron.com',\n",
       " 'ken_rice@enron.net',\n",
       " 'paula.rieker@enron.com',\n",
       " 'prieker@enron.com',\n",
       " 'andrew.fastow@enron.com',\n",
       " 'lfastow@pdq.net',\n",
       " 'andrew.s.fastow@enron.com',\n",
       " 'lfastow@pop.pdq.net',\n",
       " 'andy.fastow@enron.com',\n",
       " 'david.w.delainey@enron.com',\n",
       " 'delainey.dave@enron.com',\n",
       " \"'delainey@enron.com\",\n",
       " 'david.delainey@enron.com',\n",
       " \"'david.delainey'@enron.com\",\n",
       " 'dave.delainey@enron.com',\n",
       " \"delainey'.'david@enron.com\",\n",
       " 'ben.glisan@enron.com',\n",
       " 'bglisan@enron.com',\n",
       " 'ben_f_glisan@enron.com',\n",
       " \"ben'.'glisan@enron.com\",\n",
       " 'jeff.richter@enron.com',\n",
       " 'jrichter@nwlink.com',\n",
       " 'lawrencelawyer@aol.com',\n",
       " \"lawyer'.'larry@enron.com\",\n",
       " 'larry_lawyer@enron.com',\n",
       " 'llawyer@enron.com',\n",
       " 'larry.lawyer@enron.com',\n",
       " 'lawrence.lawyer@enron.com',\n",
       " 'tbelden@enron.com',\n",
       " 'tim.belden@enron.com',\n",
       " 'tim_belden@pgn.com',\n",
       " 'tbelden@ect.enron.com',\n",
       " 'michael.kopper@enron.com',\n",
       " 'dave.duncan@enron.com',\n",
       " 'dave.duncan@cipco.org',\n",
       " 'duncan.dave@enron.com',\n",
       " 'ray.bowen@enron.com',\n",
       " 'raymond.bowen@enron.com',\n",
       " \"'bowen@enron.com\",\n",
       " 'wes.colwell@enron.com',\n",
       " 'dan.boyle@enron.com',\n",
       " 'cloehr@enron.com',\n",
       " 'chris.loehr@enron.com']"
      ]
     },
     "execution_count": 11,
     "metadata": {},
     "output_type": "execute_result"
    }
   ],
   "source": [
    "email_list"
   ]
  },
  {
   "cell_type": "code",
   "execution_count": null,
   "metadata": {},
   "outputs": [],
   "source": []
  }
 ],
 "metadata": {
  "kernelspec": {
   "display_name": "Python 3",
   "language": "python",
   "name": "python3"
  },
  "language_info": {
   "codemirror_mode": {
    "name": "ipython",
    "version": 3
   },
   "file_extension": ".py",
   "mimetype": "text/x-python",
   "name": "python",
   "nbconvert_exporter": "python",
   "pygments_lexer": "ipython3",
   "version": "3.7.0"
  }
 },
 "nbformat": 4,
 "nbformat_minor": 2
}
