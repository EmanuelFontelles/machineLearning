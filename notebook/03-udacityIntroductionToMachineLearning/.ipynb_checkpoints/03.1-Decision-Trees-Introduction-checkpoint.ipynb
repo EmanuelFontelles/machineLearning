{
 "cells": [
  {
   "cell_type": "code",
   "execution_count": 1,
   "metadata": {},
   "outputs": [
    {
     "data": {
      "text/plain": [
       "array([1])"
      ]
     },
     "execution_count": 1,
     "metadata": {},
     "output_type": "execute_result"
    }
   ],
   "source": [
    "from sklearn import tree\n",
    "X = [[0, 0], [1, 1]]\n",
    "Y = [0, 1]\n",
    "clf = tree.DecisionTreeClassifier()\n",
    "clf = clf.fit(X, Y)\n",
    "clf.predict([[2., 2.]])"
   ]
  },
  {
   "cell_type": "code",
   "execution_count": 1,
   "metadata": {},
   "outputs": [
    {
     "name": "stderr",
     "output_type": "stream",
     "text": [
      "/usr/lib/python2.7/site-packages/sklearn/cross_validation.py:41: DeprecationWarning: This module was deprecated in version 0.18 in favor of the model_selection module into which all the refactored classes and functions are moved. Also note that the interface of the new CV iterators are different from that of this module. This module will be removed in 0.20.\n",
      "  \"This module will be removed in 0.20.\", DeprecationWarning)\n"
     ]
    }
   ],
   "source": [
    "import sys\n",
    "sys.path.append('./projects/tools/')\n",
    "from email_preprocess import preprocess\n",
    "\n",
    "import numpy as np\n",
    "import matplotlib.pyplot as plt\n",
    "from time import time"
   ]
  },
  {
   "cell_type": "code",
   "execution_count": 2,
   "metadata": {},
   "outputs": [
    {
     "name": "stderr",
     "output_type": "stream",
     "text": [
      "/usr/lib/python2.7/site-packages/scipy/stats/stats.py:1713: FutureWarning: Using a non-tuple sequence for multidimensional indexing is deprecated; use `arr[tuple(seq)]` instead of `arr[seq]`. In the future this will be interpreted as an array index, `arr[np.array(seq)]`, which will result either in an error or a different result.\n",
      "  return np.add.reduce(sorted[indexer] * weights, axis=axis) / sumval\n"
     ]
    },
    {
     "name": "stdout",
     "output_type": "stream",
     "text": [
      "no. of Chris training emails: 7936\n",
      "no. of Sara training emails: 7884\n"
     ]
    }
   ],
   "source": [
    "features_train, features_test, labels_train, labels_test = preprocess(words_file = './projects/tools/word_data.pkl', \n",
    "                                                                      authors_file ='./projects/tools/email_authors.pkl')"
   ]
  },
  {
   "cell_type": "code",
   "execution_count": null,
   "metadata": {},
   "outputs": [],
   "source": [
    "features_train = features_train[:len(features_train)] \n",
    "labels_train = labels_train[:len(labels_train)]\n",
    "\n",
    "C = [10000.]    \n",
    "\n",
    "for c in C:    \n",
    "    clf = SVC(C=c, kernel=\"rbf\")\n",
    "\n",
    "    t0 = time()\n",
    "    y_fit = clf.fit(features_train, labels_train)\n",
    "    print (\"training time:\", round(time()-t0, 3), \"s\")\n",
    "\n",
    "    t0 = time()\n",
    "    pred = clf.predict(features_test)\n",
    "    print (\"predict time:\", round(time()-t0, 3), \"s\")\n",
    "    \n",
    "    acc = accuracy_score(pred, labels_test, normalize = True)\n",
    "    print(acc)\n",
    "    print('\\n')\n",
    "\n",
    "#     plt.scatter(features_train[:0], labels_train, c=labels_test)\n",
    "#     plt.show()"
   ]
  },
  {
   "cell_type": "code",
   "execution_count": 3,
   "metadata": {},
   "outputs": [
    {
     "name": "stdout",
     "output_type": "stream",
     "text": [
      "('training time:', 88.297, 's')\n",
      "('predict time:', 8.882, 's')\n"
     ]
    }
   ],
   "source": [
    "# features_train = features_train[:len(features_train)/100] \n",
    "# labels_train = labels_train[:len(labels_train)/100]\n",
    "\n",
    "features_train = features_train[:len(features_train)] \n",
    "labels_train = labels_train[:len(labels_train)]\n",
    "\n",
    "C = 10000.\n",
    "\n",
    "clf = SVC(C=C, kernel=\"rbf\")\n",
    "\n",
    "t0 = time()\n",
    "y_fit = clf.fit(features_train, labels_train)\n",
    "print (\"training time:\", round(time()-t0, 3), \"s\")\n",
    "\n",
    "t0 = time()\n",
    "pred = clf.predict(features_test)\n",
    "print (\"predict time:\", round(time()-t0, 3), \"s\")"
   ]
  },
  {
   "cell_type": "code",
   "execution_count": null,
   "metadata": {},
   "outputs": [],
   "source": [
    "answer = [pred[10],pred[26],pred[50]]\n",
    "print(answer)"
   ]
  },
  {
   "cell_type": "code",
   "execution_count": 4,
   "metadata": {},
   "outputs": [
    {
     "data": {
      "text/plain": [
       "877"
      ]
     },
     "execution_count": 4,
     "metadata": {},
     "output_type": "execute_result"
    }
   ],
   "source": [
    "np.count_nonzero(pred==1)"
   ]
  },
  {
   "cell_type": "code",
   "execution_count": 5,
   "metadata": {},
   "outputs": [
    {
     "name": "stdout",
     "output_type": "stream",
     "text": [
      "0.9908987485779295\n",
      "\n",
      "\n"
     ]
    }
   ],
   "source": [
    "acc = accuracy_score(pred, labels_test, normalize = True)\n",
    "print(acc)\n",
    "print('\\n')"
   ]
  },
  {
   "cell_type": "code",
   "execution_count": null,
   "metadata": {},
   "outputs": [],
   "source": []
  }
 ],
 "metadata": {
  "kernelspec": {
   "display_name": "Python 2",
   "language": "python",
   "name": "python2"
  },
  "language_info": {
   "codemirror_mode": {
    "name": "ipython",
    "version": 2
   },
   "file_extension": ".py",
   "mimetype": "text/x-python",
   "name": "python",
   "nbconvert_exporter": "python",
   "pygments_lexer": "ipython2",
   "version": "2.7.15"
  }
 },
 "nbformat": 4,
 "nbformat_minor": 2
}
